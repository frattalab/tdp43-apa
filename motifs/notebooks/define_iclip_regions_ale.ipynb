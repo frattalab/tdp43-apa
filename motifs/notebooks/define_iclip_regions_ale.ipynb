{
 "cells": [
  {
   "cell_type": "code",
   "execution_count": 31,
   "metadata": {},
   "outputs": [],
   "source": [
    "import pyranges as pr\n",
    "import pandas as pd\n",
    "import numpy as np\n",
    "from define_helpers import select_rep_site, _define_cryptic_status, select_rep_prox_site, select_rep_five_end\n",
    "from collections import Counter\n",
    "import os"
   ]
  },
  {
   "cell_type": "code",
   "execution_count": 32,
   "metadata": {},
   "outputs": [],
   "source": [
    "# input novel last exons used to generate combined reference of last exons (full last exon sequence, not just subtracted region)\n",
    "novel_le = pr.read_gtf(\"../data/papa/2023-03-29_papa_i3_cortical_upf1_zanovello_overlap_annotated.gtf\")\n",
    "# dexseq results df (used to extract cryptic events of each class)\n",
    "dexseq_df = pd.read_csv(\"../data/papa/2023-05-24_i3_cortical_zanovello.all_datasets.dexseq_apa.results.processed.cleaned.tsv\", sep=\"\\t\")\n",
    "\n",
    "\n",
    "# reference GTF used to identify novel last exons, quantify vs ref\n",
    "ref_gtf = pr.read_gtf(\"../data/reference_filtered.gtf\")\n",
    "# \n",
    "tx2le = pd.read_csv(\"../data/papa/novel_ref_combined.tx2le.tsv\", sep=\"\\t\")\n",
    "\n",
    "# last exon quantification regions used as input to Salmon\n",
    "quant_uniq_le = pr.read_gtf(\"../data/papa/novel_ref_combined.quant.last_exons.gtf\")\n",
    "\n",
    "\n",
    "info_df = pd.read_csv(\"../data/papa/novel_ref_combined.info.tsv\", sep=\"\\t\")"
   ]
  },
  {
   "cell_type": "code",
   "execution_count": 33,
   "metadata": {},
   "outputs": [
    {
     "name": "stdout",
     "output_type": "stream",
     "text": [
      "Event type - bleedthrough - number of IDs - 21\n",
      "Event type - bleedthrough,distal_3utr_extension - number of IDs - 3\n",
      "Event type - bleedthrough,spliced - number of IDs - 12\n",
      "Event type - distal_3utr_extension - number of IDs - 104\n",
      "Event type - spliced - number of IDs - 119\n",
      "Number of cryptic IDs failing manual validation - 34\n"
     ]
    }
   ],
   "source": [
    "# summary df of cryptic events following manual validation of bleedthrough events\n",
    "cryptics_df = pd.read_csv(\"../../preprocessing/processed/cryptics_summary_all_events_bleedthrough_manual_validation.tsv\", sep=\"\\t\")\n",
    "\n",
    "# load in IDs to remove entirely from analysis (remove as cryptic, but make sure nto included in overall background)\n",
    "with open(\"../../preprocessing/processed/cryptics_manual_validation_fail_le_ids.txt\", \"r\") as infile:\n",
    "    manual_validation_fail_ids = [line.rstrip(\"\\n\") for line in infile]\n",
    "\n",
    "# get a dict of set of le_ids in each case\n",
    "event_type_le_ids = cryptics_df.groupby(\"simple_event_type\")[\"le_id\"].agg(set).to_dict()\n",
    "\n",
    "for event_type, ids in event_type_le_ids.items():\n",
    "    print(f\"Event type - {event_type} - number of IDs - {len(ids)}\")\n",
    "\n",
    "print(f\"Number of cryptic IDs failing manual validation - {len(manual_validation_fail_ids)}\")"
   ]
  },
  {
   "cell_type": "code",
   "execution_count": 34,
   "metadata": {},
   "outputs": [
    {
     "data": {
      "text/html": [
       "<div>\n",
       "<style scoped>\n",
       "    .dataframe tbody tr th:only-of-type {\n",
       "        vertical-align: middle;\n",
       "    }\n",
       "\n",
       "    .dataframe tbody tr th {\n",
       "        vertical-align: top;\n",
       "    }\n",
       "\n",
       "    .dataframe thead th {\n",
       "        text-align: right;\n",
       "    }\n",
       "</style>\n",
       "<table border=\"1\" class=\"dataframe\">\n",
       "  <thead>\n",
       "    <tr style=\"text-align: right;\">\n",
       "      <th></th>\n",
       "      <th>experiment_name</th>\n",
       "      <th>binID</th>\n",
       "      <th>groupID</th>\n",
       "      <th>featureID</th>\n",
       "      <th>exonBaseMean</th>\n",
       "      <th>dispersion</th>\n",
       "      <th>stat</th>\n",
       "      <th>pvalue</th>\n",
       "      <th>padj</th>\n",
       "      <th>UsageCoefficient_base</th>\n",
       "      <th>...</th>\n",
       "      <th>annot_status</th>\n",
       "      <th>transcript_id</th>\n",
       "      <th>chromosome</th>\n",
       "      <th>strand</th>\n",
       "      <th>start</th>\n",
       "      <th>end</th>\n",
       "      <th>mean_PPAU_base</th>\n",
       "      <th>mean_PPAU_treatment</th>\n",
       "      <th>delta_PPAU_treatment_control</th>\n",
       "      <th>simple_event_type</th>\n",
       "    </tr>\n",
       "  </thead>\n",
       "  <tbody>\n",
       "    <tr>\n",
       "      <th>0</th>\n",
       "      <td>brown_i3_cortical</td>\n",
       "      <td>ENSG00000021645.20:E001</td>\n",
       "      <td>ENSG00000021645.20</td>\n",
       "      <td>E001</td>\n",
       "      <td>32.627088</td>\n",
       "      <td>0.044220</td>\n",
       "      <td>90.962787</td>\n",
       "      <td>1.463997e-21</td>\n",
       "      <td>2.250563e-19</td>\n",
       "      <td>1.452069</td>\n",
       "      <td>...</td>\n",
       "      <td>novel</td>\n",
       "      <td>PAPA.TDP-4.18197.2</td>\n",
       "      <td>chr14</td>\n",
       "      <td>+</td>\n",
       "      <td>7.829867e+07</td>\n",
       "      <td>7.830620e+07</td>\n",
       "      <td>0.001914</td>\n",
       "      <td>0.033848</td>\n",
       "      <td>0.031934</td>\n",
       "      <td>spliced</td>\n",
       "    </tr>\n",
       "    <tr>\n",
       "      <th>1</th>\n",
       "      <td>brown_i3_cortical</td>\n",
       "      <td>ENSG00000021645.20:E002</td>\n",
       "      <td>ENSG00000021645.20</td>\n",
       "      <td>E002</td>\n",
       "      <td>622.521901</td>\n",
       "      <td>0.022117</td>\n",
       "      <td>135.739619</td>\n",
       "      <td>2.274890e-31</td>\n",
       "      <td>5.061630e-29</td>\n",
       "      <td>12.675156</td>\n",
       "      <td>...</td>\n",
       "      <td>annotated</td>\n",
       "      <td>ENST00000557594.5,ENST00000428277.6,ENST000002...</td>\n",
       "      <td>chr14</td>\n",
       "      <td>+</td>\n",
       "      <td>7.986104e+39</td>\n",
       "      <td>7.986248e+39</td>\n",
       "      <td>0.998086</td>\n",
       "      <td>0.934776</td>\n",
       "      <td>-0.063310</td>\n",
       "      <td>spliced</td>\n",
       "    </tr>\n",
       "    <tr>\n",
       "      <th>2</th>\n",
       "      <td>brown_i3_cortical</td>\n",
       "      <td>ENSG00000021645.20:E002</td>\n",
       "      <td>ENSG00000021645.20</td>\n",
       "      <td>E002</td>\n",
       "      <td>622.521901</td>\n",
       "      <td>0.022117</td>\n",
       "      <td>135.739619</td>\n",
       "      <td>2.274890e-31</td>\n",
       "      <td>5.061630e-29</td>\n",
       "      <td>12.675156</td>\n",
       "      <td>...</td>\n",
       "      <td>annotated</td>\n",
       "      <td>ENST00000557594.5,ENST00000428277.6,ENST000002...</td>\n",
       "      <td>chr14</td>\n",
       "      <td>+</td>\n",
       "      <td>7.986104e+39</td>\n",
       "      <td>7.986248e+39</td>\n",
       "      <td>0.998086</td>\n",
       "      <td>0.934776</td>\n",
       "      <td>-0.063310</td>\n",
       "      <td>spliced</td>\n",
       "    </tr>\n",
       "    <tr>\n",
       "      <th>3</th>\n",
       "      <td>brown_i3_cortical</td>\n",
       "      <td>ENSG00000048649.14:E001</td>\n",
       "      <td>ENSG00000048649.14</td>\n",
       "      <td>E001</td>\n",
       "      <td>163.262346</td>\n",
       "      <td>0.037855</td>\n",
       "      <td>88.319669</td>\n",
       "      <td>5.568698e-21</td>\n",
       "      <td>8.407740e-19</td>\n",
       "      <td>4.515264</td>\n",
       "      <td>...</td>\n",
       "      <td>novel</td>\n",
       "      <td>PAPA.doxconc_DOX_0075_2.11065.7,PAPA.TDP43-G_S...</td>\n",
       "      <td>chr11</td>\n",
       "      <td>-</td>\n",
       "      <td>7.781315e+71</td>\n",
       "      <td>7.781379e+71</td>\n",
       "      <td>0.090158</td>\n",
       "      <td>0.462779</td>\n",
       "      <td>0.372622</td>\n",
       "      <td>spliced</td>\n",
       "    </tr>\n",
       "    <tr>\n",
       "      <th>4</th>\n",
       "      <td>brown_i3_cortical</td>\n",
       "      <td>ENSG00000048649.14:E001</td>\n",
       "      <td>ENSG00000048649.14</td>\n",
       "      <td>E001</td>\n",
       "      <td>163.262346</td>\n",
       "      <td>0.037855</td>\n",
       "      <td>88.319669</td>\n",
       "      <td>5.568698e-21</td>\n",
       "      <td>8.407740e-19</td>\n",
       "      <td>4.515264</td>\n",
       "      <td>...</td>\n",
       "      <td>annotated</td>\n",
       "      <td>PAPA.doxconc_DOX_0075_2.11065.7,PAPA.TDP43-G_S...</td>\n",
       "      <td>chr11</td>\n",
       "      <td>-</td>\n",
       "      <td>7.781315e+71</td>\n",
       "      <td>7.781379e+71</td>\n",
       "      <td>0.090158</td>\n",
       "      <td>0.462779</td>\n",
       "      <td>0.372622</td>\n",
       "      <td>spliced</td>\n",
       "    </tr>\n",
       "    <tr>\n",
       "      <th>...</th>\n",
       "      <td>...</td>\n",
       "      <td>...</td>\n",
       "      <td>...</td>\n",
       "      <td>...</td>\n",
       "      <td>...</td>\n",
       "      <td>...</td>\n",
       "      <td>...</td>\n",
       "      <td>...</td>\n",
       "      <td>...</td>\n",
       "      <td>...</td>\n",
       "      <td>...</td>\n",
       "      <td>...</td>\n",
       "      <td>...</td>\n",
       "      <td>...</td>\n",
       "      <td>...</td>\n",
       "      <td>...</td>\n",
       "      <td>...</td>\n",
       "      <td>...</td>\n",
       "      <td>...</td>\n",
       "      <td>...</td>\n",
       "      <td>...</td>\n",
       "    </tr>\n",
       "    <tr>\n",
       "      <th>209479</th>\n",
       "      <td>zanovello_skndz_curve_1</td>\n",
       "      <td>ENSG00000280789.2:E002</td>\n",
       "      <td>ENSG00000280789.2</td>\n",
       "      <td>E002</td>\n",
       "      <td>99.077638</td>\n",
       "      <td>12.000000</td>\n",
       "      <td>0.006587</td>\n",
       "      <td>9.353145e-01</td>\n",
       "      <td>9.785953e-01</td>\n",
       "      <td>5.982423</td>\n",
       "      <td>...</td>\n",
       "      <td>novel</td>\n",
       "      <td>PAPA.chx_tdp_CTRL_ctrl_4.15153.2</td>\n",
       "      <td>chr16</td>\n",
       "      <td>+</td>\n",
       "      <td>2.981955e+07</td>\n",
       "      <td>2.982252e+07</td>\n",
       "      <td>0.181220</td>\n",
       "      <td>0.333333</td>\n",
       "      <td>0.152113</td>\n",
       "      <td>distal_3utr_extension</td>\n",
       "    </tr>\n",
       "    <tr>\n",
       "      <th>209480</th>\n",
       "      <td>zanovello_skndz_curve_1</td>\n",
       "      <td>ENSG00000280832.2:E001</td>\n",
       "      <td>ENSG00000280832.2</td>\n",
       "      <td>E001</td>\n",
       "      <td>75.778902</td>\n",
       "      <td>0.099478</td>\n",
       "      <td>0.075875</td>\n",
       "      <td>7.829679e-01</td>\n",
       "      <td>9.189656e-01</td>\n",
       "      <td>6.014731</td>\n",
       "      <td>...</td>\n",
       "      <td>annotated</td>\n",
       "      <td>ENST00000626810.1</td>\n",
       "      <td>chr11</td>\n",
       "      <td>-</td>\n",
       "      <td>1.263502e+08</td>\n",
       "      <td>1.263518e+08</td>\n",
       "      <td>0.133144</td>\n",
       "      <td>0.147606</td>\n",
       "      <td>0.014462</td>\n",
       "      <td>spliced</td>\n",
       "    </tr>\n",
       "    <tr>\n",
       "      <th>209481</th>\n",
       "      <td>zanovello_skndz_curve_1</td>\n",
       "      <td>ENSG00000280832.2:E002</td>\n",
       "      <td>ENSG00000280832.2</td>\n",
       "      <td>E002</td>\n",
       "      <td>402.882205</td>\n",
       "      <td>0.085732</td>\n",
       "      <td>0.087526</td>\n",
       "      <td>7.673463e-01</td>\n",
       "      <td>9.134343e-01</td>\n",
       "      <td>12.145436</td>\n",
       "      <td>...</td>\n",
       "      <td>annotated</td>\n",
       "      <td>ENST00000629441.2</td>\n",
       "      <td>chr11</td>\n",
       "      <td>-</td>\n",
       "      <td>1.263409e+08</td>\n",
       "      <td>1.263423e+08</td>\n",
       "      <td>0.866856</td>\n",
       "      <td>0.852394</td>\n",
       "      <td>-0.014462</td>\n",
       "      <td>spliced</td>\n",
       "    </tr>\n",
       "    <tr>\n",
       "      <th>209482</th>\n",
       "      <td>zanovello_skndz_curve_1</td>\n",
       "      <td>ENSG00000282508.2:E001</td>\n",
       "      <td>ENSG00000282508.2</td>\n",
       "      <td>E001</td>\n",
       "      <td>43.093715</td>\n",
       "      <td>0.060733</td>\n",
       "      <td>0.017535</td>\n",
       "      <td>8.946533e-01</td>\n",
       "      <td>9.665471e-01</td>\n",
       "      <td>4.668928</td>\n",
       "      <td>...</td>\n",
       "      <td>annotated</td>\n",
       "      <td>ENST00000633109.1</td>\n",
       "      <td>chr19</td>\n",
       "      <td>-</td>\n",
       "      <td>2.112510e+05</td>\n",
       "      <td>2.117150e+05</td>\n",
       "      <td>0.678888</td>\n",
       "      <td>0.582547</td>\n",
       "      <td>-0.096341</td>\n",
       "      <td>spliced</td>\n",
       "    </tr>\n",
       "    <tr>\n",
       "      <th>209483</th>\n",
       "      <td>zanovello_skndz_curve_1</td>\n",
       "      <td>ENSG00000282508.2:E002</td>\n",
       "      <td>ENSG00000282508.2</td>\n",
       "      <td>E002</td>\n",
       "      <td>27.050964</td>\n",
       "      <td>0.069219</td>\n",
       "      <td>0.014790</td>\n",
       "      <td>9.032054e-01</td>\n",
       "      <td>9.693684e-01</td>\n",
       "      <td>3.817323</td>\n",
       "      <td>...</td>\n",
       "      <td>annotated</td>\n",
       "      <td>ENST00000631988.1,ENST00000631797.1,ENST000006...</td>\n",
       "      <td>chr19</td>\n",
       "      <td>-</td>\n",
       "      <td>2.014082e+29</td>\n",
       "      <td>2.016622e+29</td>\n",
       "      <td>0.149081</td>\n",
       "      <td>0.131692</td>\n",
       "      <td>-0.017389</td>\n",
       "      <td>spliced</td>\n",
       "    </tr>\n",
       "  </tbody>\n",
       "</table>\n",
       "<p>209085 rows × 28 columns</p>\n",
       "</div>"
      ],
      "text/plain": [
       "                experiment_name                    binID             groupID  \\\n",
       "0             brown_i3_cortical  ENSG00000021645.20:E001  ENSG00000021645.20   \n",
       "1             brown_i3_cortical  ENSG00000021645.20:E002  ENSG00000021645.20   \n",
       "2             brown_i3_cortical  ENSG00000021645.20:E002  ENSG00000021645.20   \n",
       "3             brown_i3_cortical  ENSG00000048649.14:E001  ENSG00000048649.14   \n",
       "4             brown_i3_cortical  ENSG00000048649.14:E001  ENSG00000048649.14   \n",
       "...                         ...                      ...                 ...   \n",
       "209479  zanovello_skndz_curve_1   ENSG00000280789.2:E002   ENSG00000280789.2   \n",
       "209480  zanovello_skndz_curve_1   ENSG00000280832.2:E001   ENSG00000280832.2   \n",
       "209481  zanovello_skndz_curve_1   ENSG00000280832.2:E002   ENSG00000280832.2   \n",
       "209482  zanovello_skndz_curve_1   ENSG00000282508.2:E001   ENSG00000282508.2   \n",
       "209483  zanovello_skndz_curve_1   ENSG00000282508.2:E002   ENSG00000282508.2   \n",
       "\n",
       "       featureID  exonBaseMean  dispersion        stat        pvalue  \\\n",
       "0           E001     32.627088    0.044220   90.962787  1.463997e-21   \n",
       "1           E002    622.521901    0.022117  135.739619  2.274890e-31   \n",
       "2           E002    622.521901    0.022117  135.739619  2.274890e-31   \n",
       "3           E001    163.262346    0.037855   88.319669  5.568698e-21   \n",
       "4           E001    163.262346    0.037855   88.319669  5.568698e-21   \n",
       "...          ...           ...         ...         ...           ...   \n",
       "209479      E002     99.077638   12.000000    0.006587  9.353145e-01   \n",
       "209480      E001     75.778902    0.099478    0.075875  7.829679e-01   \n",
       "209481      E002    402.882205    0.085732    0.087526  7.673463e-01   \n",
       "209482      E001     43.093715    0.060733    0.017535  8.946533e-01   \n",
       "209483      E002     27.050964    0.069219    0.014790  9.032054e-01   \n",
       "\n",
       "                padj  UsageCoefficient_base  ...  annot_status  \\\n",
       "0       2.250563e-19               1.452069  ...         novel   \n",
       "1       5.061630e-29              12.675156  ...     annotated   \n",
       "2       5.061630e-29              12.675156  ...     annotated   \n",
       "3       8.407740e-19               4.515264  ...         novel   \n",
       "4       8.407740e-19               4.515264  ...     annotated   \n",
       "...              ...                    ...  ...           ...   \n",
       "209479  9.785953e-01               5.982423  ...         novel   \n",
       "209480  9.189656e-01               6.014731  ...     annotated   \n",
       "209481  9.134343e-01              12.145436  ...     annotated   \n",
       "209482  9.665471e-01               4.668928  ...     annotated   \n",
       "209483  9.693684e-01               3.817323  ...     annotated   \n",
       "\n",
       "                                            transcript_id chromosome  strand  \\\n",
       "0                                      PAPA.TDP-4.18197.2      chr14       +   \n",
       "1       ENST00000557594.5,ENST00000428277.6,ENST000002...      chr14       +   \n",
       "2       ENST00000557594.5,ENST00000428277.6,ENST000002...      chr14       +   \n",
       "3       PAPA.doxconc_DOX_0075_2.11065.7,PAPA.TDP43-G_S...      chr11       -   \n",
       "4       PAPA.doxconc_DOX_0075_2.11065.7,PAPA.TDP43-G_S...      chr11       -   \n",
       "...                                                   ...        ...     ...   \n",
       "209479                   PAPA.chx_tdp_CTRL_ctrl_4.15153.2      chr16       +   \n",
       "209480                                  ENST00000626810.1      chr11       -   \n",
       "209481                                  ENST00000629441.2      chr11       -   \n",
       "209482                                  ENST00000633109.1      chr19       -   \n",
       "209483  ENST00000631988.1,ENST00000631797.1,ENST000006...      chr19       -   \n",
       "\n",
       "               start           end mean_PPAU_base mean_PPAU_treatment  \\\n",
       "0       7.829867e+07  7.830620e+07       0.001914            0.033848   \n",
       "1       7.986104e+39  7.986248e+39       0.998086            0.934776   \n",
       "2       7.986104e+39  7.986248e+39       0.998086            0.934776   \n",
       "3       7.781315e+71  7.781379e+71       0.090158            0.462779   \n",
       "4       7.781315e+71  7.781379e+71       0.090158            0.462779   \n",
       "...              ...           ...            ...                 ...   \n",
       "209479  2.981955e+07  2.982252e+07       0.181220            0.333333   \n",
       "209480  1.263502e+08  1.263518e+08       0.133144            0.147606   \n",
       "209481  1.263409e+08  1.263423e+08       0.866856            0.852394   \n",
       "209482  2.112510e+05  2.117150e+05       0.678888            0.582547   \n",
       "209483  2.014082e+29  2.016622e+29       0.149081            0.131692   \n",
       "\n",
       "       delta_PPAU_treatment_control      simple_event_type  \n",
       "0                          0.031934                spliced  \n",
       "1                         -0.063310                spliced  \n",
       "2                         -0.063310                spliced  \n",
       "3                          0.372622                spliced  \n",
       "4                          0.372622                spliced  \n",
       "...                             ...                    ...  \n",
       "209479                     0.152113  distal_3utr_extension  \n",
       "209480                     0.014462                spliced  \n",
       "209481                    -0.014462                spliced  \n",
       "209482                    -0.096341                spliced  \n",
       "209483                    -0.017389                spliced  \n",
       "\n",
       "[209085 rows x 28 columns]"
      ]
     },
     "execution_count": 34,
     "metadata": {},
     "output_type": "execute_result"
    }
   ],
   "source": [
    "# filter out failed IDs from dexseq df (so not included as background)\n",
    "dexseq_df = dexseq_df[~dexseq_df[\"le_id\"].isin(manual_validation_fail_ids)]\n",
    "dexseq_df"
   ]
  },
  {
   "cell_type": "code",
   "execution_count": 35,
   "metadata": {},
   "outputs": [
    {
     "data": {
      "text/plain": [
       "simple_event_type\n",
       "spliced                  130806\n",
       "bleedthrough              41054\n",
       "distal_3utr_extension     37225\n",
       "Name: count, dtype: int64"
      ]
     },
     "execution_count": 35,
     "metadata": {},
     "output_type": "execute_result"
    }
   ],
   "source": [
    "# get le_ids that are novel bleedthroughs or ALEs\n",
    "# le_id_spliced = set(dexseq_df[dexseq_df.simple_event_type == \"distal_3utr_extension\"].le_id)\n",
    "# le_id_bleed = set(dexseq_df[dexseq_df.simple_event_type == \"distal_3utr_extension\"].le_id)\n",
    "dexseq_df.simple_event_type.value_counts()\n"
   ]
  },
  {
   "cell_type": "code",
   "execution_count": 36,
   "metadata": {},
   "outputs": [
    {
     "name": "stdout",
     "output_type": "stream",
     "text": [
      "Number of spliced ALE events - 7978\n",
      "Number of bleedthrough ALE events - 3565\n",
      "Number of 3'UTR-ALE events - 3369\n"
     ]
    }
   ],
   "source": [
    "# extract lists of event types\n",
    "le_id_spliced = dexseq_df.loc[dexseq_df.simple_event_type == \"spliced\", \"le_id\"]\n",
    "le_id_bleed = dexseq_df.loc[dexseq_df.simple_event_type == \"bleedthrough\", \"le_id\"]\n",
    "le_id_d3utr = dexseq_df.loc[dexseq_df.simple_event_type == \"distal_3utr_extension\", \"le_id\"]\n",
    "\n",
    "print(f\"Number of spliced ALE events - {len(set(le_id_spliced))}\")\n",
    "print(f\"Number of bleedthrough ALE events - {len(set(le_id_bleed))}\")\n",
    "print(f\"Number of 3'UTR-ALE events - {len(set(le_id_d3utr))}\")"
   ]
  },
  {
   "cell_type": "code",
   "execution_count": 37,
   "metadata": {},
   "outputs": [
    {
     "name": "stdout",
     "output_type": "stream",
     "text": [
      "Number of le_ids with bleedthrough and spliced annotations - 986\n"
     ]
    }
   ],
   "source": [
    "# how many le_ids have multiple annotations?\n",
    "le_id_spliced_bleed = set(le_id_spliced).intersection(set(le_id_bleed))\n",
    "print(f\"Number of le_ids with bleedthrough and spliced annotations - {len(le_id_spliced_bleed)}\")"
   ]
  },
  {
   "attachments": {},
   "cell_type": "markdown",
   "metadata": {},
   "source": []
  },
  {
   "cell_type": "code",
   "execution_count": 38,
   "metadata": {},
   "outputs": [
    {
     "name": "stdout",
     "output_type": "stream",
     "text": [
      "Number of spliced ALE events (after removing category-overlapping events) - 6992\n",
      "Number of bleedthrough ALE events (after removing category-overlapping events) - 2579\n"
     ]
    }
   ],
   "source": [
    "# remvoe le_ids with multiple annotations from list (to avoid ambiguity about annotations)\n",
    "le_id_spliced = le_id_spliced[~le_id_spliced.isin(le_id_spliced_bleed)]\n",
    "le_id_bleed = le_id_bleed[~le_id_bleed.isin(le_id_spliced_bleed)]\n",
    "print(f\"Number of spliced ALE events (after removing category-overlapping events) - {le_id_spliced.nunique()}\")\n",
    "print(f\"Number of bleedthrough ALE events (after removing category-overlapping events) - {le_id_bleed.nunique()}\")\n"
   ]
  },
  {
   "cell_type": "code",
   "execution_count": 60,
   "metadata": {},
   "outputs": [
    {
     "data": {
      "text/plain": [
       "simple_event_type\n",
       "spliced                               119\n",
       "distal_3utr_extension                 104\n",
       "bleedthrough                           21\n",
       "bleedthrough,spliced                   12\n",
       "bleedthrough,distal_3utr_extension      3\n",
       "Name: count, dtype: int64"
      ]
     },
     "execution_count": 60,
     "metadata": {},
     "output_type": "execute_result"
    }
   ],
   "source": [
    "cryptics_df.simple_event_type.value_counts()"
   ]
  },
  {
   "cell_type": "code",
   "execution_count": 62,
   "metadata": {},
   "outputs": [
    {
     "data": {
      "text/plain": [
       "250"
      ]
     },
     "execution_count": 62,
     "metadata": {},
     "output_type": "execute_result"
    }
   ],
   "source": [
    "cryptics_df.gene_name.nunique()"
   ]
  },
  {
   "cell_type": "code",
   "execution_count": 40,
   "metadata": {},
   "outputs": [
    {
     "data": {
      "text/plain": [
       "annot_status\n",
       "novel              185\n",
       "annotated           55\n",
       "annotated,novel     19\n",
       "Name: count, dtype: int64"
      ]
     },
     "execution_count": 40,
     "metadata": {},
     "output_type": "execute_result"
    }
   ],
   "source": [
    "cryptics_df.annot_status.value_counts()"
   ]
  },
  {
   "cell_type": "code",
   "execution_count": 41,
   "metadata": {},
   "outputs": [
    {
     "data": {
      "text/plain": [
       "annot_status     simple_event_type                 \n",
       "annotated        bleedthrough                            3\n",
       "                 bleedthrough,spliced                    4\n",
       "                 spliced                                48\n",
       "annotated,novel  bleedthrough,spliced                    6\n",
       "                 spliced                                13\n",
       "novel            bleedthrough                           18\n",
       "                 bleedthrough,distal_3utr_extension      3\n",
       "                 bleedthrough,spliced                    2\n",
       "                 distal_3utr_extension                 104\n",
       "                 spliced                                58\n",
       "Name: count, dtype: int64"
      ]
     },
     "execution_count": 41,
     "metadata": {},
     "output_type": "execute_result"
    }
   ],
   "source": [
    "cryptics_df[[\"annot_status\",\"simple_event_type\"]].value_counts(sort=False)"
   ]
  },
  {
   "cell_type": "code",
   "execution_count": 42,
   "metadata": {},
   "outputs": [
    {
     "name": "stdout",
     "output_type": "stream",
     "text": [
      "Number of cryptic spliced last exons - 119\n",
      "Number of cryptic bleedthrough last exons - 21\n"
     ]
    }
   ],
   "source": [
    "# pull out cryptic IDs from summary df\n",
    "le_id_spliced_cryp = set(cryptics_df.loc[cryptics_df[\"simple_event_type\"] == \"spliced\", \"le_id\"])\n",
    "le_id_bleed_cryp = set(cryptics_df.loc[cryptics_df[\"simple_event_type\"] == \"bleedthrough\", \"le_id\"])\n",
    "\n",
    "\n",
    "print(f\"Number of cryptic spliced last exons - {len(le_id_spliced_cryp)}\")\n",
    "print(f\"Number of cryptic bleedthrough last exons - {len(le_id_bleed_cryp)}\")"
   ]
  },
  {
   "cell_type": "code",
   "execution_count": 43,
   "metadata": {},
   "outputs": [
    {
     "name": "stdout",
     "output_type": "stream",
     "text": [
      "Number of novel cryptic spliced last exons - 71\n",
      "Number of novel cryptic bleedthrough last exons - 18\n"
     ]
    }
   ],
   "source": [
    "# get a set of novel cryptic IDs so can track where they go\n",
    "le_id_spliced_novel_cryp = set(cryptics_df[(cryptics_df[\"annot_status\"].isin([\"annotated,novel\", \"novel\"])) & (cryptics_df[\"simple_event_type\"] == \"spliced\")].le_id)\n",
    "le_id_bleed_novel_cryp = set(cryptics_df[(cryptics_df[\"annot_status\"].isin([\"annotated,novel\", \"novel\"])) & (cryptics_df[\"simple_event_type\"] == \"bleedthrough\")].le_id)\n",
    "\n",
    "print(f\"Number of novel cryptic spliced last exons - {len(le_id_spliced_novel_cryp)}\")\n",
    "print(f\"Number of novel cryptic bleedthrough last exons - {len(le_id_bleed_novel_cryp)}\")\n"
   ]
  },
  {
   "cell_type": "code",
   "execution_count": 44,
   "metadata": {},
   "outputs": [
    {
     "name": "stdout",
     "output_type": "stream",
     "text": [
      "Number of spliced ALE events (before removing those with a novel extended 3'UTR) - 6992\n",
      "Number of spliced ALE events (after removing those with a novel extended 3'UTR) - 4189\n"
     ]
    }
   ],
   "source": [
    "# good idea to ensure don't consider spliced LEs that have a 3'UTR extension\n",
    "# UPDATE now need to select representative proximal site for each distal site, since quantification approach lumps together all annotated proximal sites (and compares them to extension) \n",
    "# since le_ids are annotated sequentially, know that immediately succeeding le_number is the partner le_id\n",
    "le_id_spliced_spl = le_id_spliced.str.split(\"_\", regex=False, expand=True)\n",
    "le_id_spliced_spl[1] = le_id_spliced_spl[1].astype(int).add(1)\n",
    "# reconstruct le_id (corresponding to theoretical distal 3'UTR extension le_id)\n",
    "le_id_spliced_d3utr = le_id_spliced_spl[0].str.cat(le_id_spliced_spl[1].astype(str), sep=\"_\")\n",
    "\n",
    "# now have theoretical distal 3'UTR le_ids, intersect with actual ids - any overlapping will be removed from downstream analysis\n",
    "spliced_d3utr_olap = le_id_spliced_d3utr.isin(le_id_d3utr.values)\n",
    "# print(f\"Number of spliced last exons with 3'UTR extension - {spliced_d3utr_olap.sum()}\")\n",
    "\n",
    "print(f\"Number of spliced ALE events (before removing those with a novel extended 3'UTR) - {len(set(le_id_spliced))}\")\n",
    "# now use mask to remove these ALEs\n",
    "le_id_spliced_d3utr_olap = le_id_spliced[spliced_d3utr_olap]\n",
    "le_id_spliced = le_id_spliced[~spliced_d3utr_olap]\n",
    "\n",
    "\n",
    "print(f\"Number of spliced ALE events (after removing those with a novel extended 3'UTR) - {len(set(le_id_spliced))}\")\n"
   ]
  },
  {
   "cell_type": "code",
   "execution_count": 45,
   "metadata": {},
   "outputs": [],
   "source": [
    "# add le_id used in downstream analysis to original df of novel last exons\n",
    "novel_le = novel_le.apply(lambda df: df.merge(tx2le, on=\"transcript_id\", how=\"inner\", suffixes=[None, \"_quant\"]))\n"
   ]
  },
  {
   "cell_type": "code",
   "execution_count": 46,
   "metadata": {},
   "outputs": [
    {
     "name": "stdout",
     "output_type": "stream",
     "text": [
      "Fraction of novel cryptic last exons that are retained in the input reference of novel last exons - 1.0\n"
     ]
    }
   ],
   "source": [
    "# Double check that all novel cryptic LEs are retained\n",
    "print(f\"Fraction of novel cryptic last exons that are retained in the input reference of novel last exons - {len(set(novel_le.subset(lambda df: df.le_id_quant.isin(le_id_spliced_novel_cryp)).le_id_quant)) / len(le_id_spliced_novel_cryp)}\")"
   ]
  },
  {
   "cell_type": "code",
   "execution_count": 47,
   "metadata": {},
   "outputs": [
    {
     "name": "stdout",
     "output_type": "stream",
     "text": [
      "Number of novel spliced intervals before selecting representative LEs - 4500\n",
      "Number of novel spliced intervals after selecting representative LEs - 1053\n",
      "{'atlas_1_pred': 460, 'atlas_max_datasets': 106, 'atlas_max_datasets_shortest': 79, 'motif_1_min': 301, 'motif_shortest_min': 84}\n"
     ]
    }
   ],
   "source": [
    "# Select representative PAS for bleedthroughs and spliced events (novel)\n",
    "novel_le_rep_spliced, rep_choices_spliced = select_rep_site(novel_le.subset(lambda df: df.le_id_quant.isin(set(le_id_spliced))), id_col=\"le_id_quant\")\n",
    "\n",
    "\n",
    "print(f\"Number of novel spliced intervals before selecting representative LEs - {len(novel_le.subset(lambda df: df.le_id_quant.isin(set(le_id_spliced))))}\")\n",
    "print(f\"Number of novel spliced intervals after selecting representative LEs - {len(novel_le_rep_spliced)}\")\n",
    "print({dec: len(ids) for dec, ids in rep_choices_spliced.items()})\n",
    "\n",
    "\n"
   ]
  },
  {
   "cell_type": "code",
   "execution_count": 48,
   "metadata": {},
   "outputs": [
    {
     "name": "stdout",
     "output_type": "stream",
     "text": [
      "3\n",
      "{'ENSG00000184441.4_1', 'ENSG00000197837.4_1', 'ENSG00000247572.9_4'}\n"
     ]
    }
   ],
   "source": [
    "# see if any missing ids\n",
    "missing_novel_cryp_spl = le_id_spliced_novel_cryp - set(novel_le_rep_spliced.subset(lambda df: df.le_id_quant.isin(le_id_spliced_novel_cryp)).le_id_quant)\n",
    "print(len(missing_novel_cryp_spl))\n",
    "print(missing_novel_cryp_spl)\n"
   ]
  },
  {
   "cell_type": "code",
   "execution_count": 49,
   "metadata": {},
   "outputs": [
    {
     "data": {
      "text/html": [
       "<div>\n",
       "<style scoped>\n",
       "    .dataframe tbody tr th:only-of-type {\n",
       "        vertical-align: middle;\n",
       "    }\n",
       "\n",
       "    .dataframe tbody tr th {\n",
       "        vertical-align: top;\n",
       "    }\n",
       "\n",
       "    .dataframe thead th {\n",
       "        text-align: right;\n",
       "    }\n",
       "</style>\n",
       "<table border=\"1\" class=\"dataframe\">\n",
       "  <thead>\n",
       "    <tr style=\"text-align: right;\">\n",
       "      <th></th>\n",
       "      <th>le_id</th>\n",
       "      <th>gene_name</th>\n",
       "      <th>simple_event_type</th>\n",
       "      <th>annot_status</th>\n",
       "    </tr>\n",
       "  </thead>\n",
       "  <tbody>\n",
       "    <tr>\n",
       "      <th>230</th>\n",
       "      <td>ENSG00000184441.4_1</td>\n",
       "      <td>ENSG00000184441</td>\n",
       "      <td>spliced</td>\n",
       "      <td>annotated,novel</td>\n",
       "    </tr>\n",
       "    <tr>\n",
       "      <th>238</th>\n",
       "      <td>ENSG00000197837.4_1</td>\n",
       "      <td>H4-16</td>\n",
       "      <td>spliced</td>\n",
       "      <td>annotated,novel</td>\n",
       "    </tr>\n",
       "    <tr>\n",
       "      <th>251</th>\n",
       "      <td>ENSG00000247572.9_4</td>\n",
       "      <td>CKMT2-AS1</td>\n",
       "      <td>spliced</td>\n",
       "      <td>annotated,novel</td>\n",
       "    </tr>\n",
       "  </tbody>\n",
       "</table>\n",
       "</div>"
      ],
      "text/plain": [
       "                   le_id        gene_name simple_event_type     annot_status\n",
       "230  ENSG00000184441.4_1  ENSG00000184441           spliced  annotated,novel\n",
       "238  ENSG00000197837.4_1            H4-16           spliced  annotated,novel\n",
       "251  ENSG00000247572.9_4        CKMT2-AS1           spliced  annotated,novel"
      ]
     },
     "execution_count": 49,
     "metadata": {},
     "output_type": "execute_result"
    }
   ],
   "source": [
    "# what are the three missing IDs?\n",
    "cryptics_df.loc[cryptics_df.le_id.isin(missing_novel_cryp_spl), [\"le_id\", \"gene_name\", \"simple_event_type\", \"annot_status\"]]"
   ]
  },
  {
   "cell_type": "code",
   "execution_count": 50,
   "metadata": {},
   "outputs": [
    {
     "data": {
      "text/plain": [
       "{'ENSG00000184441.4_1', 'ENSG00000197837.4_1', 'ENSG00000247572.9_4'}"
      ]
     },
     "execution_count": 50,
     "metadata": {},
     "output_type": "execute_result"
    }
   ],
   "source": [
    "# were they included in the input set of novel last exons provided to function?\n",
    "missing_novel_cryp_spl.difference(le_id_spliced)"
   ]
  },
  {
   "cell_type": "code",
   "execution_count": 51,
   "metadata": {},
   "outputs": [
    {
     "data": {
      "text/plain": [
       "{'ENSG00000184441.4_1', 'ENSG00000197837.4_1', 'ENSG00000247572.9_4'}"
      ]
     },
     "execution_count": 51,
     "metadata": {},
     "output_type": "execute_result"
    }
   ],
   "source": [
    "# were they excluded because the same last exon has a novel distal 3'UTR extension?\n",
    "missing_novel_cryp_spl.intersection(le_id_spliced_d3utr_olap)"
   ]
  },
  {
   "cell_type": "code",
   "execution_count": 53,
   "metadata": {},
   "outputs": [
    {
     "data": {
      "text/plain": [
       "set()"
      ]
     },
     "execution_count": 53,
     "metadata": {},
     "output_type": "execute_result"
    }
   ],
   "source": [
    "# were they excuded because also annotated as bleedthrough?\n",
    "missing_novel_cryp_spl.intersection(le_id_spliced_bleed)"
   ]
  },
  {
   "cell_type": "code",
   "execution_count": 54,
   "metadata": {},
   "outputs": [
    {
     "data": {
      "text/html": [
       "<div>\n",
       "<style scoped>\n",
       "    .dataframe tbody tr th:only-of-type {\n",
       "        vertical-align: middle;\n",
       "    }\n",
       "\n",
       "    .dataframe tbody tr th {\n",
       "        vertical-align: top;\n",
       "    }\n",
       "\n",
       "    .dataframe thead th {\n",
       "        text-align: right;\n",
       "    }\n",
       "</style>\n",
       "<table border=\"1\" class=\"dataframe\">\n",
       "  <thead>\n",
       "    <tr style=\"text-align: right;\">\n",
       "      <th></th>\n",
       "      <th>le_id</th>\n",
       "      <th>gene_name</th>\n",
       "      <th>simple_event_type</th>\n",
       "    </tr>\n",
       "  </thead>\n",
       "  <tbody>\n",
       "    <tr>\n",
       "      <th>797</th>\n",
       "      <td>ENSG00000247572.9_4</td>\n",
       "      <td>CKMT2-AS1</td>\n",
       "      <td>spliced</td>\n",
       "    </tr>\n",
       "    <tr>\n",
       "      <th>820</th>\n",
       "      <td>ENSG00000184441.4_1</td>\n",
       "      <td>ENSG00000184441</td>\n",
       "      <td>spliced</td>\n",
       "    </tr>\n",
       "    <tr>\n",
       "      <th>3002</th>\n",
       "      <td>ENSG00000197837.4_1</td>\n",
       "      <td>H4-16</td>\n",
       "      <td>spliced</td>\n",
       "    </tr>\n",
       "  </tbody>\n",
       "</table>\n",
       "</div>"
      ],
      "text/plain": [
       "                    le_id        gene_name simple_event_type\n",
       "797   ENSG00000247572.9_4        CKMT2-AS1           spliced\n",
       "820   ENSG00000184441.4_1  ENSG00000184441           spliced\n",
       "3002  ENSG00000197837.4_1            H4-16           spliced"
      ]
     },
     "execution_count": 54,
     "metadata": {},
     "output_type": "execute_result"
    }
   ],
   "source": [
    "# were they in le_id_spliced intially (which was just pulled from dexseq_df)\n",
    "dexseq_df.loc[dexseq_df.le_id.isin(missing_novel_cryp_spl), [\"le_id\", \"gene_name\", \"simple_event_type\"]].drop_duplicates()"
   ]
  },
  {
   "cell_type": "markdown",
   "metadata": {},
   "source": [
    "Know not present in le_id_spliced\n",
    "- not because wasn't in df to begin with\n",
    "- not because also annotated as bleedthrough\n",
    "- because also has an novel 3'UTR extension at the locus\n",
    "\n",
    "These events appear to be occurring at very complex loci, so I think it's reasonable not to include them for these maps. Should check IGV though\n"
   ]
  },
  {
   "cell_type": "code",
   "execution_count": 55,
   "metadata": {},
   "outputs": [
    {
     "name": "stdout",
     "output_type": "stream",
     "text": [
      "Number of bleedthrough intervals before selecting representative LEs - 3358\n",
      "Number of bleedthrough intervals after selecting representative LEs - 917\n",
      "{'atlas_1_pred': 414, 'atlas_max_datasets': 94, 'atlas_max_datasets_shortest': 74, 'motif_1_min': 315, 'motif_shortest_min': 14}\n"
     ]
    }
   ],
   "source": [
    "# Select representative PAS for bleedthroughs and spliced events\n",
    "novel_le_rep_bleed, rep_choices_bleed = select_rep_site(novel_le.subset(lambda df: df.le_id_quant.isin(set(le_id_bleed))), id_col=\"le_id_quant\")\n",
    "\n",
    "print(f\"Number of bleedthrough intervals before selecting representative LEs - {len(novel_le.subset(lambda df: df.le_id_quant.isin(set(le_id_bleed))))}\")\n",
    "print(f\"Number of bleedthrough intervals after selecting representative LEs - {len(novel_le_rep_bleed)}\")\n",
    "print({dec: len(ids) for dec, ids in rep_choices_bleed.items()})"
   ]
  },
  {
   "cell_type": "code",
   "execution_count": 56,
   "metadata": {},
   "outputs": [
    {
     "data": {
      "text/plain": [
       "0"
      ]
     },
     "execution_count": 56,
     "metadata": {},
     "output_type": "execute_result"
    }
   ],
   "source": [
    "# see if any missing ids\n",
    "missing_cryp_bleed = le_id_bleed_novel_cryp - set(novel_le_rep_bleed.subset(lambda df: df.le_id_quant.isin(le_id_bleed_novel_cryp)).le_id_quant)\n",
    "len(missing_cryp_bleed)"
   ]
  },
  {
   "cell_type": "code",
   "execution_count": 57,
   "metadata": {},
   "outputs": [
    {
     "data": {
      "text/plain": [
       "18"
      ]
     },
     "execution_count": 57,
     "metadata": {},
     "output_type": "execute_result"
    }
   ],
   "source": [
    "# note this number is lower than the 21 cryptic bleedthrough events I identified... Hopefully that is just because the other 3 are annotated\n",
    "len(le_id_bleed_novel_cryp)"
   ]
  },
  {
   "cell_type": "code",
   "execution_count": 58,
   "metadata": {},
   "outputs": [
    {
     "name": "stdout",
     "output_type": "stream",
     "text": [
      "Number of cryptic ALE-containing genes - 250\n",
      "Number of cryptic ALE isoforms - 250\n",
      "Number of ns ALE-containing genes - 2938\n",
      "Number of ns ALE isoforms - 6367\n"
     ]
    }
   ],
   "source": [
    "# now want to generate an ID with minimal info required for making maps\n",
    "# 3'end coordinates/last exon, gene name, le_id, site type, regulation status\n",
    "# site_type - spliced/bleedthrough\n",
    "# regulation_status - cryptic/background\n",
    "\n",
    "\n",
    "# define cryptic le_ids\n",
    "# define cryptic gene_ids\n",
    "cryp_le_ids = set(cryptics_df.le_id)\n",
    "cryp_gene_names = set(cryptics_df.gene_name)\n",
    "\n",
    "\n",
    "# define cryptic & background le_ids\n",
    "# background - ns in any dataset (to do this, get list of sig in any dataset)\n",
    "# get gene IDs with no regulated ALEs in any dataset\n",
    "# returns pd.Series (index = groupIDs)\n",
    "ns_gene_ids = (dexseq_df.assign(reg_status=lambda df: np.where(df[\"padj\"].le(0.05), 1, 0))\n",
    "               .groupby(\"groupID\")\n",
    "               [\"reg_status\"]\n",
    "               .sum()\n",
    "               .loc[lambda x: x == 0]\n",
    "             )\n",
    "\n",
    "# set of le_ids that belong to genes with no significant ALEs (is this too conservative?)\n",
    "ns_le_ids = set(dexseq_df.loc[dexseq_df[\"groupID\"].isin(ns_gene_ids.index), \"le_id\"])\n",
    "\n",
    "\n",
    "print(f\"Number of cryptic ALE-containing genes - {len(cryp_gene_names)}\")\n",
    "print(f\"Number of cryptic ALE isoforms - {len(cryp_gene_names)}\")\n",
    "\n",
    "print(f\"Number of ns ALE-containing genes - {len(set(ns_gene_ids.index))}\")\n",
    "print(f\"Number of ns ALE isoforms - {len(set(ns_le_ids))}\")\n"
   ]
  },
  {
   "cell_type": "code",
   "execution_count": 99,
   "metadata": {},
   "outputs": [
    {
     "name": "stdout",
     "output_type": "stream",
     "text": [
      "Gene counts for the number of SH-SY5Y datasets in which genes are expressed\n",
      "experiment_name\n",
      "3    2582\n",
      "1    1068\n",
      "2     704\n",
      "Name: count, dtype: int64\n",
      "Number of ns ALE-containing genes expressed in all SH-SY5Y datasets - 1577\n",
      "Number of ns ALE isoforms of genes expressed in all SH-SY5Y datasets - 3624\n",
      "Of the genes containing ALE isoforms, how many datasets are the individual isoforms expressed in?\n",
      "experiment_name\n",
      "3    3304\n",
      "1     185\n",
      "2     135\n",
      "Name: count, dtype: int64\n",
      "Number of ns ALE isoforms expressed in all SH-SY5Y datasets - 3304\n"
     ]
    }
   ],
   "source": [
    "# Alternative definition of background (more conservative)\n",
    "# not significant in any SH-SY5Y dataset, but expressed/evaluated in at least one of them (so know is multi-ALE in at least one dataset)\n",
    "# NB: extra-check that expressed/evaluated in all 3? Then confident that is a multi-ALE gene robustly expressed/detected\n",
    "shsy5y_datasets = [\"zanovello_shsy5y_curve_0075\", \"zanovello_shsy5y_chx_kd_ctl_vs_ctl_ctl\", \"brown_shsy5y\"]\n",
    "dexseq_df_shsy5y = dexseq_df.loc[dexseq_df.experiment_name.isin(shsy5y_datasets), :]\n",
    "\n",
    "# first get an experiment count for each event\n",
    "gene_n_shsy5y_expressed = (dexseq_df_shsy5y\n",
    ".groupby(\"groupID\")\n",
    "[\"experiment_name\"]\n",
    ".nunique()\n",
    ")\n",
    "\n",
    "print(\"Gene counts for the number of SH-SY5Y datasets in which genes are expressed\")\n",
    "print(gene_n_shsy5y_expressed.value_counts())\n",
    "\n",
    "# get genes expressed in all SH-SY5Y datasets but with no sig change in any of them \n",
    "ns_gene_ids_shsy5y = (dexseq_df_shsy5y.loc[dexseq_df_shsy5y.groupID.isin(set(gene_n_shsy5y_expressed[gene_n_shsy5y_expressed == len(shsy5y_datasets)].index)), :]\n",
    ".assign(reg_status=lambda df: np.where(df[\"padj\"].le(0.05), 1, 0))\n",
    "               .groupby(\"groupID\")\n",
    "               [\"reg_status\"]\n",
    "               .sum()\n",
    "               .loc[lambda x: x == 0]\n",
    ")\n",
    "\n",
    "# set of\n",
    "ns_le_ids_shsy5y = set(dexseq_df_shsy5y.loc[dexseq_df_shsy5y[\"groupID\"].isin(ns_gene_ids_shsy5y.index), \"le_id\"])\n",
    "\n",
    "\n",
    "print(f\"Number of ns ALE-containing genes expressed in all SH-SY5Y datasets - {len(ns_gene_ids_shsy5y.index)}\")\n",
    "print(f\"Number of ns ALE isoforms of genes expressed in all SH-SY5Y datasets - {len(set(ns_le_ids_shsy5y))}\")\n",
    "\n",
    "# le_ids in genes with no differential usage in any dataset that are also expressed/assessed in all datasets\n",
    "ns_le_ids_shsy5y_all = set(dexseq_df_shsy5y[dexseq_df_shsy5y.le_id.isin(ns_le_ids_shsy5y)]\n",
    ".groupby(\"le_id\")\n",
    "[\"experiment_name\"]\n",
    ".nunique()\n",
    ".loc[lambda x: x == 3]\n",
    ".index\n",
    ")\n",
    "\n",
    "print(\"Of the genes containing ALE isoforms, how many datasets are the individual isoforms expressed in?\")\n",
    "print(dexseq_df_shsy5y[dexseq_df_shsy5y.le_id.isin(ns_le_ids_shsy5y)]\n",
    ".groupby(\"le_id\")\n",
    "[\"experiment_name\"]\n",
    ".nunique()\n",
    ".value_counts()\n",
    ")\n",
    "\n",
    "print(f\"Number of ns ALE isoforms expressed in all SH-SY5Y datasets - {len(ns_le_ids_shsy5y_all)}\")\n",
    "# (dexseq_df.assign(reg_status=lambda df: np.where(df[\"padj\"].le(0.05), 1, 0))\n",
    "#                .groupby(\"groupID\")\n",
    "#                [\"reg_status\"]\n",
    "#                .sum()\n",
    "#                \n",
    "#              )\n",
    "\n",
    "# dexseq_df.experiment_name.drop_duplicates()"
   ]
  },
  {
   "cell_type": "code",
   "execution_count": 108,
   "metadata": {},
   "outputs": [
    {
     "name": "stdout",
     "output_type": "stream",
     "text": [
      "Number of events using isoforms expressed in all SH-SY5Y datasets\n",
      "cryptic_status\n",
      "NULL          690\n",
      "background    209\n",
      "cryptic        18\n",
      "Name: count, dtype: int64\n"
     ]
    },
    {
     "data": {
      "text/plain": [
       "cryptic_status\n",
       "NULL          641\n",
       "background    258\n",
       "cryptic        18\n",
       "Name: count, dtype: int64"
      ]
     },
     "execution_count": 108,
     "metadata": {},
     "output_type": "execute_result"
    }
   ],
   "source": [
    "# assign cryptic status for novel bleedthroughs, using different SHSY5y genes as background\n",
    "# novel_le_rep_bleed_shsy5y = novel_le_rep_bleed.assign(\"cryptic_status\", lambda df: _define_cryptic_status(df, cryp_le_ids, ns_le_ids_shsy5y, id_col=\"le_id_quant\"))\n",
    "\n",
    "# use le_id_bleed_novel_cryp - novel to annotation cryptic bleedthrough last exons\n",
    "novel_le_rep_bleed_shsy5y_all = novel_le_rep_bleed.assign(\"cryptic_status\", lambda df: _define_cryptic_status(df, le_id_bleed_novel_cryp, ns_le_ids_shsy5y_all, id_col=\"le_id_quant\"))\n",
    "print(\"Number of events using isoforms expressed in all SH-SY5Y datasets\")\n",
    "print(novel_le_rep_bleed_shsy5y_all.cryptic_status.value_counts())\n",
    "\n",
    "\n",
    "# assign cryptic status for novel bleedthroughs, using standard ns as background (ns in all datasets)\n",
    "novel_le_rep_bleed = novel_le_rep_bleed.assign(\"cryptic_status\", lambda df: _define_cryptic_status(df, le_id_bleed_novel_cryp, ns_le_ids, id_col=\"le_id_quant\"))\n",
    "novel_le_rep_bleed.cryptic_status.value_counts()\n"
   ]
  },
  {
   "cell_type": "code",
   "execution_count": 109,
   "metadata": {},
   "outputs": [
    {
     "name": "stdout",
     "output_type": "stream",
     "text": [
      "Number of events using isoforms expressed in all SH-SY5Y datasets\n",
      "cryptic_status\n",
      "NULL          736\n",
      "background    249\n",
      "cryptic        68\n",
      "Name: count, dtype: int64\n"
     ]
    },
    {
     "data": {
      "text/plain": [
       "cryptic_status\n",
       "NULL          693\n",
       "background    269\n",
       "cryptic        68\n",
       "Name: count, dtype: int64"
      ]
     },
     "execution_count": 109,
     "metadata": {},
     "output_type": "execute_result"
    }
   ],
   "source": [
    "# assign cryptic status for novel spliced events, using isoforms expressed in all SH-SY5Y experiments but unchanged in all as background\n",
    "novel_le_rep_spliced_shsy5y_all = novel_le_rep_spliced.assign(\"cryptic_status\", lambda df: _define_cryptic_status(df, le_id_spliced_novel_cryp, ns_le_ids_shsy5y_all, id_col=\"le_id_quant\"))\n",
    "print(\"Number of events using isoforms expressed in all SH-SY5Y datasets\")\n",
    "print(novel_le_rep_spliced_shsy5y_all.cryptic_status.value_counts())\n",
    "\n",
    "\n",
    "# assign cryptic status for novel spliced events\n",
    "novel_le_rep_spliced = novel_le_rep_spliced.assign(\"cryptic_status\", lambda df: _define_cryptic_status(df, le_id_spliced_novel_cryp, ns_le_ids, id_col=\"le_id_quant\"))\n",
    "novel_le_rep_spliced.as_df().drop_duplicates(subset=\"le_id_quant\").cryptic_status.value_counts()"
   ]
  },
  {
   "cell_type": "code",
   "execution_count": 155,
   "metadata": {},
   "outputs": [],
   "source": [
    "def construct_bed_name(gr: pr.PyRanges, site_type: str, gene_name_col: str = \"gene_name_ref\", le_id_col: str = \"le_id_quant\"):\n",
    "     '''construct name field of output file - le_id|gene_name|site_type|cryptic_status\n",
    "\n",
    "     Parameters\n",
    "     ----------\n",
    "     gr : pr.PyRanges\n",
    "         _description_\n",
    "     site_type : str\n",
    "         _description_\n",
    "\n",
    "     Returns\n",
    "     -------\n",
    "     _type_\n",
    "         _description_\n",
    "     '''\n",
    "     # remove genes not assigned to cryptic/background\n",
    "     gr = gr.subset(lambda df: df[\"cryptic_status\"].ne(\"NULL\"))\n",
    "    \n",
    "     # some ref_gene_name entries are duplicated - collapse as appropriate\n",
    "     gr = gr.assign(gene_name_col + \"_tmp\",\n",
    "         # list(dict.fromkeys(x.split(\",\"))) - drops duplicates whilst preserving order\n",
    "         # some ref_gene_name entries have multiple gene names\n",
    "         lambda df: df[gene_name_col].apply(lambda x: \",\".join(list(dict.fromkeys(x.split(\",\")))))\n",
    "         )\n",
    "\n",
    "     # assign temp col of category of event\n",
    "     gr = gr.assign(\"site_type\", lambda df: pd.Series([site_type]*len(df.index), index=df.index))\n",
    "    \n",
    "    # Assign final Name field\n",
    "     gr = (gr.assign(\"Name\",\n",
    "                    lambda df: df[le_id_col].str.cat(df[[gene_name_col + \"_tmp\", \"site_type\", \"cryptic_status\"]], sep=\"|\"))\n",
    "                    .drop([\"site_type\", gene_name_col + \"_tmp\"])\n",
    "                    )\n",
    "\n",
    "     return gr"
   ]
  },
  {
   "cell_type": "code",
   "execution_count": 118,
   "metadata": {},
   "outputs": [],
   "source": [
    "# Construct 'name' string with minimal annotation information\n",
    "# le_id|gene_name|site_type|cryptic_status\n",
    "novel_le_rep_bleed = construct_bed_name(novel_le_rep_bleed, \"bleedthrough\")\n",
    "novel_le_rep_bleed_shsy5y_all = construct_bed_name(novel_le_rep_bleed_shsy5y_all, \"bleedthrough\")\n",
    "novel_le_rep_spliced = construct_bed_name(novel_le_rep_spliced, \"spliced\")\n",
    "novel_le_rep_spliced_shsy5y_all = construct_bed_name(novel_le_rep_spliced_shsy5y_all, \"spliced\")"
   ]
  },
  {
   "cell_type": "code",
   "execution_count": null,
   "metadata": {},
   "outputs": [],
   "source": [
    "# # Construct 'name' string with minimal annotation information\n",
    "# # le_id|gene_name|site_type|cryptic_status\n",
    "\n",
    "# novel_le_rep_spliced = (novel_le_rep_spliced\n",
    "#  .subset(lambda df: df[\"cryptic_status\"].ne(\"NULL\"))\n",
    "#  .assign(\"gene_name_ref\",\n",
    "#          # list(dict.fromkeys(x.split(\",\"))) - drops duplicates whilst preserving order\n",
    "#          # some ref_gene_name entries have multiple gene names\n",
    "#          lambda df: df[\"gene_name_ref\"].apply(lambda x: \",\".join(list(dict.fromkeys(x.split(\",\")))))\n",
    "#          )\n",
    "#          .assign(\"site_type\",\n",
    "#                  lambda df: pd.Series([\"spliced\"]*len(df.index), index=df.index))\n",
    "#  .assign(\"Name\",\n",
    "#                           lambda df: df[\"le_id_quant\"].str.cat(df[[\"gene_name_ref\", \"site_type\", \"cryptic_status\"]], sep=\"|\"))\n",
    "                    \n",
    "# )\n",
    "\n",
    "# novel_le_rep_bleed = (novel_le_rep_bleed\n",
    "#  .subset(lambda df: df[\"cryptic_status\"].ne(\"NULL\"))\n",
    "#  .assign(\"gene_name_ref\",\n",
    "#          # list(dict.fromkeys(x.split(\",\"))) - drops duplicates whilst preserving order\n",
    "#          # some ref_gene_name entries have multiple gene names\n",
    "#          lambda df: df[\"gene_name_ref\"].apply(lambda x: \",\".join(list(dict.fromkeys(x.split(\",\")))))\n",
    "#          )\n",
    "#          .assign(\"site_type\",\n",
    "#                  lambda df: pd.Series([\"bleedthrough\"]*len(df.index), index=df.index))\n",
    "#  .assign(\"Name\",\n",
    "#                           lambda df: df[\"le_id_quant\"].str.cat(df[[\"gene_name_ref\", \"site_type\", \"cryptic_status\"]], sep=\"|\"))\n",
    "                    \n",
    "# )"
   ]
  },
  {
   "cell_type": "code",
   "execution_count": null,
   "metadata": {},
   "outputs": [],
   "source": [
    "# novel_le_rep_spliced.subset(lambda df: df.cryptic_status == \"cryptic\")[[\"le_id\",\"Name\"]]"
   ]
  },
  {
   "cell_type": "code",
   "execution_count": 119,
   "metadata": {},
   "outputs": [
    {
     "data": {
      "text/html": [
       "<div>\n",
       "<style scoped>\n",
       "    .dataframe tbody tr th:only-of-type {\n",
       "        vertical-align: middle;\n",
       "    }\n",
       "\n",
       "    .dataframe tbody tr th {\n",
       "        vertical-align: top;\n",
       "    }\n",
       "\n",
       "    .dataframe thead th {\n",
       "        text-align: right;\n",
       "    }\n",
       "</style>\n",
       "<table border=\"1\" class=\"dataframe\">\n",
       "  <thead>\n",
       "    <tr style=\"text-align: right;\">\n",
       "      <th></th>\n",
       "      <th>transcript_id</th>\n",
       "      <th>le_id</th>\n",
       "      <th>Name</th>\n",
       "    </tr>\n",
       "  </thead>\n",
       "  <tbody>\n",
       "    <tr>\n",
       "      <th>0</th>\n",
       "      <td>PAPA.CTRL-6.141.2</td>\n",
       "      <td>ENSG00000041988.16_2</td>\n",
       "      <td>ENSG00000041988.16_2|THAP3|bleedthrough|backgr...</td>\n",
       "    </tr>\n",
       "    <tr>\n",
       "      <th>1</th>\n",
       "      <td>PAPA.DZ_curves_0_2.2152.1</td>\n",
       "      <td>ENSG00000054282.16_2</td>\n",
       "      <td>ENSG00000054282.16_2|SDCCAG8|bleedthrough|back...</td>\n",
       "    </tr>\n",
       "    <tr>\n",
       "      <th>2</th>\n",
       "      <td>PAPA.doxconc_DOX_0075_1.1061.3</td>\n",
       "      <td>ENSG00000116830.12_2</td>\n",
       "      <td>ENSG00000116830.12_2|TTF2|bleedthrough|background</td>\n",
       "    </tr>\n",
       "    <tr>\n",
       "      <th>3</th>\n",
       "      <td>PAPA.doxconc_NT_0_3.354.1</td>\n",
       "      <td>ENSG00000117682.17_6</td>\n",
       "      <td>ENSG00000117682.17_6|DHDDS|bleedthrough|backgr...</td>\n",
       "    </tr>\n",
       "    <tr>\n",
       "      <th>4</th>\n",
       "      <td>PAPA.NT_19074719_S22.1162.5</td>\n",
       "      <td>ENSG00000122481.17_2</td>\n",
       "      <td>ENSG00000122481.17_2|RWDD3|bleedthrough|backgr...</td>\n",
       "    </tr>\n",
       "    <tr>\n",
       "      <th>...</th>\n",
       "      <td>...</td>\n",
       "      <td>...</td>\n",
       "      <td>...</td>\n",
       "    </tr>\n",
       "    <tr>\n",
       "      <th>271</th>\n",
       "      <td>PAPA.chx_tdp_DOX_ctrl_1.20539.9</td>\n",
       "      <td>ENSG00000147255.19_1</td>\n",
       "      <td>ENSG00000147255.19_1|IGSF1|bleedthrough|backgr...</td>\n",
       "    </tr>\n",
       "    <tr>\n",
       "      <th>272</th>\n",
       "      <td>PAPA.TDP43-G_S7.20350.2</td>\n",
       "      <td>ENSG00000180182.11_3</td>\n",
       "      <td>ENSG00000180182.11_3|MED14|bleedthrough|cryptic</td>\n",
       "    </tr>\n",
       "    <tr>\n",
       "      <th>273</th>\n",
       "      <td>PAPA.chx_tdp_DOX_ctrl_4.20438.1</td>\n",
       "      <td>ENSG00000181544.16_2</td>\n",
       "      <td>ENSG00000181544.16_2|FANCB|bleedthrough|backgr...</td>\n",
       "    </tr>\n",
       "    <tr>\n",
       "      <th>274</th>\n",
       "      <td>PAPA.doxconc_DOX_0075_3.18826.2</td>\n",
       "      <td>ENSG00000183943.6_2</td>\n",
       "      <td>ENSG00000183943.6_2|PRKX|bleedthrough|background</td>\n",
       "    </tr>\n",
       "    <tr>\n",
       "      <th>275</th>\n",
       "      <td>PAPA.TDP43_ctrl_2.26896.10</td>\n",
       "      <td>ENSG00000213468.7_1</td>\n",
       "      <td>ENSG00000213468.7_1|FIRRE|bleedthrough|cryptic</td>\n",
       "    </tr>\n",
       "  </tbody>\n",
       "</table>\n",
       "<p>276 rows × 3 columns</p>\n",
       "</div>"
      ],
      "text/plain": [
       "                       transcript_id                 le_id  \\\n",
       "0                  PAPA.CTRL-6.141.2  ENSG00000041988.16_2   \n",
       "1          PAPA.DZ_curves_0_2.2152.1  ENSG00000054282.16_2   \n",
       "2     PAPA.doxconc_DOX_0075_1.1061.3  ENSG00000116830.12_2   \n",
       "3          PAPA.doxconc_NT_0_3.354.1  ENSG00000117682.17_6   \n",
       "4        PAPA.NT_19074719_S22.1162.5  ENSG00000122481.17_2   \n",
       "..                               ...                   ...   \n",
       "271  PAPA.chx_tdp_DOX_ctrl_1.20539.9  ENSG00000147255.19_1   \n",
       "272          PAPA.TDP43-G_S7.20350.2  ENSG00000180182.11_3   \n",
       "273  PAPA.chx_tdp_DOX_ctrl_4.20438.1  ENSG00000181544.16_2   \n",
       "274  PAPA.doxconc_DOX_0075_3.18826.2   ENSG00000183943.6_2   \n",
       "275       PAPA.TDP43_ctrl_2.26896.10   ENSG00000213468.7_1   \n",
       "\n",
       "                                                  Name  \n",
       "0    ENSG00000041988.16_2|THAP3|bleedthrough|backgr...  \n",
       "1    ENSG00000054282.16_2|SDCCAG8|bleedthrough|back...  \n",
       "2    ENSG00000116830.12_2|TTF2|bleedthrough|background  \n",
       "3    ENSG00000117682.17_6|DHDDS|bleedthrough|backgr...  \n",
       "4    ENSG00000122481.17_2|RWDD3|bleedthrough|backgr...  \n",
       "..                                                 ...  \n",
       "271  ENSG00000147255.19_1|IGSF1|bleedthrough|backgr...  \n",
       "272    ENSG00000180182.11_3|MED14|bleedthrough|cryptic  \n",
       "273  ENSG00000181544.16_2|FANCB|bleedthrough|backgr...  \n",
       "274   ENSG00000183943.6_2|PRKX|bleedthrough|background  \n",
       "275     ENSG00000213468.7_1|FIRRE|bleedthrough|cryptic  \n",
       "\n",
       "[276 rows x 3 columns]"
      ]
     },
     "execution_count": 119,
     "metadata": {},
     "output_type": "execute_result"
    }
   ],
   "source": [
    "# for spliced events, want to report the last exon coordinates (also split into 5'end & 3'end)\n",
    "# for this purpose, current coordiantes (from input last exons) is sufficient.\n",
    "# but for bleedthrough events, this will contain the complete last exon. So need to return to quant last exons to get the unique regions. \n",
    "\n",
    "# novel_le_rep_bleed - extract transcript_id (i.e. represents selected isoform) & downstream le_id (le_id_quant)\n",
    "novel_rep_bleed_tx2le = novel_le_rep_bleed.as_df()[[\"transcript_id\", \"le_id_quant\", \"Name\"]].rename(columns={\"le_id_quant\": \"le_id\"})\n",
    "novel_rep_bleed_shsy5y_all_tx2le = novel_le_rep_bleed_shsy5y_all.as_df()[[\"transcript_id\", \"le_id_quant\", \"Name\"]].rename(columns={\"le_id_quant\": \"le_id\"})\n",
    "novel_rep_bleed_tx2le\n",
    "\n"
   ]
  },
  {
   "cell_type": "code",
   "execution_count": 141,
   "metadata": {},
   "outputs": [
    {
     "name": "stdout",
     "output_type": "stream",
     "text": [
      "Liberal background - Number of le_ids in full last exons - 275 - vs the quantification truncated last exons - 275\n",
      "SH-SY5Y background - Number of le_ids in full last exons - 226 - vs the quantification truncated last exons - 226\n"
     ]
    }
   ],
   "source": [
    "# subset to representative bleedthrough txs, joining in Name information\n",
    "# 5'coord = 1st cooridnate of intron (i.e. where spliced occurs)\n",
    "# 3'coord = final coordinate of last exon\n",
    "novel_le_rep_bleed_quant = quant_uniq_le.apply(lambda df: df.merge(novel_rep_bleed_tx2le, on=[\"le_id\"], how=\"inner\"))\n",
    "novel_le_rep_bleed_shsy5y_all_quant = quant_uniq_le.apply(lambda df: df.merge(novel_rep_bleed_shsy5y_all_tx2le, on=[\"le_id\"], how=\"inner\"))\n",
    "\n",
    "# double check number of le_ids remains the same\n",
    "print(f\"Liberal background - Number of le_ids in full last exons - {novel_le_rep_bleed.le_id_quant.nunique()} - vs the quantification truncated last exons - {novel_le_rep_bleed_quant.le_id.nunique()}\")\n",
    "print(f\"SH-SY5Y background - Number of le_ids in full last exons - {novel_le_rep_bleed_shsy5y_all.le_id_quant.nunique()} - vs the quantification truncated last exons - {novel_le_rep_bleed_shsy5y_all_quant.le_id.nunique()}\")\n",
    "\n",
    "# novel_le_rep_bleed_quant[[\"Score\", \"Name\", \"transcript_id\", \"le_id\"]].drop_duplicate_positions()\n"
   ]
  },
  {
   "attachments": {},
   "cell_type": "markdown",
   "metadata": {},
   "source": [
    "### Repeat for annotated"
   ]
  },
  {
   "cell_type": "code",
   "execution_count": 143,
   "metadata": {},
   "outputs": [
    {
     "name": "stdout",
     "output_type": "stream",
     "text": [
      "Number of annotated bleedthrough last exons (assessed by DEXSeq) - 1668\n",
      "Number of annotated spliced last exons (assessed by DEXSeq) - 3159\n"
     ]
    }
   ],
   "source": [
    "# get le_ids in which all transcripts are annotated\n",
    "annotated_le_ids = dexseq_df.groupby(\"le_id\").filter(lambda df: (df.annot_status == \"annotated\").all()).le_id\n",
    "le_id_bleed_annot = set(le_id_bleed).intersection(set(annotated_le_ids))\n",
    "le_id_spliced_annot = set(le_id_spliced).intersection(set(annotated_le_ids))\n",
    "print(f\"Number of annotated bleedthrough last exons (assessed by DEXSeq) - {len(le_id_bleed_annot)}\")\n",
    "print(f\"Number of annotated spliced last exons (assessed by DEXSeq) - {len(le_id_spliced_annot)}\")\n"
   ]
  },
  {
   "cell_type": "code",
   "execution_count": 144,
   "metadata": {},
   "outputs": [],
   "source": [
    "# subset quantification GTF for spliecd last exons \n",
    "ref_le_spliced = quant_uniq_le.subset(lambda df: df.le_id.isin(le_id_spliced_annot))\n",
    "# select representative isoform for each last exon ID (most distal 3'end)\n",
    "ref_le_spliced = select_rep_prox_site(ref_le_spliced, \"le_id\")\n",
    "\n",
    "# subset quantification GTF for bleedthrough last exons \n",
    "ref_le_bleed = quant_uniq_le.subset(lambda df: df.le_id.isin(le_id_bleed_annot))\n",
    "# select representative isoform for each last exon ID (most distal 3'end)\n",
    "ref_le_bleed = select_rep_prox_site(ref_le_bleed, \"le_id\")"
   ]
  },
  {
   "cell_type": "code",
   "execution_count": 150,
   "metadata": {},
   "outputs": [
    {
     "name": "stdout",
     "output_type": "stream",
     "text": [
      "cryptic_status\n",
      "NULL          3019\n",
      "background     837\n",
      "cryptic         35\n",
      "Name: count, dtype: int64\n"
     ]
    },
    {
     "data": {
      "text/plain": [
       "cryptic_status\n",
       "NULL          2938\n",
       "background     918\n",
       "cryptic         35\n",
       "Name: count, dtype: int64"
      ]
     },
     "execution_count": 150,
     "metadata": {},
     "output_type": "execute_result"
    }
   ],
   "source": [
    "# assign cryptic status for annotatesd spliced last exons\n",
    "ref_le_spliced_shsy5y_all = ref_le_spliced.assign(\"cryptic_status\", lambda df: _define_cryptic_status(df, cryp_le_ids, ns_le_ids_shsy5y_all, id_col=\"le_id\"))\n",
    "print(ref_le_spliced_shsy5y_all.cryptic_status.value_counts())\n",
    "\n",
    "\n",
    "ref_le_spliced = ref_le_spliced.assign(\"cryptic_status\", lambda df: _define_cryptic_status(df, cryp_le_ids, ns_le_ids, id_col=\"le_id\"))\n",
    "ref_le_spliced.cryptic_status.value_counts()\n"
   ]
  },
  {
   "cell_type": "code",
   "execution_count": 151,
   "metadata": {},
   "outputs": [
    {
     "name": "stdout",
     "output_type": "stream",
     "text": [
      "cryptic_status\n",
      "NULL          1416\n",
      "background     359\n",
      "cryptic          3\n",
      "Name: count, dtype: int64\n"
     ]
    },
    {
     "data": {
      "text/plain": [
       "cryptic_status\n",
       "NULL          1331\n",
       "background     444\n",
       "cryptic          3\n",
       "Name: count, dtype: int64"
      ]
     },
     "execution_count": 151,
     "metadata": {},
     "output_type": "execute_result"
    }
   ],
   "source": [
    "# assign cryptic status for annotatesd bleedthrough last exons\n",
    "ref_le_bleed_shsy5y_all = ref_le_bleed.assign(\"cryptic_status\", lambda df: _define_cryptic_status(df, cryp_le_ids, ns_le_ids_shsy5y_all, id_col=\"le_id\"))\n",
    "print(ref_le_bleed_shsy5y_all.cryptic_status.value_counts())\n",
    "\n",
    "ref_le_bleed = ref_le_bleed.assign(\"cryptic_status\", lambda df: _define_cryptic_status(df, cryp_le_ids, ns_le_ids, id_col=\"le_id\"))\n",
    "ref_le_bleed.cryptic_status.value_counts()"
   ]
  },
  {
   "cell_type": "code",
   "execution_count": 156,
   "metadata": {},
   "outputs": [],
   "source": [
    "# Construct Name field with minimal annotation info\n",
    "\n",
    "ref_le_bleed = construct_bed_name(ref_le_bleed, \"bleedthrough\", gene_name_col=\"ref_gene_name\", le_id_col=\"le_id\")\n",
    "ref_le_bleed_shsy5y_all = construct_bed_name(ref_le_bleed_shsy5y_all, \"bleedthrough\", gene_name_col=\"ref_gene_name\", le_id_col=\"le_id\")\n",
    "ref_le_spliced = construct_bed_name(ref_le_spliced, \"spliced\", gene_name_col=\"ref_gene_name\", le_id_col=\"le_id\")\n",
    "ref_le_spliced_shsy5y_all = construct_bed_name(ref_le_spliced_shsy5y_all, \"spliced\", gene_name_col=\"ref_gene_name\", le_id_col=\"le_id\")"
   ]
  },
  {
   "cell_type": "code",
   "execution_count": 157,
   "metadata": {},
   "outputs": [],
   "source": [
    "# combined output BEDs\n",
    "spliced_out_bed = pr.concat([novel_le_rep_spliced[[\"Score\", \"Name\"]].drop_duplicate_positions(),\n",
    "                             ref_le_spliced[[\"Score\", \"Name\"]].drop_duplicate_positions()])\n",
    "\n",
    "spliced_out_bed_shsy5y_all = pr.concat([novel_le_rep_spliced_shsy5y_all[[\"Score\", \"Name\"]].drop_duplicate_positions(),\n",
    "                             ref_le_spliced_shsy5y_all[[\"Score\", \"Name\"]].drop_duplicate_positions()])\n",
    "\n",
    "# ...\n",
    "bleed_out_bed = pr.concat([novel_le_rep_bleed_quant[[\"Score\", \"Name\"]].drop_duplicate_positions(),\n",
    "                             ref_le_bleed[[\"Score\", \"Name\"]].drop_duplicate_positions()])\n",
    "\n",
    "bleed_out_bed_shsy5y_all = pr.concat([novel_le_rep_bleed_shsy5y_all_quant[[\"Score\", \"Name\"]].drop_duplicate_positions(),\n",
    "                             ref_le_bleed_shsy5y_all[[\"Score\", \"Name\"]].drop_duplicate_positions()])\n"
   ]
  },
  {
   "cell_type": "code",
   "execution_count": 165,
   "metadata": {},
   "outputs": [
    {
     "name": "stdout",
     "output_type": "stream",
     "text": [
      "Number of spliced cryptic IDs not found in std spliced BED file - 23\n",
      "Number of spliced cryptic IDs not found in shsy5y only spliced BED file - 23\n",
      "Number of bleedthrough cryptic IDs not found in std bleedthrough BED file - 0\n",
      "Number of bleedthrough cryptic IDs not found in shsy5y only bleedthrough BED file - 0\n"
     ]
    }
   ],
   "source": [
    "def check_cryptics(gr, cryptic_le_ids: set):\n",
    "    '''return set of cryptic IDs NOT found in gr\n",
    "\n",
    "    Parameters\n",
    "    ----------\n",
    "    gr : _type_\n",
    "        _description_\n",
    "    '''\n",
    "    # temporarily create le_id\n",
    "    gr_le_id = set(gr.Name.str.split(\"|\", expand=True)[0])\n",
    "\n",
    "    return cryptic_le_ids.difference(gr_le_id)\n",
    "\n",
    "# double check if all cryptics retained\n",
    "print(f\"Number of spliced cryptic IDs not found in std spliced BED file - {len(check_cryptics(spliced_out_bed, event_type_le_ids['spliced']))}\")\n",
    "print(f\"Number of spliced cryptic IDs not found in shsy5y only spliced BED file - {len(check_cryptics(spliced_out_bed_shsy5y_all, event_type_le_ids['spliced']))}\")\n",
    "print(f\"Number of bleedthrough cryptic IDs not found in std bleedthrough BED file - {len(check_cryptics(bleed_out_bed, event_type_le_ids['bleedthrough']))}\")\n",
    "print(f\"Number of bleedthrough cryptic IDs not found in shsy5y only bleedthrough BED file - {len(check_cryptics(bleed_out_bed_shsy5y_all, event_type_le_ids['bleedthrough']))}\")"
   ]
  },
  {
   "cell_type": "code",
   "execution_count": null,
   "metadata": {},
   "outputs": [],
   "source": [
    "# combined output BEDs\n",
    "spliced_out_bed = pr.concat([novel_le_rep_spliced[[\"Score\", \"Name\"]].drop_duplicate_positions(),\n",
    "                             ref_le_spliced[[\"Score\", \"Name\"]].drop_duplicate_positions()])\n",
    "\n",
    "bleed_out_bed = pr.concat([novel_le_rep_bleed_quant[[\"Score\", \"Name\"]].drop_duplicate_positions(),\n",
    "                             ref_le_bleed[[\"Score\", \"Name\"]].drop_duplicate_positions()])\n",
    "\n",
    "spliced_out_bed.subset(lambda df: df.Name.str.contains(\"cryptic$\"))\n",
    "\n",
    "# novel_le_rep_bleed_quant[[\"Score\", \"Name\"]].drop_duplicate_positions()\n",
    "# novel_le_rep_spliced[[\"Score\", \"Name\"]].drop_duplicate_positions()\n",
    "\n",
    "\n",
    "# generate output bed file of proximal and distal PAS\n",
    "# utr3_out_bed = pr.concat([sel_le_d3utr_prox[[\"Score\", \"Name\"]],\n",
    "#                           sel_novel_le_d3utr[[\"Score\", \"Name\"]]]\n",
    "#                           )\n",
    "\n",
    "# print(len(utr3_out_bed))\n",
    "# # drop duplicate entries\n",
    "# utr3_out_bed = utr3_out_bed.apply(lambda df: df.drop_duplicates()).sort()\n",
    "\n",
    "# utr3_out_bed"
   ]
  },
  {
   "cell_type": "code",
   "execution_count": null,
   "metadata": {},
   "outputs": [],
   "source": [
    "# which cryptics are missing from each df\n",
    "missing_cryp_spl_all = le_id_spliced_cryp.difference(set(spliced_out_bed.subset(lambda df: df.Name.str.contains(\"cryptic$\")).Name.str.split(\"|\", expand=True)[0]))\n",
    "print(f\"fraction of cryptic spliced events retained in output - {len(le_id_spliced_cryp.intersection(set(spliced_out_bed.subset(lambda df: df.Name.str.contains('cryptic$')).Name.str.split('|', expand=True)[0]))) / len(le_id_spliced_cryp)}\")\n",
    "print(f\"number of missing ids - {len(missing_cryp_spl_all)}\")"
   ]
  },
  {
   "cell_type": "code",
   "execution_count": null,
   "metadata": {},
   "outputs": [],
   "source": [
    "# how many missing spliced events are novel?\n",
    "missing_cryp_spl_all_novel = set(novel_le.subset(lambda df: df.le_id_quant.isin(missing_cryp_spl_all)).le_id_quant)\n",
    "print(len(missing_cryp_spl_all_novel))\n",
    "novel_le.subset(lambda df: df.le_id_quant.isin(missing_cryp_spl_all_novel))\n"
   ]
  },
  {
   "cell_type": "code",
   "execution_count": null,
   "metadata": {},
   "outputs": [],
   "source": [
    "# how many missing cryptic spliced events? partners to 3'UTR extensions\n",
    "le_id_d3utr_spliced_prtnr = set(dexseq_df.loc[dexseq_df.simple_event_type == \"spliced\", \"le_id\"][spliced_d3utr_olap].drop_duplicates())\n",
    "print(len(missing_cryp_spl_all.intersection(le_id_d3utr_spliced_prtnr)))\n",
    "\",\".join(dexseq_df[dexseq_df.le_id.isin(missing_cryp_spl_all.intersection(le_id_d3utr_spliced_prtnr))].gene_name.drop_duplicates())"
   ]
  },
  {
   "cell_type": "code",
   "execution_count": null,
   "metadata": {},
   "outputs": [],
   "source": [
    "# above 23 are probs better off not including in spliced ( & rather as cryptic 3'UTR changes, as more likely to be reg at site level rather than SJ)\n",
    "# of the 3 novel, are they partners to 3'UTR extensions? (NB: how?)\n",
    "missing_cryp_spl_all_novel.intersection(missing_cryp_spl_all.intersection(le_id_d3utr_spliced_prtnr))"
   ]
  },
  {
   "cell_type": "code",
   "execution_count": null,
   "metadata": {},
   "outputs": [],
   "source": [
    "# of the 34, are the remaining events all annotated?\n",
    "missing_cryp_spl_all_n_d3utr_prtnr = missing_cryp_spl_all.difference(missing_cryp_spl_all.intersection(le_id_d3utr_spliced_prtnr))\n",
    "print(len(missing_cryp_spl_all_n_d3utr_prtnr))\n",
    "missing_cryp_spl_all_n_d3utr_prtnr.difference(set(ref_le_spliced.le_id))"
   ]
  },
  {
   "cell_type": "code",
   "execution_count": null,
   "metadata": {},
   "outputs": [],
   "source": [
    "dexseq_df[dexseq_df.le_id.isin(missing_cryp_spl_all_n_d3utr_prtnr)][[\"le_id\", \"gene_name\", \"annot_status\", \"event_type\", \"simple_event_type\"]].drop_duplicates()"
   ]
  },
  {
   "cell_type": "code",
   "execution_count": null,
   "metadata": {},
   "outputs": [],
   "source": [
    "spliced_out_bed.subset(lambda df: df.Name.str.contains(\"STMN2\", regex=False))"
   ]
  },
  {
   "cell_type": "code",
   "execution_count": null,
   "metadata": {},
   "outputs": [],
   "source": [
    "# how many le_ids have distinct coordinates? which collapsing category do they belong to?\n",
    "Counter([k if le_id.split(\"|\")[0] in v else None for le_id in spliced_out_bed.drop_duplicate_positions().as_df()[\"Name\"].value_counts().loc[lambda x: x > 1].index for k,v in rep_choices_spliced.items()])"
   ]
  },
  {
   "cell_type": "code",
   "execution_count": null,
   "metadata": {},
   "outputs": [],
   "source": [
    "spliced_dupe = [le_id.split(\"|\")[0] for  le_id in spliced_out_bed.drop_duplicate_positions().as_df()[\"Name\"].value_counts().loc[lambda x: x > 1].index \n",
    "    if le_id.split(\"|\")[0] in set(rep_choices_spliced[\"atlas_1_pred\"]).union(set(rep_choices_spliced[\"atlas_max_datasets\"]))\n",
    "    ]\n",
    "\n",
    "spliced_dupe"
   ]
  },
  {
   "cell_type": "code",
   "execution_count": null,
   "metadata": {},
   "outputs": [],
   "source": [
    "novel_le_rep_spliced.subset(lambda df: df.le_id_quant.isin(spliced_dupe))[[\"le_id_quant\", \"event_type\", \"site_type\", \"cryptic_status\"]]"
   ]
  },
  {
   "cell_type": "code",
   "execution_count": null,
   "metadata": {},
   "outputs": [],
   "source": [
    "# all occur where 3' coordinate is the same, but differ in their 5'coordinates\n",
    "# 1 - keep all possible 5' & 3' coordinates?\n",
    "# 2 - keep the shortest one (similar to how I have filtered previously)"
   ]
  },
  {
   "cell_type": "code",
   "execution_count": null,
   "metadata": {},
   "outputs": [],
   "source": [
    "bleed_out_bed.subset(lambda df: df.Name.str.contains(\"cryptic$\"))"
   ]
  },
  {
   "cell_type": "code",
   "execution_count": null,
   "metadata": {},
   "outputs": [],
   "source": [
    "# how many le_ids have distinct coordinates? which collapsing category do they belong to?\n",
    "Counter([k if le_id.split(\"|\")[0] in v else None for le_id in bleed_out_bed.drop_duplicate_positions().as_df()[\"Name\"].value_counts().loc[lambda x: x > 1].index for k,v in rep_choices_bleed.items()])"
   ]
  },
  {
   "cell_type": "code",
   "execution_count": null,
   "metadata": {},
   "outputs": [],
   "source": [
    "bleed_dupe = [le_id.split(\"|\")[0] for  le_id in bleed_out_bed.drop_duplicate_positions().as_df()[\"Name\"].value_counts().loc[lambda x: x > 1].index \n",
    "    if le_id.split(\"|\")[0] in set(rep_choices_bleed[\"atlas_1_pred\"]).union(set(rep_choices_bleed[\"atlas_max_datasets\"]).union(set(rep_choices_bleed[\"motif_1_min\"])))\n",
    "    ]\n",
    "\n",
    "bleed_dupe"
   ]
  },
  {
   "cell_type": "code",
   "execution_count": null,
   "metadata": {},
   "outputs": [],
   "source": [
    "novel_le_rep_bleed.subset(lambda df: df.le_id_quant.isin(bleed_dupe))[[\"le_id_quant\", \"event_type\", \"site_type\", \"cryptic_status\"]]"
   ]
  },
  {
   "cell_type": "code",
   "execution_count": null,
   "metadata": {},
   "outputs": [],
   "source": [
    "# select representative 5'end coord (the shoretest) for a given le_id\n",
    "bleed_out_bed = select_rep_five_end(bleed_out_bed, id_col = \"Name\")\n",
    "spliced_out_bed = select_rep_five_end(spliced_out_bed, id_col = \"Name\")"
   ]
  },
  {
   "cell_type": "code",
   "execution_count": null,
   "metadata": {},
   "outputs": [],
   "source": [
    "# how many le_ids have distinct coordinates? which collapsing category do they belong to?\n",
    "Counter([k if le_id.split(\"|\")[0] in v else None for le_id in bleed_out_bed.drop_duplicate_positions().as_df()[\"Name\"].value_counts().loc[lambda x: x > 1].index for k,v in rep_choices_bleed.items()])"
   ]
  },
  {
   "cell_type": "code",
   "execution_count": null,
   "metadata": {},
   "outputs": [],
   "source": [
    "# how many le_ids have distinct coordinates? which collapsing category do they belong to?\n",
    "Counter([k if le_id.split(\"|\")[0] in v else None for le_id in spliced_out_bed.drop_duplicate_positions().as_df()[\"Name\"].value_counts().loc[lambda x: x > 1].index for k,v in rep_choices_spliced.items()])"
   ]
  },
  {
   "cell_type": "code",
   "execution_count": null,
   "metadata": {},
   "outputs": [],
   "source": [
    "[le_id.split(\"|\")[0] for le_id in spliced_out_bed.drop_duplicate_positions().as_df()[\"Name\"].value_counts().loc[lambda x: x > 1].index if le_id.split(\"|\")[0] in rep_choices_spliced[\"atlas_1_pred\"]]"
   ]
  },
  {
   "cell_type": "code",
   "execution_count": null,
   "metadata": {},
   "outputs": [],
   "source": [
    "spliced_out_bed.Name.str.split(\"|\", expand=True)[3].value_counts()"
   ]
  },
  {
   "cell_type": "code",
   "execution_count": null,
   "metadata": {},
   "outputs": [],
   "source": [
    "bleed_out_bed.Name.str.split(\"|\", expand=True)[[3]].value_counts()"
   ]
  },
  {
   "cell_type": "code",
   "execution_count": null,
   "metadata": {},
   "outputs": [],
   "source": [
    "if not os.path.exists(\"../processed/iclip_regions\"):\n",
    "    os.makedirs(\"../processed/iclip_regions\")\n",
    "\n",
    "#### TEMPORARY - work out why duplicate regions/multiple PAS coords for some last exons. To prevent duplciats slect longest per interval\n",
    "spliced_out_bed = select_rep_prox_site(spliced_out_bed, \"Name\")\n",
    "bleed_out_bed = select_rep_prox_site(bleed_out_bed, \"Name\")\n",
    "\n",
    "spliced_out_bed.to_bed(\"../processed/iclip_regions/2023-07-04_papa_cryptic_spliced.last_exons.bed\")\n",
    "# also make one with just polYA sites\n",
    "spliced_out_bed.three_end().to_bed(\"../processed/iclip_regions/2023-07-04_papa_cryptic_spliced.pas.bed\")\n",
    "# also first coordinate of exon (i.e. interval ending at this coordinate = splice site end, or substract 1 (strand-aware) to get final nucleotide of splice site)\n",
    "spliced_out_bed.five_end().to_bed(\"../processed/iclip_regions/2023-07-04_papa_cryptic_spliced.le_start.bed\")\n",
    "\n",
    "bleed_out_bed.to_bed(\"../processed/iclip_regions/2023-07-04_papa_cryptic_bleedthrough.last_exons.bed\")\n",
    "# also make one with just polYA sites\n",
    "bleed_out_bed.three_end().to_bed(\"../processed/iclip_regions/2023-07-04_papa_cryptic_bleedthrough.pas.bed\")\n",
    "# also first coordinate of exon (i.e. 1st nucleotide of intron\n",
    "bleed_out_bed.five_end().to_bed(\"../processed/iclip_regions/2023-07-04_papa_cryptic_bleedthrough.le_start.bed\")"
   ]
  },
  {
   "cell_type": "code",
   "execution_count": null,
   "metadata": {},
   "outputs": [],
   "source": []
  }
 ],
 "metadata": {
  "kernelspec": {
   "display_name": "pybioinfo",
   "language": "python",
   "name": "python3"
  },
  "language_info": {
   "codemirror_mode": {
    "name": "ipython",
    "version": 3
   },
   "file_extension": ".py",
   "mimetype": "text/x-python",
   "name": "python",
   "nbconvert_exporter": "python",
   "pygments_lexer": "ipython3",
   "version": "3.10.11"
  },
  "orig_nbformat": 4
 },
 "nbformat": 4,
 "nbformat_minor": 2
}
