{
 "cells": [
  {
   "cell_type": "code",
   "execution_count": 3,
   "metadata": {},
   "outputs": [],
   "source": [
    "import pyranges as pr\n",
    "import pandas as pd\n",
    "import numpy as np\n",
    "from define_helpers import select_rep_site, _define_cryptic_status, select_rep_prox_site, select_rep_five_end\n",
    "from collections import Counter\n",
    "import os"
   ]
  },
  {
   "cell_type": "code",
   "execution_count": 6,
   "metadata": {},
   "outputs": [],
   "source": [
    "# input novel last exons used to generate combined reference of last exons (full last exon sequence, not just subtracted region)\n",
    "novel_le = pr.read_gtf(\"../data/papa/2023-03-29_papa_i3_cortical_upf1_zanovello_overlap_annotated.gtf\")\n",
    "# dexseq results df (used to extract cryptic events of each class)\n",
    "dexseq_df = pd.read_csv(\"../data/papa/2023-12-10_i3_cortical_zanovello.all_datasets.dexseq_apa.results.processed.cleaned.tsv\", sep=\"\\t\")\n",
    "\n",
    "\n",
    "# reference GTF used to identify novel last exons, quantify vs ref\n",
    "ref_gtf = pr.read_gtf(\"../data/reference_filtered.gtf\")\n",
    "# \n",
    "tx2le = pd.read_csv(\"../data/papa/novel_ref_combined.tx2le.tsv\", sep=\"\\t\")\n",
    "\n",
    "# last exon quantification regions used as input to Salmon\n",
    "quant_uniq_le = pr.read_gtf(\"../data/papa/novel_ref_combined.quant.last_exons.gtf\")\n",
    "\n",
    "\n",
    "info_df = pd.read_csv(\"../data/papa/novel_ref_combined.info.tsv\", sep=\"\\t\")"
   ]
  },
  {
   "cell_type": "code",
   "execution_count": 7,
   "metadata": {},
   "outputs": [
    {
     "name": "stdout",
     "output_type": "stream",
     "text": [
      "Event type - bleedthrough - number of IDs - 20\n",
      "Event type - bleedthrough,spliced - number of IDs - 9\n",
      "Event type - distal_3utr_extension - number of IDs - 86\n",
      "Event type - proximal_3utr_extension - number of IDs - 20\n",
      "Event type - spliced - number of IDs - 92\n",
      "Number of cryptic IDs failing manual validation - 34\n"
     ]
    }
   ],
   "source": [
    "# summary df of cryptic events following manual validation of bleedthrough events\n",
    "cryptics_df = pd.read_csv(\"../../preprocessing/processed/2023-12-10_cryptics_summary_all_events_bleedthrough_manual_validation.tsv\", sep=\"\\t\")\n",
    "\n",
    "# load in IDs to remove entirely from analysis (remove as cryptic, but make sure nto included in overall background)\n",
    "with open(\"../../preprocessing/processed/2023-12-10_cryptics_manual_validation_fail_le_ids.txt\", \"r\") as infile:\n",
    "    manual_validation_fail_ids = [line.rstrip(\"\\n\") for line in infile]\n",
    "\n",
    "# get a dict of set of le_ids in each case\n",
    "event_type_le_ids = cryptics_df.groupby(\"simple_event_type\")[\"le_id\"].agg(set).to_dict()\n",
    "\n",
    "for event_type, ids in event_type_le_ids.items():\n",
    "    print(f\"Event type - {event_type} - number of IDs - {len(ids)}\")\n",
    "\n",
    "print(f\"Number of cryptic IDs failing manual validation - {len(manual_validation_fail_ids)}\")"
   ]
  },
  {
   "cell_type": "code",
   "execution_count": 8,
   "metadata": {},
   "outputs": [
    {
     "data": {
      "text/html": [
       "<div>\n",
       "<style scoped>\n",
       "    .dataframe tbody tr th:only-of-type {\n",
       "        vertical-align: middle;\n",
       "    }\n",
       "\n",
       "    .dataframe tbody tr th {\n",
       "        vertical-align: top;\n",
       "    }\n",
       "\n",
       "    .dataframe thead th {\n",
       "        text-align: right;\n",
       "    }\n",
       "</style>\n",
       "<table border=\"1\" class=\"dataframe\">\n",
       "  <thead>\n",
       "    <tr style=\"text-align: right;\">\n",
       "      <th></th>\n",
       "      <th>experiment_name</th>\n",
       "      <th>binID</th>\n",
       "      <th>groupID</th>\n",
       "      <th>featureID</th>\n",
       "      <th>exonBaseMean</th>\n",
       "      <th>dispersion</th>\n",
       "      <th>stat</th>\n",
       "      <th>pvalue</th>\n",
       "      <th>padj</th>\n",
       "      <th>UsageCoefficient_base</th>\n",
       "      <th>...</th>\n",
       "      <th>annot_status</th>\n",
       "      <th>transcript_id</th>\n",
       "      <th>chromosome</th>\n",
       "      <th>strand</th>\n",
       "      <th>start</th>\n",
       "      <th>end</th>\n",
       "      <th>mean_PPAU_base</th>\n",
       "      <th>mean_PPAU_treatment</th>\n",
       "      <th>delta_PPAU_treatment_control</th>\n",
       "      <th>simple_event_type</th>\n",
       "    </tr>\n",
       "  </thead>\n",
       "  <tbody>\n",
       "    <tr>\n",
       "      <th>0</th>\n",
       "      <td>brown_i3_cortical</td>\n",
       "      <td>ENSG00000021645.20:E001</td>\n",
       "      <td>ENSG00000021645.20</td>\n",
       "      <td>E001</td>\n",
       "      <td>32.627088</td>\n",
       "      <td>0.044220</td>\n",
       "      <td>90.962787</td>\n",
       "      <td>1.463997e-21</td>\n",
       "      <td>2.250563e-19</td>\n",
       "      <td>1.452069</td>\n",
       "      <td>...</td>\n",
       "      <td>novel</td>\n",
       "      <td>PAPA.TDP-4.18197.2</td>\n",
       "      <td>chr14</td>\n",
       "      <td>+</td>\n",
       "      <td>7.829867e+07</td>\n",
       "      <td>7.830620e+07</td>\n",
       "      <td>0.001914</td>\n",
       "      <td>0.033848</td>\n",
       "      <td>0.031934</td>\n",
       "      <td>spliced</td>\n",
       "    </tr>\n",
       "    <tr>\n",
       "      <th>1</th>\n",
       "      <td>brown_i3_cortical</td>\n",
       "      <td>ENSG00000021645.20:E002</td>\n",
       "      <td>ENSG00000021645.20</td>\n",
       "      <td>E002</td>\n",
       "      <td>622.521901</td>\n",
       "      <td>0.022117</td>\n",
       "      <td>135.739619</td>\n",
       "      <td>2.274890e-31</td>\n",
       "      <td>5.061630e-29</td>\n",
       "      <td>12.675156</td>\n",
       "      <td>...</td>\n",
       "      <td>annotated</td>\n",
       "      <td>ENST00000557594.5,ENST00000428277.6,ENST000002...</td>\n",
       "      <td>chr14</td>\n",
       "      <td>+</td>\n",
       "      <td>7.986104e+39</td>\n",
       "      <td>7.986248e+39</td>\n",
       "      <td>0.998086</td>\n",
       "      <td>0.934776</td>\n",
       "      <td>-0.063310</td>\n",
       "      <td>spliced</td>\n",
       "    </tr>\n",
       "    <tr>\n",
       "      <th>2</th>\n",
       "      <td>brown_i3_cortical</td>\n",
       "      <td>ENSG00000021645.20:E002</td>\n",
       "      <td>ENSG00000021645.20</td>\n",
       "      <td>E002</td>\n",
       "      <td>622.521901</td>\n",
       "      <td>0.022117</td>\n",
       "      <td>135.739619</td>\n",
       "      <td>2.274890e-31</td>\n",
       "      <td>5.061630e-29</td>\n",
       "      <td>12.675156</td>\n",
       "      <td>...</td>\n",
       "      <td>annotated</td>\n",
       "      <td>ENST00000557594.5,ENST00000428277.6,ENST000002...</td>\n",
       "      <td>chr14</td>\n",
       "      <td>+</td>\n",
       "      <td>7.986104e+39</td>\n",
       "      <td>7.986248e+39</td>\n",
       "      <td>0.998086</td>\n",
       "      <td>0.934776</td>\n",
       "      <td>-0.063310</td>\n",
       "      <td>spliced</td>\n",
       "    </tr>\n",
       "    <tr>\n",
       "      <th>3</th>\n",
       "      <td>brown_i3_cortical</td>\n",
       "      <td>ENSG00000048649.14:E001</td>\n",
       "      <td>ENSG00000048649.14</td>\n",
       "      <td>E001</td>\n",
       "      <td>163.262346</td>\n",
       "      <td>0.037855</td>\n",
       "      <td>88.319669</td>\n",
       "      <td>5.568698e-21</td>\n",
       "      <td>8.407740e-19</td>\n",
       "      <td>4.515264</td>\n",
       "      <td>...</td>\n",
       "      <td>novel</td>\n",
       "      <td>PAPA.doxconc_DOX_0075_2.11065.7,PAPA.TDP43-G_S...</td>\n",
       "      <td>chr11</td>\n",
       "      <td>-</td>\n",
       "      <td>7.781315e+71</td>\n",
       "      <td>7.781379e+71</td>\n",
       "      <td>0.090158</td>\n",
       "      <td>0.462779</td>\n",
       "      <td>0.372622</td>\n",
       "      <td>spliced</td>\n",
       "    </tr>\n",
       "    <tr>\n",
       "      <th>4</th>\n",
       "      <td>brown_i3_cortical</td>\n",
       "      <td>ENSG00000048649.14:E001</td>\n",
       "      <td>ENSG00000048649.14</td>\n",
       "      <td>E001</td>\n",
       "      <td>163.262346</td>\n",
       "      <td>0.037855</td>\n",
       "      <td>88.319669</td>\n",
       "      <td>5.568698e-21</td>\n",
       "      <td>8.407740e-19</td>\n",
       "      <td>4.515264</td>\n",
       "      <td>...</td>\n",
       "      <td>annotated</td>\n",
       "      <td>PAPA.doxconc_DOX_0075_2.11065.7,PAPA.TDP43-G_S...</td>\n",
       "      <td>chr11</td>\n",
       "      <td>-</td>\n",
       "      <td>7.781315e+71</td>\n",
       "      <td>7.781379e+71</td>\n",
       "      <td>0.090158</td>\n",
       "      <td>0.462779</td>\n",
       "      <td>0.372622</td>\n",
       "      <td>spliced</td>\n",
       "    </tr>\n",
       "    <tr>\n",
       "      <th>...</th>\n",
       "      <td>...</td>\n",
       "      <td>...</td>\n",
       "      <td>...</td>\n",
       "      <td>...</td>\n",
       "      <td>...</td>\n",
       "      <td>...</td>\n",
       "      <td>...</td>\n",
       "      <td>...</td>\n",
       "      <td>...</td>\n",
       "      <td>...</td>\n",
       "      <td>...</td>\n",
       "      <td>...</td>\n",
       "      <td>...</td>\n",
       "      <td>...</td>\n",
       "      <td>...</td>\n",
       "      <td>...</td>\n",
       "      <td>...</td>\n",
       "      <td>...</td>\n",
       "      <td>...</td>\n",
       "      <td>...</td>\n",
       "      <td>...</td>\n",
       "    </tr>\n",
       "    <tr>\n",
       "      <th>109646</th>\n",
       "      <td>zanovello_skndz_curve_1</td>\n",
       "      <td>ENSG00000280789.2:E002</td>\n",
       "      <td>ENSG00000280789.2</td>\n",
       "      <td>E002</td>\n",
       "      <td>99.077638</td>\n",
       "      <td>12.000000</td>\n",
       "      <td>0.006587</td>\n",
       "      <td>9.353145e-01</td>\n",
       "      <td>9.785953e-01</td>\n",
       "      <td>5.982423</td>\n",
       "      <td>...</td>\n",
       "      <td>novel</td>\n",
       "      <td>PAPA.chx_tdp_CTRL_ctrl_4.15153.2</td>\n",
       "      <td>chr16</td>\n",
       "      <td>+</td>\n",
       "      <td>2.981955e+07</td>\n",
       "      <td>2.982252e+07</td>\n",
       "      <td>0.181220</td>\n",
       "      <td>0.333333</td>\n",
       "      <td>0.152113</td>\n",
       "      <td>distal_3utr_extension</td>\n",
       "    </tr>\n",
       "    <tr>\n",
       "      <th>109647</th>\n",
       "      <td>zanovello_skndz_curve_1</td>\n",
       "      <td>ENSG00000280832.2:E001</td>\n",
       "      <td>ENSG00000280832.2</td>\n",
       "      <td>E001</td>\n",
       "      <td>75.778902</td>\n",
       "      <td>0.099478</td>\n",
       "      <td>0.075875</td>\n",
       "      <td>7.829679e-01</td>\n",
       "      <td>9.189656e-01</td>\n",
       "      <td>6.014731</td>\n",
       "      <td>...</td>\n",
       "      <td>annotated</td>\n",
       "      <td>ENST00000626810.1</td>\n",
       "      <td>chr11</td>\n",
       "      <td>-</td>\n",
       "      <td>1.263502e+08</td>\n",
       "      <td>1.263518e+08</td>\n",
       "      <td>0.133144</td>\n",
       "      <td>0.147606</td>\n",
       "      <td>0.014462</td>\n",
       "      <td>spliced</td>\n",
       "    </tr>\n",
       "    <tr>\n",
       "      <th>109648</th>\n",
       "      <td>zanovello_skndz_curve_1</td>\n",
       "      <td>ENSG00000280832.2:E002</td>\n",
       "      <td>ENSG00000280832.2</td>\n",
       "      <td>E002</td>\n",
       "      <td>402.882205</td>\n",
       "      <td>0.085732</td>\n",
       "      <td>0.087526</td>\n",
       "      <td>7.673463e-01</td>\n",
       "      <td>9.134343e-01</td>\n",
       "      <td>12.145436</td>\n",
       "      <td>...</td>\n",
       "      <td>annotated</td>\n",
       "      <td>ENST00000629441.2</td>\n",
       "      <td>chr11</td>\n",
       "      <td>-</td>\n",
       "      <td>1.263409e+08</td>\n",
       "      <td>1.263423e+08</td>\n",
       "      <td>0.866856</td>\n",
       "      <td>0.852394</td>\n",
       "      <td>-0.014462</td>\n",
       "      <td>spliced</td>\n",
       "    </tr>\n",
       "    <tr>\n",
       "      <th>109649</th>\n",
       "      <td>zanovello_skndz_curve_1</td>\n",
       "      <td>ENSG00000282508.2:E001</td>\n",
       "      <td>ENSG00000282508.2</td>\n",
       "      <td>E001</td>\n",
       "      <td>43.093715</td>\n",
       "      <td>0.060733</td>\n",
       "      <td>0.017535</td>\n",
       "      <td>8.946533e-01</td>\n",
       "      <td>9.665471e-01</td>\n",
       "      <td>4.668928</td>\n",
       "      <td>...</td>\n",
       "      <td>annotated</td>\n",
       "      <td>ENST00000633109.1</td>\n",
       "      <td>chr19</td>\n",
       "      <td>-</td>\n",
       "      <td>2.112510e+05</td>\n",
       "      <td>2.117150e+05</td>\n",
       "      <td>0.678888</td>\n",
       "      <td>0.582547</td>\n",
       "      <td>-0.096341</td>\n",
       "      <td>spliced</td>\n",
       "    </tr>\n",
       "    <tr>\n",
       "      <th>109650</th>\n",
       "      <td>zanovello_skndz_curve_1</td>\n",
       "      <td>ENSG00000282508.2:E002</td>\n",
       "      <td>ENSG00000282508.2</td>\n",
       "      <td>E002</td>\n",
       "      <td>27.050964</td>\n",
       "      <td>0.069219</td>\n",
       "      <td>0.014790</td>\n",
       "      <td>9.032054e-01</td>\n",
       "      <td>9.693684e-01</td>\n",
       "      <td>3.817323</td>\n",
       "      <td>...</td>\n",
       "      <td>annotated</td>\n",
       "      <td>ENST00000631988.1,ENST00000631797.1,ENST000006...</td>\n",
       "      <td>chr19</td>\n",
       "      <td>-</td>\n",
       "      <td>2.014082e+29</td>\n",
       "      <td>2.016622e+29</td>\n",
       "      <td>0.149081</td>\n",
       "      <td>0.131692</td>\n",
       "      <td>-0.017389</td>\n",
       "      <td>spliced</td>\n",
       "    </tr>\n",
       "  </tbody>\n",
       "</table>\n",
       "<p>109445 rows × 28 columns</p>\n",
       "</div>"
      ],
      "text/plain": [
       "                experiment_name                    binID             groupID  \\\n",
       "0             brown_i3_cortical  ENSG00000021645.20:E001  ENSG00000021645.20   \n",
       "1             brown_i3_cortical  ENSG00000021645.20:E002  ENSG00000021645.20   \n",
       "2             brown_i3_cortical  ENSG00000021645.20:E002  ENSG00000021645.20   \n",
       "3             brown_i3_cortical  ENSG00000048649.14:E001  ENSG00000048649.14   \n",
       "4             brown_i3_cortical  ENSG00000048649.14:E001  ENSG00000048649.14   \n",
       "...                         ...                      ...                 ...   \n",
       "109646  zanovello_skndz_curve_1   ENSG00000280789.2:E002   ENSG00000280789.2   \n",
       "109647  zanovello_skndz_curve_1   ENSG00000280832.2:E001   ENSG00000280832.2   \n",
       "109648  zanovello_skndz_curve_1   ENSG00000280832.2:E002   ENSG00000280832.2   \n",
       "109649  zanovello_skndz_curve_1   ENSG00000282508.2:E001   ENSG00000282508.2   \n",
       "109650  zanovello_skndz_curve_1   ENSG00000282508.2:E002   ENSG00000282508.2   \n",
       "\n",
       "       featureID  exonBaseMean  dispersion        stat        pvalue  \\\n",
       "0           E001     32.627088    0.044220   90.962787  1.463997e-21   \n",
       "1           E002    622.521901    0.022117  135.739619  2.274890e-31   \n",
       "2           E002    622.521901    0.022117  135.739619  2.274890e-31   \n",
       "3           E001    163.262346    0.037855   88.319669  5.568698e-21   \n",
       "4           E001    163.262346    0.037855   88.319669  5.568698e-21   \n",
       "...          ...           ...         ...         ...           ...   \n",
       "109646      E002     99.077638   12.000000    0.006587  9.353145e-01   \n",
       "109647      E001     75.778902    0.099478    0.075875  7.829679e-01   \n",
       "109648      E002    402.882205    0.085732    0.087526  7.673463e-01   \n",
       "109649      E001     43.093715    0.060733    0.017535  8.946533e-01   \n",
       "109650      E002     27.050964    0.069219    0.014790  9.032054e-01   \n",
       "\n",
       "                padj  UsageCoefficient_base  ...  annot_status  \\\n",
       "0       2.250563e-19               1.452069  ...         novel   \n",
       "1       5.061630e-29              12.675156  ...     annotated   \n",
       "2       5.061630e-29              12.675156  ...     annotated   \n",
       "3       8.407740e-19               4.515264  ...         novel   \n",
       "4       8.407740e-19               4.515264  ...     annotated   \n",
       "...              ...                    ...  ...           ...   \n",
       "109646  9.785953e-01               5.982423  ...         novel   \n",
       "109647  9.189656e-01               6.014731  ...     annotated   \n",
       "109648  9.134343e-01              12.145436  ...     annotated   \n",
       "109649  9.665471e-01               4.668928  ...     annotated   \n",
       "109650  9.693684e-01               3.817323  ...     annotated   \n",
       "\n",
       "                                            transcript_id chromosome  strand  \\\n",
       "0                                      PAPA.TDP-4.18197.2      chr14       +   \n",
       "1       ENST00000557594.5,ENST00000428277.6,ENST000002...      chr14       +   \n",
       "2       ENST00000557594.5,ENST00000428277.6,ENST000002...      chr14       +   \n",
       "3       PAPA.doxconc_DOX_0075_2.11065.7,PAPA.TDP43-G_S...      chr11       -   \n",
       "4       PAPA.doxconc_DOX_0075_2.11065.7,PAPA.TDP43-G_S...      chr11       -   \n",
       "...                                                   ...        ...     ...   \n",
       "109646                   PAPA.chx_tdp_CTRL_ctrl_4.15153.2      chr16       +   \n",
       "109647                                  ENST00000626810.1      chr11       -   \n",
       "109648                                  ENST00000629441.2      chr11       -   \n",
       "109649                                  ENST00000633109.1      chr19       -   \n",
       "109650  ENST00000631988.1,ENST00000631797.1,ENST000006...      chr19       -   \n",
       "\n",
       "               start           end mean_PPAU_base mean_PPAU_treatment  \\\n",
       "0       7.829867e+07  7.830620e+07       0.001914            0.033848   \n",
       "1       7.986104e+39  7.986248e+39       0.998086            0.934776   \n",
       "2       7.986104e+39  7.986248e+39       0.998086            0.934776   \n",
       "3       7.781315e+71  7.781379e+71       0.090158            0.462779   \n",
       "4       7.781315e+71  7.781379e+71       0.090158            0.462779   \n",
       "...              ...           ...            ...                 ...   \n",
       "109646  2.981955e+07  2.982252e+07       0.181220            0.333333   \n",
       "109647  1.263502e+08  1.263518e+08       0.133144            0.147606   \n",
       "109648  1.263409e+08  1.263423e+08       0.866856            0.852394   \n",
       "109649  2.112510e+05  2.117150e+05       0.678888            0.582547   \n",
       "109650  2.014082e+29  2.016622e+29       0.149081            0.131692   \n",
       "\n",
       "       delta_PPAU_treatment_control      simple_event_type  \n",
       "0                          0.031934                spliced  \n",
       "1                         -0.063310                spliced  \n",
       "2                         -0.063310                spliced  \n",
       "3                          0.372622                spliced  \n",
       "4                          0.372622                spliced  \n",
       "...                             ...                    ...  \n",
       "109646                     0.152113  distal_3utr_extension  \n",
       "109647                     0.014462                spliced  \n",
       "109648                    -0.014462                spliced  \n",
       "109649                    -0.096341                spliced  \n",
       "109650                    -0.017389                spliced  \n",
       "\n",
       "[109445 rows x 28 columns]"
      ]
     },
     "execution_count": 8,
     "metadata": {},
     "output_type": "execute_result"
    }
   ],
   "source": [
    "# filter out failed IDs from dexseq df (so not included as background)\n",
    "dexseq_df = dexseq_df[~dexseq_df[\"le_id\"].isin(manual_validation_fail_ids)]\n",
    "dexseq_df"
   ]
  },
  {
   "cell_type": "code",
   "execution_count": 12,
   "metadata": {},
   "outputs": [
    {
     "data": {
      "text/plain": [
       "simple_event_type\n",
       "spliced                  7883\n",
       "bleedthrough             3507\n",
       "distal_3utr_extension    3318\n",
       "Name: count, dtype: int64"
      ]
     },
     "execution_count": 12,
     "metadata": {},
     "output_type": "execute_result"
    }
   ],
   "source": [
    "# get le_ids that are novel bleedthroughs or ALEs\n",
    "# le_id_spliced = set(dexseq_df[dexseq_df.simple_event_type == \"distal_3utr_extension\"].le_id)\n",
    "# le_id_bleed = set(dexseq_df[dexseq_df.simple_event_type == \"distal_3utr_extension\"].le_id)\n",
    "dexseq_df[[\"le_id\", \"simple_event_type\"]].drop_duplicates().simple_event_type.value_counts()\n"
   ]
  },
  {
   "cell_type": "code",
   "execution_count": 13,
   "metadata": {},
   "outputs": [
    {
     "name": "stdout",
     "output_type": "stream",
     "text": [
      "Number of spliced ALE events - 7883\n",
      "Number of bleedthrough ALE events - 3507\n",
      "Number of 3'UTR-ALE events - 3318\n"
     ]
    }
   ],
   "source": [
    "# extract lists of event types\n",
    "le_id_spliced = dexseq_df.loc[dexseq_df.simple_event_type == \"spliced\", \"le_id\"]\n",
    "le_id_bleed = dexseq_df.loc[dexseq_df.simple_event_type == \"bleedthrough\", \"le_id\"]\n",
    "le_id_d3utr = dexseq_df.loc[dexseq_df.simple_event_type == \"distal_3utr_extension\", \"le_id\"]\n",
    "\n",
    "print(f\"Number of spliced ALE events - {len(set(le_id_spliced))}\")\n",
    "print(f\"Number of bleedthrough ALE events - {len(set(le_id_bleed))}\")\n",
    "print(f\"Number of 3'UTR-ALE events - {len(set(le_id_d3utr))}\")"
   ]
  },
  {
   "cell_type": "code",
   "execution_count": 14,
   "metadata": {},
   "outputs": [
    {
     "name": "stdout",
     "output_type": "stream",
     "text": [
      "Number of le_ids with bleedthrough and spliced annotations - 975\n"
     ]
    }
   ],
   "source": [
    "# how many le_ids have multiple annotations?\n",
    "le_id_spliced_bleed = set(le_id_spliced).intersection(set(le_id_bleed))\n",
    "print(f\"Number of le_ids with bleedthrough and spliced annotations - {len(le_id_spliced_bleed)}\")"
   ]
  },
  {
   "attachments": {},
   "cell_type": "markdown",
   "metadata": {},
   "source": []
  },
  {
   "cell_type": "code",
   "execution_count": 15,
   "metadata": {},
   "outputs": [
    {
     "name": "stdout",
     "output_type": "stream",
     "text": [
      "Number of spliced ALE events (after removing category-overlapping events) - 6908\n",
      "Number of bleedthrough ALE events (after removing category-overlapping events) - 2532\n"
     ]
    }
   ],
   "source": [
    "# remvoe le_ids with multiple annotations from list (to avoid ambiguity about annotations)\n",
    "le_id_spliced = le_id_spliced[~le_id_spliced.isin(le_id_spliced_bleed)]\n",
    "le_id_bleed = le_id_bleed[~le_id_bleed.isin(le_id_spliced_bleed)]\n",
    "print(f\"Number of spliced ALE events (after removing category-overlapping events) - {le_id_spliced.nunique()}\")\n",
    "print(f\"Number of bleedthrough ALE events (after removing category-overlapping events) - {le_id_bleed.nunique()}\")\n"
   ]
  },
  {
   "cell_type": "code",
   "execution_count": 16,
   "metadata": {},
   "outputs": [
    {
     "data": {
      "text/plain": [
       "simple_event_type\n",
       "spliced                    92\n",
       "distal_3utr_extension      86\n",
       "bleedthrough               20\n",
       "proximal_3utr_extension    20\n",
       "bleedthrough,spliced        9\n",
       "Name: count, dtype: int64"
      ]
     },
     "execution_count": 16,
     "metadata": {},
     "output_type": "execute_result"
    }
   ],
   "source": [
    "cryptics_df.simple_event_type.value_counts()"
   ]
  },
  {
   "cell_type": "code",
   "execution_count": 17,
   "metadata": {},
   "outputs": [
    {
     "data": {
      "text/plain": [
       "222"
      ]
     },
     "execution_count": 17,
     "metadata": {},
     "output_type": "execute_result"
    }
   ],
   "source": [
    "cryptics_df.gene_name.nunique()"
   ]
  },
  {
   "cell_type": "code",
   "execution_count": 18,
   "metadata": {},
   "outputs": [
    {
     "data": {
      "text/plain": [
       "annot_status\n",
       "novel              162\n",
       "annotated           47\n",
       "annotated,novel     18\n",
       "Name: count, dtype: int64"
      ]
     },
     "execution_count": 18,
     "metadata": {},
     "output_type": "execute_result"
    }
   ],
   "source": [
    "cryptics_df.annot_status.value_counts()"
   ]
  },
  {
   "cell_type": "code",
   "execution_count": 19,
   "metadata": {},
   "outputs": [
    {
     "data": {
      "text/plain": [
       "annot_status     simple_event_type      \n",
       "annotated        bleedthrough                2\n",
       "                 bleedthrough,spliced        3\n",
       "                 proximal_3utr_extension    17\n",
       "                 spliced                    25\n",
       "annotated,novel  bleedthrough,spliced        5\n",
       "                 proximal_3utr_extension     3\n",
       "                 spliced                    10\n",
       "novel            bleedthrough               18\n",
       "                 bleedthrough,spliced        1\n",
       "                 distal_3utr_extension      86\n",
       "                 spliced                    57\n",
       "Name: count, dtype: int64"
      ]
     },
     "execution_count": 19,
     "metadata": {},
     "output_type": "execute_result"
    }
   ],
   "source": [
    "cryptics_df[[\"annot_status\",\"simple_event_type\"]].value_counts(sort=False)"
   ]
  },
  {
   "cell_type": "code",
   "execution_count": 20,
   "metadata": {},
   "outputs": [
    {
     "name": "stdout",
     "output_type": "stream",
     "text": [
      "Number of cryptic spliced last exons - 92\n",
      "Number of cryptic bleedthrough last exons - 20\n"
     ]
    }
   ],
   "source": [
    "# pull out cryptic IDs from summary df\n",
    "le_id_spliced_cryp = set(cryptics_df.loc[cryptics_df[\"simple_event_type\"] == \"spliced\", \"le_id\"])\n",
    "le_id_bleed_cryp = set(cryptics_df.loc[cryptics_df[\"simple_event_type\"] == \"bleedthrough\", \"le_id\"])\n",
    "\n",
    "\n",
    "print(f\"Number of cryptic spliced last exons - {len(le_id_spliced_cryp)}\")\n",
    "print(f\"Number of cryptic bleedthrough last exons - {len(le_id_bleed_cryp)}\")"
   ]
  },
  {
   "cell_type": "code",
   "execution_count": 21,
   "metadata": {},
   "outputs": [
    {
     "name": "stdout",
     "output_type": "stream",
     "text": [
      "Number of novel cryptic spliced last exons - 67\n",
      "Number of novel cryptic bleedthrough last exons - 18\n"
     ]
    }
   ],
   "source": [
    "# get a set of novel cryptic IDs so can track where they go\n",
    "le_id_spliced_novel_cryp = set(cryptics_df[(cryptics_df[\"annot_status\"].isin([\"annotated,novel\", \"novel\"])) & (cryptics_df[\"simple_event_type\"] == \"spliced\")].le_id)\n",
    "le_id_bleed_novel_cryp = set(cryptics_df[(cryptics_df[\"annot_status\"].isin([\"annotated,novel\", \"novel\"])) & (cryptics_df[\"simple_event_type\"] == \"bleedthrough\")].le_id)\n",
    "\n",
    "print(f\"Number of novel cryptic spliced last exons - {len(le_id_spliced_novel_cryp)}\")\n",
    "print(f\"Number of novel cryptic bleedthrough last exons - {len(le_id_bleed_novel_cryp)}\")\n"
   ]
  },
  {
   "cell_type": "code",
   "execution_count": 22,
   "metadata": {},
   "outputs": [
    {
     "name": "stdout",
     "output_type": "stream",
     "text": [
      "Number of spliced ALE events (before removing those with a novel extended 3'UTR) - 6908\n",
      "Number of spliced ALE events (after removing those with a novel extended 3'UTR) - 4148\n"
     ]
    }
   ],
   "source": [
    "# good idea to ensure don't consider spliced LEs that have a 3'UTR extension\n",
    "# UPDATE now need to select representative proximal site for each distal site, since quantification approach lumps together all annotated proximal sites (and compares them to extension) \n",
    "# since le_ids are annotated sequentially, know that immediately succeeding le_number is the partner le_id\n",
    "le_id_spliced_spl = le_id_spliced.str.split(\"_\", regex=False, expand=True)\n",
    "le_id_spliced_spl[1] = le_id_spliced_spl[1].astype(int).add(1)\n",
    "# reconstruct le_id (corresponding to theoretical distal 3'UTR extension le_id)\n",
    "le_id_spliced_d3utr = le_id_spliced_spl[0].str.cat(le_id_spliced_spl[1].astype(str), sep=\"_\")\n",
    "\n",
    "# now have theoretical distal 3'UTR le_ids, intersect with actual ids - any overlapping will be removed from downstream analysis\n",
    "spliced_d3utr_olap = le_id_spliced_d3utr.isin(le_id_d3utr.values)\n",
    "# print(f\"Number of spliced last exons with 3'UTR extension - {spliced_d3utr_olap.sum()}\")\n",
    "\n",
    "print(f\"Number of spliced ALE events (before removing those with a novel extended 3'UTR) - {len(set(le_id_spliced))}\")\n",
    "# now use mask to remove these ALEs\n",
    "le_id_spliced_d3utr_olap = le_id_spliced[spliced_d3utr_olap]\n",
    "le_id_spliced = le_id_spliced[~spliced_d3utr_olap]\n",
    "\n",
    "\n",
    "print(f\"Number of spliced ALE events (after removing those with a novel extended 3'UTR) - {len(set(le_id_spliced))}\")\n"
   ]
  },
  {
   "cell_type": "code",
   "execution_count": 23,
   "metadata": {},
   "outputs": [],
   "source": [
    "# add le_id used in downstream analysis to original df of novel last exons\n",
    "novel_le = novel_le.apply(lambda df: df.merge(tx2le, on=\"transcript_id\", how=\"inner\", suffixes=[None, \"_quant\"]))\n"
   ]
  },
  {
   "cell_type": "code",
   "execution_count": 24,
   "metadata": {},
   "outputs": [
    {
     "name": "stdout",
     "output_type": "stream",
     "text": [
      "Fraction of novel cryptic last exons that are retained in the input reference of novel last exons - 1.0\n"
     ]
    }
   ],
   "source": [
    "# Double check that all novel cryptic LEs are retained\n",
    "print(f\"Fraction of novel cryptic last exons that are retained in the input reference of novel last exons - {len(set(novel_le.subset(lambda df: df.le_id_quant.isin(le_id_spliced_novel_cryp)).le_id_quant)) / len(le_id_spliced_novel_cryp)}\")"
   ]
  },
  {
   "cell_type": "code",
   "execution_count": 25,
   "metadata": {},
   "outputs": [
    {
     "name": "stdout",
     "output_type": "stream",
     "text": [
      "Number of novel spliced intervals before selecting representative LEs - 4496\n",
      "Number of novel spliced intervals after selecting representative LEs - 1050\n",
      "{'atlas_1_pred': 460, 'atlas_max_datasets': 106, 'atlas_max_datasets_shortest': 79, 'motif_1_min': 299, 'motif_shortest_min': 83}\n"
     ]
    }
   ],
   "source": [
    "# Select representative PAS for bleedthroughs and spliced events (novel)\n",
    "novel_le_rep_spliced, rep_choices_spliced = select_rep_site(novel_le.subset(lambda df: df.le_id_quant.isin(set(le_id_spliced))), id_col=\"le_id_quant\")\n",
    "\n",
    "\n",
    "print(f\"Number of novel spliced intervals before selecting representative LEs - {len(novel_le.subset(lambda df: df.le_id_quant.isin(set(le_id_spliced))))}\")\n",
    "print(f\"Number of novel spliced intervals after selecting representative LEs - {len(novel_le_rep_spliced)}\")\n",
    "print({dec: len(ids) for dec, ids in rep_choices_spliced.items()})\n",
    "\n",
    "\n"
   ]
  },
  {
   "cell_type": "code",
   "execution_count": 26,
   "metadata": {},
   "outputs": [
    {
     "name": "stdout",
     "output_type": "stream",
     "text": [
      "0\n",
      "set()\n"
     ]
    }
   ],
   "source": [
    "# see if any missing ids\n",
    "missing_novel_cryp_spl = le_id_spliced_novel_cryp - set(novel_le_rep_spliced.subset(lambda df: df.le_id_quant.isin(le_id_spliced_novel_cryp)).le_id_quant)\n",
    "print(len(missing_novel_cryp_spl))\n",
    "print(missing_novel_cryp_spl)\n"
   ]
  },
  {
   "cell_type": "code",
   "execution_count": 29,
   "metadata": {},
   "outputs": [
    {
     "name": "stdout",
     "output_type": "stream",
     "text": [
      "Number of bleedthrough intervals before selecting representative LEs - 3335\n",
      "Number of bleedthrough intervals after selecting representative LEs - 905\n",
      "{'atlas_1_pred': 408, 'atlas_max_datasets': 93, 'atlas_max_datasets_shortest': 73, 'motif_1_min': 311, 'motif_shortest_min': 14}\n"
     ]
    }
   ],
   "source": [
    "# Select representative PAS for bleedthroughs and spliced events\n",
    "novel_le_rep_bleed, rep_choices_bleed = select_rep_site(novel_le.subset(lambda df: df.le_id_quant.isin(set(le_id_bleed))), id_col=\"le_id_quant\")\n",
    "\n",
    "print(f\"Number of bleedthrough intervals before selecting representative LEs - {len(novel_le.subset(lambda df: df.le_id_quant.isin(set(le_id_bleed))))}\")\n",
    "print(f\"Number of bleedthrough intervals after selecting representative LEs - {len(novel_le_rep_bleed)}\")\n",
    "print({dec: len(ids) for dec, ids in rep_choices_bleed.items()})"
   ]
  },
  {
   "cell_type": "code",
   "execution_count": 30,
   "metadata": {},
   "outputs": [
    {
     "data": {
      "text/plain": [
       "0"
      ]
     },
     "execution_count": 30,
     "metadata": {},
     "output_type": "execute_result"
    }
   ],
   "source": [
    "# see if any missing ids\n",
    "missing_cryp_bleed = le_id_bleed_novel_cryp - set(novel_le_rep_bleed.subset(lambda df: df.le_id_quant.isin(le_id_bleed_novel_cryp)).le_id_quant)\n",
    "len(missing_cryp_bleed)"
   ]
  },
  {
   "cell_type": "code",
   "execution_count": 32,
   "metadata": {},
   "outputs": [
    {
     "name": "stdout",
     "output_type": "stream",
     "text": [
      "Number of cryptic ALE-containing genes - 222\n",
      "Number of cryptic ALE isoforms - 222\n",
      "Number of ns ALE-containing genes - 3066\n",
      "Number of ns ALE isoforms - 6657\n"
     ]
    }
   ],
   "source": [
    "# now want to generate an ID with minimal info required for making maps\n",
    "# 3'end coordinates/last exon, gene name, le_id, site type, regulation status\n",
    "# site_type - spliced/bleedthrough\n",
    "# regulation_status - cryptic/background\n",
    "\n",
    "\n",
    "# define cryptic le_ids\n",
    "# define cryptic gene_ids\n",
    "cryp_le_ids = set(cryptics_df.le_id)\n",
    "cryp_gene_names = set(cryptics_df.gene_name)\n",
    "\n",
    "\n",
    "# define cryptic & background le_ids\n",
    "# background - ns in any dataset (to do this, get list of sig in any dataset)\n",
    "# get gene IDs with no regulated ALEs in any dataset\n",
    "# returns pd.Series (index = groupIDs)\n",
    "ns_gene_ids = (dexseq_df.assign(reg_status=lambda df: np.where(df[\"padj\"].le(0.05), 1, 0))\n",
    "               .groupby(\"groupID\")\n",
    "               [\"reg_status\"]\n",
    "               .sum()\n",
    "               .loc[lambda x: x == 0]\n",
    "             )\n",
    "\n",
    "# set of le_ids that belong to genes with no significant ALEs (is this too conservative?)\n",
    "ns_le_ids = set(dexseq_df.loc[dexseq_df[\"groupID\"].isin(ns_gene_ids.index), \"le_id\"])\n",
    "\n",
    "\n",
    "print(f\"Number of cryptic ALE-containing genes - {len(cryp_gene_names)}\")\n",
    "print(f\"Number of cryptic ALE isoforms - {len(cryp_gene_names)}\")\n",
    "\n",
    "print(f\"Number of ns ALE-containing genes - {len(set(ns_gene_ids.index))}\")\n",
    "print(f\"Number of ns ALE isoforms - {len(set(ns_le_ids))}\")\n"
   ]
  },
  {
   "cell_type": "code",
   "execution_count": 33,
   "metadata": {},
   "outputs": [
    {
     "name": "stdout",
     "output_type": "stream",
     "text": [
      "Gene counts for the number of SH-SY5Y datasets in which genes are expressed\n",
      "experiment_name\n",
      "3    2582\n",
      "1    1068\n",
      "2     704\n",
      "Name: count, dtype: int64\n",
      "Number of ns ALE-containing genes expressed in all SH-SY5Y datasets - 1577\n",
      "Number of ns ALE isoforms of genes expressed in all SH-SY5Y datasets - 3624\n",
      "Of the genes containing ALE isoforms, how many datasets are the individual isoforms expressed in?\n",
      "experiment_name\n",
      "3    3304\n",
      "1     185\n",
      "2     135\n",
      "Name: count, dtype: int64\n",
      "Number of ns ALE isoforms expressed in all SH-SY5Y datasets - 3304\n"
     ]
    }
   ],
   "source": [
    "# Alternative definition of background (more conservative)\n",
    "# not significant in any SH-SY5Y dataset, but expressed/evaluated in at least one of them (so know is multi-ALE in at least one dataset)\n",
    "# NB: extra-check that expressed/evaluated in all 3? Then confident that is a multi-ALE gene robustly expressed/detected\n",
    "shsy5y_datasets = [\"zanovello_shsy5y_curve_0075\", \"zanovello_shsy5y_chx_kd_ctl_vs_ctl_ctl\", \"brown_shsy5y\"]\n",
    "dexseq_df_shsy5y = dexseq_df.loc[dexseq_df.experiment_name.isin(shsy5y_datasets), :]\n",
    "\n",
    "# first get an experiment count for each event\n",
    "gene_n_shsy5y_expressed = (dexseq_df_shsy5y\n",
    ".groupby(\"groupID\")\n",
    "[\"experiment_name\"]\n",
    ".nunique()\n",
    ")\n",
    "\n",
    "print(\"Gene counts for the number of SH-SY5Y datasets in which genes are expressed\")\n",
    "print(gene_n_shsy5y_expressed.value_counts())\n",
    "\n",
    "# get genes expressed in all SH-SY5Y datasets but with no sig change in any of them \n",
    "ns_gene_ids_shsy5y = (dexseq_df_shsy5y.loc[dexseq_df_shsy5y.groupID.isin(set(gene_n_shsy5y_expressed[gene_n_shsy5y_expressed == len(shsy5y_datasets)].index)), :]\n",
    ".assign(reg_status=lambda df: np.where(df[\"padj\"].le(0.05), 1, 0))\n",
    "               .groupby(\"groupID\")\n",
    "               [\"reg_status\"]\n",
    "               .sum()\n",
    "               .loc[lambda x: x == 0]\n",
    ")\n",
    "\n",
    "# set of\n",
    "ns_le_ids_shsy5y = set(dexseq_df_shsy5y.loc[dexseq_df_shsy5y[\"groupID\"].isin(ns_gene_ids_shsy5y.index), \"le_id\"])\n",
    "\n",
    "\n",
    "print(f\"Number of ns ALE-containing genes expressed in all SH-SY5Y datasets - {len(ns_gene_ids_shsy5y.index)}\")\n",
    "print(f\"Number of ns ALE isoforms of genes expressed in all SH-SY5Y datasets - {len(set(ns_le_ids_shsy5y))}\")\n",
    "\n",
    "# le_ids in genes with no differential usage in any dataset that are also expressed/assessed in all datasets\n",
    "ns_le_ids_shsy5y_all = set(dexseq_df_shsy5y[dexseq_df_shsy5y.le_id.isin(ns_le_ids_shsy5y)]\n",
    ".groupby(\"le_id\")\n",
    "[\"experiment_name\"]\n",
    ".nunique()\n",
    ".loc[lambda x: x == 3]\n",
    ".index\n",
    ")\n",
    "\n",
    "print(\"Of the genes containing ALE isoforms, how many datasets are the individual isoforms expressed in?\")\n",
    "print(dexseq_df_shsy5y[dexseq_df_shsy5y.le_id.isin(ns_le_ids_shsy5y)]\n",
    ".groupby(\"le_id\")\n",
    "[\"experiment_name\"]\n",
    ".nunique()\n",
    ".value_counts()\n",
    ")\n",
    "\n",
    "print(f\"Number of ns ALE isoforms expressed in all SH-SY5Y datasets - {len(ns_le_ids_shsy5y_all)}\")\n",
    "# (dexseq_df.assign(reg_status=lambda df: np.where(df[\"padj\"].le(0.05), 1, 0))\n",
    "#                .groupby(\"groupID\")\n",
    "#                [\"reg_status\"]\n",
    "#                .sum()\n",
    "#                \n",
    "#              )\n",
    "\n",
    "# dexseq_df.experiment_name.drop_duplicates()"
   ]
  },
  {
   "cell_type": "code",
   "execution_count": 34,
   "metadata": {},
   "outputs": [
    {
     "name": "stdout",
     "output_type": "stream",
     "text": [
      "Number of events using isoforms expressed in all SH-SY5Y datasets\n",
      "cryptic_status\n",
      "NULL          679\n",
      "background    208\n",
      "cryptic        18\n",
      "Name: count, dtype: int64\n"
     ]
    },
    {
     "data": {
      "text/plain": [
       "cryptic_status\n",
       "NULL          614\n",
       "background    273\n",
       "cryptic        18\n",
       "Name: count, dtype: int64"
      ]
     },
     "execution_count": 34,
     "metadata": {},
     "output_type": "execute_result"
    }
   ],
   "source": [
    "# assign cryptic status for novel bleedthroughs, using different SHSY5y genes as background\n",
    "# novel_le_rep_bleed_shsy5y = novel_le_rep_bleed.assign(\"cryptic_status\", lambda df: _define_cryptic_status(df, cryp_le_ids, ns_le_ids_shsy5y, id_col=\"le_id_quant\"))\n",
    "\n",
    "# use le_id_bleed_novel_cryp - novel to annotation cryptic bleedthrough last exons\n",
    "novel_le_rep_bleed_shsy5y_all = novel_le_rep_bleed.assign(\"cryptic_status\", lambda df: _define_cryptic_status(df, le_id_bleed_novel_cryp, ns_le_ids_shsy5y_all, id_col=\"le_id_quant\"))\n",
    "print(\"Number of events using isoforms expressed in all SH-SY5Y datasets\")\n",
    "print(novel_le_rep_bleed_shsy5y_all.cryptic_status.value_counts())\n",
    "\n",
    "\n",
    "# assign cryptic status for novel bleedthroughs, using standard ns as background (ns in all datasets)\n",
    "novel_le_rep_bleed = novel_le_rep_bleed.assign(\"cryptic_status\", lambda df: _define_cryptic_status(df, le_id_bleed_novel_cryp, ns_le_ids, id_col=\"le_id_quant\"))\n",
    "novel_le_rep_bleed.cryptic_status.value_counts()\n"
   ]
  },
  {
   "cell_type": "code",
   "execution_count": 35,
   "metadata": {},
   "outputs": [
    {
     "name": "stdout",
     "output_type": "stream",
     "text": [
      "Number of events using isoforms expressed in all SH-SY5Y datasets\n",
      "cryptic_status\n",
      "NULL          734\n",
      "background    249\n",
      "cryptic        67\n",
      "Name: count, dtype: int64\n"
     ]
    },
    {
     "data": {
      "text/plain": [
       "cryptic_status\n",
       "NULL          614\n",
       "background    346\n",
       "cryptic        67\n",
       "Name: count, dtype: int64"
      ]
     },
     "execution_count": 35,
     "metadata": {},
     "output_type": "execute_result"
    }
   ],
   "source": [
    "# assign cryptic status for novel spliced events, using isoforms expressed in all SH-SY5Y experiments but unchanged in all as background\n",
    "novel_le_rep_spliced_shsy5y_all = novel_le_rep_spliced.assign(\"cryptic_status\", lambda df: _define_cryptic_status(df, le_id_spliced_novel_cryp, ns_le_ids_shsy5y_all, id_col=\"le_id_quant\"))\n",
    "print(\"Number of events using isoforms expressed in all SH-SY5Y datasets\")\n",
    "print(novel_le_rep_spliced_shsy5y_all.cryptic_status.value_counts())\n",
    "\n",
    "\n",
    "# assign cryptic status for novel spliced events\n",
    "novel_le_rep_spliced = novel_le_rep_spliced.assign(\"cryptic_status\", lambda df: _define_cryptic_status(df, le_id_spliced_novel_cryp, ns_le_ids, id_col=\"le_id_quant\"))\n",
    "novel_le_rep_spliced.as_df().drop_duplicates(subset=\"le_id_quant\").cryptic_status.value_counts()"
   ]
  },
  {
   "cell_type": "code",
   "execution_count": 36,
   "metadata": {},
   "outputs": [],
   "source": [
    "def construct_bed_name(gr: pr.PyRanges, site_type: str, gene_name_col: str = \"gene_name_ref\", le_id_col: str = \"le_id_quant\"):\n",
    "     '''construct name field of output file - le_id|gene_name|site_type|cryptic_status\n",
    "\n",
    "     Parameters\n",
    "     ----------\n",
    "     gr : pr.PyRanges\n",
    "         _description_\n",
    "     site_type : str\n",
    "         _description_\n",
    "\n",
    "     Returns\n",
    "     -------\n",
    "     _type_\n",
    "         _description_\n",
    "     '''\n",
    "     # remove genes not assigned to cryptic/background\n",
    "     gr = gr.subset(lambda df: df[\"cryptic_status\"].ne(\"NULL\"))\n",
    "    \n",
    "     # some ref_gene_name entries are duplicated - collapse as appropriate\n",
    "     gr = gr.assign(gene_name_col + \"_tmp\",\n",
    "         # list(dict.fromkeys(x.split(\",\"))) - drops duplicates whilst preserving order\n",
    "         # some ref_gene_name entries have multiple gene names\n",
    "         lambda df: df[gene_name_col].apply(lambda x: \",\".join(list(dict.fromkeys(x.split(\",\")))))\n",
    "         )\n",
    "\n",
    "     # assign temp col of category of event\n",
    "     gr = gr.assign(\"site_type\", lambda df: pd.Series([site_type]*len(df.index), index=df.index))\n",
    "    \n",
    "    # Assign final Name field\n",
    "     gr = (gr.assign(\"Name\",\n",
    "                    lambda df: df[le_id_col].str.cat(df[[gene_name_col + \"_tmp\", \"site_type\", \"cryptic_status\"]], sep=\"|\"))\n",
    "                    .drop([\"site_type\", gene_name_col + \"_tmp\"])\n",
    "                    )\n",
    "\n",
    "     return gr"
   ]
  },
  {
   "cell_type": "code",
   "execution_count": 37,
   "metadata": {},
   "outputs": [],
   "source": [
    "# Construct 'name' string with minimal annotation information\n",
    "# le_id|gene_name|site_type|cryptic_status\n",
    "novel_le_rep_bleed = construct_bed_name(novel_le_rep_bleed, \"bleedthrough\")\n",
    "novel_le_rep_bleed_shsy5y_all = construct_bed_name(novel_le_rep_bleed_shsy5y_all, \"bleedthrough\")\n",
    "novel_le_rep_spliced = construct_bed_name(novel_le_rep_spliced, \"spliced\")\n",
    "novel_le_rep_spliced_shsy5y_all = construct_bed_name(novel_le_rep_spliced_shsy5y_all, \"spliced\")"
   ]
  },
  {
   "cell_type": "code",
   "execution_count": 38,
   "metadata": {},
   "outputs": [
    {
     "data": {
      "text/html": [
       "<div>\n",
       "<style scoped>\n",
       "    .dataframe tbody tr th:only-of-type {\n",
       "        vertical-align: middle;\n",
       "    }\n",
       "\n",
       "    .dataframe tbody tr th {\n",
       "        vertical-align: top;\n",
       "    }\n",
       "\n",
       "    .dataframe thead th {\n",
       "        text-align: right;\n",
       "    }\n",
       "</style>\n",
       "<table border=\"1\" class=\"dataframe\">\n",
       "  <thead>\n",
       "    <tr style=\"text-align: right;\">\n",
       "      <th></th>\n",
       "      <th>transcript_id</th>\n",
       "      <th>le_id</th>\n",
       "      <th>Name</th>\n",
       "    </tr>\n",
       "  </thead>\n",
       "  <tbody>\n",
       "    <tr>\n",
       "      <th>0</th>\n",
       "      <td>PAPA.CTRL-6.141.2</td>\n",
       "      <td>ENSG00000041988.16_2</td>\n",
       "      <td>ENSG00000041988.16_2|THAP3|bleedthrough|backgr...</td>\n",
       "    </tr>\n",
       "    <tr>\n",
       "      <th>1</th>\n",
       "      <td>PAPA.doxconc_DOX_0075_1.1061.3</td>\n",
       "      <td>ENSG00000116830.12_2</td>\n",
       "      <td>ENSG00000116830.12_2|TTF2|bleedthrough|background</td>\n",
       "    </tr>\n",
       "    <tr>\n",
       "      <th>2</th>\n",
       "      <td>PAPA.TDP43-G_S7.362.1</td>\n",
       "      <td>ENSG00000117682.17_3</td>\n",
       "      <td>ENSG00000117682.17_3|DHDDS|bleedthrough|backgr...</td>\n",
       "    </tr>\n",
       "    <tr>\n",
       "      <th>3</th>\n",
       "      <td>PAPA.doxconc_NT_0_3.354.1</td>\n",
       "      <td>ENSG00000117682.17_6</td>\n",
       "      <td>ENSG00000117682.17_6|DHDDS|bleedthrough|backgr...</td>\n",
       "    </tr>\n",
       "    <tr>\n",
       "      <th>4</th>\n",
       "      <td>PAPA.NT_19074719_S22.1162.5</td>\n",
       "      <td>ENSG00000122481.17_2</td>\n",
       "      <td>ENSG00000122481.17_2|RWDD3|bleedthrough|backgr...</td>\n",
       "    </tr>\n",
       "    <tr>\n",
       "      <th>...</th>\n",
       "      <td>...</td>\n",
       "      <td>...</td>\n",
       "      <td>...</td>\n",
       "    </tr>\n",
       "    <tr>\n",
       "      <th>286</th>\n",
       "      <td>PAPA.doxconc_NT_0_1.19421.4</td>\n",
       "      <td>ENSG00000102393.14_1</td>\n",
       "      <td>ENSG00000102393.14_1|GLA|bleedthrough|background</td>\n",
       "    </tr>\n",
       "    <tr>\n",
       "      <th>287</th>\n",
       "      <td>PAPA.TDP43-G_S7.20350.2</td>\n",
       "      <td>ENSG00000180182.11_3</td>\n",
       "      <td>ENSG00000180182.11_3|MED14|bleedthrough|cryptic</td>\n",
       "    </tr>\n",
       "    <tr>\n",
       "      <th>288</th>\n",
       "      <td>PAPA.chx_tdp_DOX_ctrl_4.20438.1</td>\n",
       "      <td>ENSG00000181544.16_2</td>\n",
       "      <td>ENSG00000181544.16_2|FANCB|bleedthrough|backgr...</td>\n",
       "    </tr>\n",
       "    <tr>\n",
       "      <th>289</th>\n",
       "      <td>PAPA.Cont-D_S4.20482.2</td>\n",
       "      <td>ENSG00000197021.9_2</td>\n",
       "      <td>ENSG00000197021.9_2|EOLA2|bleedthrough|background</td>\n",
       "    </tr>\n",
       "    <tr>\n",
       "      <th>290</th>\n",
       "      <td>PAPA.TDP43_ctrl_2.26896.10</td>\n",
       "      <td>ENSG00000213468.7_1</td>\n",
       "      <td>ENSG00000213468.7_1|FIRRE|bleedthrough|cryptic</td>\n",
       "    </tr>\n",
       "  </tbody>\n",
       "</table>\n",
       "<p>291 rows × 3 columns</p>\n",
       "</div>"
      ],
      "text/plain": [
       "                       transcript_id                 le_id  \\\n",
       "0                  PAPA.CTRL-6.141.2  ENSG00000041988.16_2   \n",
       "1     PAPA.doxconc_DOX_0075_1.1061.3  ENSG00000116830.12_2   \n",
       "2              PAPA.TDP43-G_S7.362.1  ENSG00000117682.17_3   \n",
       "3          PAPA.doxconc_NT_0_3.354.1  ENSG00000117682.17_6   \n",
       "4        PAPA.NT_19074719_S22.1162.5  ENSG00000122481.17_2   \n",
       "..                               ...                   ...   \n",
       "286      PAPA.doxconc_NT_0_1.19421.4  ENSG00000102393.14_1   \n",
       "287          PAPA.TDP43-G_S7.20350.2  ENSG00000180182.11_3   \n",
       "288  PAPA.chx_tdp_DOX_ctrl_4.20438.1  ENSG00000181544.16_2   \n",
       "289           PAPA.Cont-D_S4.20482.2   ENSG00000197021.9_2   \n",
       "290       PAPA.TDP43_ctrl_2.26896.10   ENSG00000213468.7_1   \n",
       "\n",
       "                                                  Name  \n",
       "0    ENSG00000041988.16_2|THAP3|bleedthrough|backgr...  \n",
       "1    ENSG00000116830.12_2|TTF2|bleedthrough|background  \n",
       "2    ENSG00000117682.17_3|DHDDS|bleedthrough|backgr...  \n",
       "3    ENSG00000117682.17_6|DHDDS|bleedthrough|backgr...  \n",
       "4    ENSG00000122481.17_2|RWDD3|bleedthrough|backgr...  \n",
       "..                                                 ...  \n",
       "286   ENSG00000102393.14_1|GLA|bleedthrough|background  \n",
       "287    ENSG00000180182.11_3|MED14|bleedthrough|cryptic  \n",
       "288  ENSG00000181544.16_2|FANCB|bleedthrough|backgr...  \n",
       "289  ENSG00000197021.9_2|EOLA2|bleedthrough|background  \n",
       "290     ENSG00000213468.7_1|FIRRE|bleedthrough|cryptic  \n",
       "\n",
       "[291 rows x 3 columns]"
      ]
     },
     "execution_count": 38,
     "metadata": {},
     "output_type": "execute_result"
    }
   ],
   "source": [
    "# for spliced events, want to report the last exon coordinates (also split into 5'end & 3'end)\n",
    "# for this purpose, current coordiantes (from input last exons) is sufficient.\n",
    "# but for bleedthrough events, this will contain the complete last exon. So need to return to quant last exons to get the unique regions. \n",
    "\n",
    "# novel_le_rep_bleed - extract transcript_id (i.e. represents selected isoform) & downstream le_id (le_id_quant)\n",
    "novel_rep_bleed_tx2le = novel_le_rep_bleed.as_df()[[\"transcript_id\", \"le_id_quant\", \"Name\"]].rename(columns={\"le_id_quant\": \"le_id\"})\n",
    "novel_rep_bleed_shsy5y_all_tx2le = novel_le_rep_bleed_shsy5y_all.as_df()[[\"transcript_id\", \"le_id_quant\", \"Name\"]].rename(columns={\"le_id_quant\": \"le_id\"})\n",
    "novel_rep_bleed_tx2le\n",
    "\n"
   ]
  },
  {
   "cell_type": "code",
   "execution_count": 39,
   "metadata": {},
   "outputs": [
    {
     "name": "stdout",
     "output_type": "stream",
     "text": [
      "Liberal background - Number of le_ids in full last exons - 291 - vs the quantification truncated last exons - 291\n",
      "SH-SY5Y background - Number of le_ids in full last exons - 225 - vs the quantification truncated last exons - 225\n"
     ]
    }
   ],
   "source": [
    "# subset to representative bleedthrough txs, joining in Name information\n",
    "# 5'coord = 1st cooridnate of intron (i.e. where spliced occurs)\n",
    "# 3'coord = final coordinate of last exon\n",
    "novel_le_rep_bleed_quant = quant_uniq_le.apply(lambda df: df.merge(novel_rep_bleed_tx2le, on=[\"le_id\"], how=\"inner\"))\n",
    "novel_le_rep_bleed_shsy5y_all_quant = quant_uniq_le.apply(lambda df: df.merge(novel_rep_bleed_shsy5y_all_tx2le, on=[\"le_id\"], how=\"inner\"))\n",
    "\n",
    "# double check number of le_ids remains the same\n",
    "print(f\"Liberal background - Number of le_ids in full last exons - {novel_le_rep_bleed.le_id_quant.nunique()} - vs the quantification truncated last exons - {novel_le_rep_bleed_quant.le_id.nunique()}\")\n",
    "print(f\"SH-SY5Y background - Number of le_ids in full last exons - {novel_le_rep_bleed_shsy5y_all.le_id_quant.nunique()} - vs the quantification truncated last exons - {novel_le_rep_bleed_shsy5y_all_quant.le_id.nunique()}\")\n",
    "\n",
    "# novel_le_rep_bleed_quant[[\"Score\", \"Name\", \"transcript_id\", \"le_id\"]].drop_duplicate_positions()\n"
   ]
  },
  {
   "attachments": {},
   "cell_type": "markdown",
   "metadata": {},
   "source": [
    "### Repeat for annotated"
   ]
  },
  {
   "cell_type": "code",
   "execution_count": 40,
   "metadata": {},
   "outputs": [
    {
     "name": "stdout",
     "output_type": "stream",
     "text": [
      "Number of annotated bleedthrough last exons (assessed by DEXSeq) - 1633\n",
      "Number of annotated spliced last exons (assessed by DEXSeq) - 3121\n"
     ]
    }
   ],
   "source": [
    "# get le_ids in which all transcripts are annotated\n",
    "annotated_le_ids = dexseq_df.groupby(\"le_id\").filter(lambda df: (df.annot_status == \"annotated\").all()).le_id\n",
    "le_id_bleed_annot = set(le_id_bleed).intersection(set(annotated_le_ids))\n",
    "le_id_spliced_annot = set(le_id_spliced).intersection(set(annotated_le_ids))\n",
    "print(f\"Number of annotated bleedthrough last exons (assessed by DEXSeq) - {len(le_id_bleed_annot)}\")\n",
    "print(f\"Number of annotated spliced last exons (assessed by DEXSeq) - {len(le_id_spliced_annot)}\")\n"
   ]
  },
  {
   "cell_type": "code",
   "execution_count": 41,
   "metadata": {},
   "outputs": [],
   "source": [
    "# subset quantification GTF for spliecd last exons \n",
    "ref_le_spliced = quant_uniq_le.subset(lambda df: df.le_id.isin(le_id_spliced_annot))\n",
    "# select representative isoform for each last exon ID (most distal 3'end)\n",
    "ref_le_spliced = select_rep_prox_site(ref_le_spliced, \"le_id\")\n",
    "\n",
    "# subset quantification GTF for bleedthrough last exons \n",
    "ref_le_bleed = quant_uniq_le.subset(lambda df: df.le_id.isin(le_id_bleed_annot))\n",
    "# select representative isoform for each last exon ID (most distal 3'end)\n",
    "ref_le_bleed = select_rep_prox_site(ref_le_bleed, \"le_id\")"
   ]
  },
  {
   "cell_type": "code",
   "execution_count": 43,
   "metadata": {},
   "outputs": [
    {
     "name": "stdout",
     "output_type": "stream",
     "text": [
      "cryptic_status\n",
      "NULL          2981\n",
      "background     839\n",
      "cryptic         29\n",
      "Name: count, dtype: int64\n"
     ]
    },
    {
     "data": {
      "text/plain": [
       "cryptic_status\n",
       "NULL          1935\n",
       "background    1885\n",
       "cryptic         29\n",
       "Name: count, dtype: int64"
      ]
     },
     "execution_count": 43,
     "metadata": {},
     "output_type": "execute_result"
    }
   ],
   "source": [
    "# assign cryptic status for annotatesd spliced last exons\n",
    "ref_le_spliced_shsy5y_all = ref_le_spliced.assign(\"cryptic_status\", lambda df: _define_cryptic_status(df, cryp_le_ids, ns_le_ids_shsy5y_all, id_col=\"le_id\"))\n",
    "print(ref_le_spliced_shsy5y_all.cryptic_status.value_counts())\n",
    "\n",
    "\n",
    "ref_le_spliced = ref_le_spliced.assign(\"cryptic_status\", lambda df: _define_cryptic_status(df, cryp_le_ids, ns_le_ids, id_col=\"le_id\"))\n",
    "ref_le_spliced.cryptic_status.value_counts()\n"
   ]
  },
  {
   "cell_type": "code",
   "execution_count": 44,
   "metadata": {},
   "outputs": [
    {
     "name": "stdout",
     "output_type": "stream",
     "text": [
      "cryptic_status\n",
      "NULL          1382\n",
      "background     359\n",
      "cryptic          2\n",
      "Name: count, dtype: int64\n"
     ]
    },
    {
     "data": {
      "text/plain": [
       "cryptic_status\n",
       "background    927\n",
       "NULL          814\n",
       "cryptic         2\n",
       "Name: count, dtype: int64"
      ]
     },
     "execution_count": 44,
     "metadata": {},
     "output_type": "execute_result"
    }
   ],
   "source": [
    "# assign cryptic status for annotatesd bleedthrough last exons\n",
    "ref_le_bleed_shsy5y_all = ref_le_bleed.assign(\"cryptic_status\", lambda df: _define_cryptic_status(df, cryp_le_ids, ns_le_ids_shsy5y_all, id_col=\"le_id\"))\n",
    "print(ref_le_bleed_shsy5y_all.cryptic_status.value_counts())\n",
    "\n",
    "ref_le_bleed = ref_le_bleed.assign(\"cryptic_status\", lambda df: _define_cryptic_status(df, cryp_le_ids, ns_le_ids, id_col=\"le_id\"))\n",
    "ref_le_bleed.cryptic_status.value_counts()"
   ]
  },
  {
   "cell_type": "code",
   "execution_count": 45,
   "metadata": {},
   "outputs": [],
   "source": [
    "# Construct Name field with minimal annotation info\n",
    "\n",
    "ref_le_bleed = construct_bed_name(ref_le_bleed, \"bleedthrough\", gene_name_col=\"ref_gene_name\", le_id_col=\"le_id\")\n",
    "ref_le_bleed_shsy5y_all = construct_bed_name(ref_le_bleed_shsy5y_all, \"bleedthrough\", gene_name_col=\"ref_gene_name\", le_id_col=\"le_id\")\n",
    "ref_le_spliced = construct_bed_name(ref_le_spliced, \"spliced\", gene_name_col=\"ref_gene_name\", le_id_col=\"le_id\")\n",
    "ref_le_spliced_shsy5y_all = construct_bed_name(ref_le_spliced_shsy5y_all, \"spliced\", gene_name_col=\"ref_gene_name\", le_id_col=\"le_id\")"
   ]
  },
  {
   "cell_type": "code",
   "execution_count": 46,
   "metadata": {},
   "outputs": [],
   "source": [
    "# combined output BEDs\n",
    "spliced_out_bed = pr.concat([novel_le_rep_spliced[[\"Score\", \"Name\"]].drop_duplicate_positions(),\n",
    "                             ref_le_spliced[[\"Score\", \"Name\"]].drop_duplicate_positions()])\n",
    "\n",
    "spliced_out_bed_shsy5y_all = pr.concat([novel_le_rep_spliced_shsy5y_all[[\"Score\", \"Name\"]].drop_duplicate_positions(),\n",
    "                             ref_le_spliced_shsy5y_all[[\"Score\", \"Name\"]].drop_duplicate_positions()])\n",
    "\n",
    "# ...\n",
    "bleed_out_bed = pr.concat([novel_le_rep_bleed_quant[[\"Score\", \"Name\"]].drop_duplicate_positions(),\n",
    "                             ref_le_bleed[[\"Score\", \"Name\"]].drop_duplicate_positions()])\n",
    "\n",
    "bleed_out_bed_shsy5y_all = pr.concat([novel_le_rep_bleed_shsy5y_all_quant[[\"Score\", \"Name\"]].drop_duplicate_positions(),\n",
    "                             ref_le_bleed_shsy5y_all[[\"Score\", \"Name\"]].drop_duplicate_positions()])\n"
   ]
  },
  {
   "cell_type": "code",
   "execution_count": 47,
   "metadata": {},
   "outputs": [
    {
     "name": "stdout",
     "output_type": "stream",
     "text": [
      "Number of cryptic spliced cryptic IDs not found in std spliced BED file - 0\n",
      "Number of cryptic spliced cryptic IDs not found in shsy5y only spliced BED file - 0\n",
      "Number of cryptic bleedthrough cryptic IDs not found in std bleedthrough BED file - 0\n",
      "Number of cryptic bleedthrough cryptic IDs not found in shsy5y only bleedthrough BED file - 0\n"
     ]
    }
   ],
   "source": [
    "def get_missing_cryptics(gr, cryptic_le_ids: set):\n",
    "    '''return set of cryptic IDs NOT found in gr\n",
    "\n",
    "    Parameters\n",
    "    ----------\n",
    "    gr : _type_\n",
    "        _description_\n",
    "    '''\n",
    "    # temporarily create le_id\n",
    "    gr_le_id = set(gr.Name.str.split(\"|\", expand=True)[0])\n",
    "\n",
    "    return cryptic_le_ids.difference(gr_le_id)\n",
    "\n",
    "# double check if all cryptics retained\n",
    "print(f\"Number of cryptic spliced cryptic IDs not found in std spliced BED file - {len(get_missing_cryptics(spliced_out_bed, event_type_le_ids['spliced']))}\")\n",
    "print(f\"Number of cryptic spliced cryptic IDs not found in shsy5y only spliced BED file - {len(get_missing_cryptics(spliced_out_bed_shsy5y_all, event_type_le_ids['spliced']))}\")\n",
    "print(f\"Number of cryptic bleedthrough cryptic IDs not found in std bleedthrough BED file - {len(get_missing_cryptics(bleed_out_bed, event_type_le_ids['bleedthrough']))}\")\n",
    "print(f\"Number of cryptic bleedthrough cryptic IDs not found in shsy5y only bleedthrough BED file - {len(get_missing_cryptics(bleed_out_bed_shsy5y_all, event_type_le_ids['bleedthrough']))}\")"
   ]
  },
  {
   "cell_type": "code",
   "execution_count": 49,
   "metadata": {},
   "outputs": [
    {
     "name": "stdout",
     "output_type": "stream",
     "text": [
      "Spliced BED\n",
      "3\n",
      "background    1898\n",
      "cryptic         92\n",
      "Name: count, dtype: int64\n",
      "20\n",
      "bleedthrough BED\n"
     ]
    },
    {
     "data": {
      "text/plain": [
       "3\n",
       "background    1631\n",
       "cryptic         43\n",
       "Name: count, dtype: int64"
      ]
     },
     "execution_count": 49,
     "metadata": {},
     "output_type": "execute_result"
    }
   ],
   "source": [
    "print(\"Spliced BED\")\n",
    "print(spliced_out_bed.drop_duplicate_positions().Name.str.split(\"|\", expand=True)[3].value_counts())\n",
    "\n",
    "print(bleed_out_bed.subset(lambda df: df.Name.str.contains(\"cryptic\", regex=False)).drop_duplicate_positions().Name.str.split(\"|\", expand=True)[0].nunique())\n",
    "\n",
    "print(\"bleedthrough BED\")\n",
    "bleed_out_bed.drop_duplicate_positions().Name.str.split(\"|\", expand=True)[3].value_counts()\n"
   ]
  },
  {
   "cell_type": "markdown",
   "metadata": {},
   "source": [
    "Number of events doesn't match up with expectation, especially for bleedthrough events. So clearly the collapsing is not working as expected:\n",
    "1. List of duplicated IDs for spliced and 3'UTR-ALE lists\n",
    "2. filter down BEDs to these regions - see where differences are arising (3'end/5'end?)\n",
    "..."
   ]
  },
  {
   "cell_type": "code",
   "execution_count": 50,
   "metadata": {},
   "outputs": [
    {
     "data": {
      "text/html": [
       "<div>\n",
       "<style scoped>\n",
       "    .dataframe tbody tr th:only-of-type {\n",
       "        vertical-align: middle;\n",
       "    }\n",
       "\n",
       "    .dataframe tbody tr th {\n",
       "        vertical-align: top;\n",
       "    }\n",
       "\n",
       "    .dataframe thead th {\n",
       "        text-align: right;\n",
       "    }\n",
       "</style>\n",
       "<table border=\"1\" class=\"dataframe\">\n",
       "  <thead>\n",
       "    <tr style=\"text-align: right;\">\n",
       "      <th></th>\n",
       "      <th>Chromosome</th>\n",
       "      <th>Start</th>\n",
       "      <th>End</th>\n",
       "      <th>Score</th>\n",
       "      <th>Strand</th>\n",
       "      <th>Name</th>\n",
       "    </tr>\n",
       "  </thead>\n",
       "  <tbody>\n",
       "    <tr>\n",
       "      <th>0</th>\n",
       "      <td>chr1</td>\n",
       "      <td>6632795</td>\n",
       "      <td>6633584</td>\n",
       "      <td>.</td>\n",
       "      <td>+</td>\n",
       "      <td>ENSG00000041988.16_2|THAP3|bleedthrough|backgr...</td>\n",
       "    </tr>\n",
       "    <tr>\n",
       "      <th>1</th>\n",
       "      <td>chr1</td>\n",
       "      <td>6632795</td>\n",
       "      <td>6633994</td>\n",
       "      <td>.</td>\n",
       "      <td>+</td>\n",
       "      <td>ENSG00000041988.16_2|THAP3|bleedthrough|backgr...</td>\n",
       "    </tr>\n",
       "    <tr>\n",
       "      <th>2</th>\n",
       "      <td>chr1</td>\n",
       "      <td>117081947</td>\n",
       "      <td>117082852</td>\n",
       "      <td>.</td>\n",
       "      <td>+</td>\n",
       "      <td>ENSG00000116830.12_2|TTF2|bleedthrough|background</td>\n",
       "    </tr>\n",
       "    <tr>\n",
       "      <th>3</th>\n",
       "      <td>chr1</td>\n",
       "      <td>117081947</td>\n",
       "      <td>117083101</td>\n",
       "      <td>.</td>\n",
       "      <td>+</td>\n",
       "      <td>ENSG00000116830.12_2|TTF2|bleedthrough|background</td>\n",
       "    </tr>\n",
       "    <tr>\n",
       "      <th>4</th>\n",
       "      <td>chr1</td>\n",
       "      <td>26447660</td>\n",
       "      <td>26448570</td>\n",
       "      <td>.</td>\n",
       "      <td>+</td>\n",
       "      <td>ENSG00000117682.17_6|DHDDS|bleedthrough|backgr...</td>\n",
       "    </tr>\n",
       "    <tr>\n",
       "      <th>...</th>\n",
       "      <td>...</td>\n",
       "      <td>...</td>\n",
       "      <td>...</td>\n",
       "      <td>...</td>\n",
       "      <td>...</td>\n",
       "      <td>...</td>\n",
       "    </tr>\n",
       "    <tr>\n",
       "      <th>666</th>\n",
       "      <td>chrX</td>\n",
       "      <td>149931848</td>\n",
       "      <td>149932588</td>\n",
       "      <td>.</td>\n",
       "      <td>-</td>\n",
       "      <td>ENSG00000197021.9_2|EOLA2|bleedthrough|background</td>\n",
       "    </tr>\n",
       "    <tr>\n",
       "      <th>667</th>\n",
       "      <td>chrX</td>\n",
       "      <td>149931856</td>\n",
       "      <td>149932588</td>\n",
       "      <td>.</td>\n",
       "      <td>-</td>\n",
       "      <td>ENSG00000197021.9_2|EOLA2|bleedthrough|background</td>\n",
       "    </tr>\n",
       "    <tr>\n",
       "      <th>668</th>\n",
       "      <td>chrX</td>\n",
       "      <td>149932190</td>\n",
       "      <td>149932588</td>\n",
       "      <td>.</td>\n",
       "      <td>-</td>\n",
       "      <td>ENSG00000197021.9_2|EOLA2|bleedthrough|background</td>\n",
       "    </tr>\n",
       "    <tr>\n",
       "      <th>669</th>\n",
       "      <td>chrX</td>\n",
       "      <td>131823775</td>\n",
       "      <td>131825221</td>\n",
       "      <td>.</td>\n",
       "      <td>-</td>\n",
       "      <td>ENSG00000213468.7_1|FIRRE|bleedthrough|cryptic</td>\n",
       "    </tr>\n",
       "    <tr>\n",
       "      <th>670</th>\n",
       "      <td>chrX</td>\n",
       "      <td>131823777</td>\n",
       "      <td>131825221</td>\n",
       "      <td>.</td>\n",
       "      <td>-</td>\n",
       "      <td>ENSG00000213468.7_1|FIRRE|bleedthrough|cryptic</td>\n",
       "    </tr>\n",
       "  </tbody>\n",
       "</table>\n",
       "<p>671 rows × 6 columns</p>\n",
       "</div>"
      ],
      "text/plain": [
       "+--------------+-----------+-----------+------------+--------------+-------+\n",
       "| Chromosome   | Start     | End       | Score      | Strand       | +1    |\n",
       "| (category)   | (int64)   | (int64)   | (object)   | (category)   | ...   |\n",
       "|--------------+-----------+-----------+------------+--------------+-------|\n",
       "| chr1         | 6632795   | 6633584   | .          | +            | ...   |\n",
       "| chr1         | 6632795   | 6633994   | .          | +            | ...   |\n",
       "| chr1         | 117081947 | 117082852 | .          | +            | ...   |\n",
       "| chr1         | 117081947 | 117083101 | .          | +            | ...   |\n",
       "| ...          | ...       | ...       | ...        | ...          | ...   |\n",
       "| chrX         | 149931856 | 149932588 | .          | -            | ...   |\n",
       "| chrX         | 149932190 | 149932588 | .          | -            | ...   |\n",
       "| chrX         | 131823775 | 131825221 | .          | -            | ...   |\n",
       "| chrX         | 131823777 | 131825221 | .          | -            | ...   |\n",
       "+--------------+-----------+-----------+------------+--------------+-------+\n",
       "Stranded PyRanges object has 671 rows and 6 columns from 23 chromosomes.\n",
       "For printing, the PyRanges was sorted on Chromosome and Strand.\n",
       "1 hidden columns: Name"
      ]
     },
     "execution_count": 50,
     "metadata": {},
     "output_type": "execute_result"
    }
   ],
   "source": [
    "# get sets of IDs that have multiple region annotations\n",
    "spliced_duplicated_names = set(spliced_out_bed.drop_duplicate_positions().Name.value_counts().loc[lambda x: x > 1].index)\n",
    "bleed_duplicated_names = set(bleed_out_bed.drop_duplicate_positions().Name.value_counts().loc[lambda x: x > 1].index)\n",
    "\n",
    "spliced_out_bed_duplicated = spliced_out_bed.subset(lambda df: df.Name.isin(spliced_duplicated_names))\n",
    "bleed_out_bed_duplicated = bleed_out_bed.subset(lambda df: df.Name.isin(bleed_duplicated_names))\n",
    "\n",
    "bleed_out_bed_duplicated\n",
    "# print(spliced_out_bed.drop_duplicate_positions().Name.value_counts().loc[lambda x: x > 1].index.nunique())\n",
    "# bleed_out_bed.drop_duplicate_positions().Name.value_counts().loc[lambda x: x > 1].index.nunique()"
   ]
  },
  {
   "cell_type": "code",
   "execution_count": 51,
   "metadata": {},
   "outputs": [
    {
     "name": "stdout",
     "output_type": "stream",
     "text": [
      "Number of duplicated bleedthrough events with multiple 5'ends - 9\n",
      "Number of duplicated bleedthrough events with multiple 3'ends - 164\n"
     ]
    }
   ],
   "source": [
    "# by eye seem to have different, but closely spaced 3'ends\n",
    "# first check number of unique 5' ends\n",
    "bleed_duplicated_num_5ends = bleed_out_bed_duplicated.as_df().groupby([\"Name\", \"Strand\"]).apply(lambda df: df.Start.nunique() if (df.Strand == \"+\").all() else df.End.nunique()).sort_values()\n",
    "# number of unique 3'ends for each event\n",
    "bleed_duplicated_num_3ends = bleed_out_bed_duplicated.as_df().groupby([\"Name\", \"Strand\"]).apply(lambda df: df.End.nunique() if (df.Strand == \"+\").all() else df.Start.nunique()).sort_values()\n",
    "\n",
    "print(f\"Number of duplicated bleedthrough events with multiple 5'ends - {bleed_duplicated_num_5ends[bleed_duplicated_num_5ends > 1].index.nunique()}\")\n",
    "print(f\"Number of duplicated bleedthrough events with multiple 3'ends - {bleed_duplicated_num_3ends[bleed_duplicated_num_3ends > 1].index.nunique()}\")"
   ]
  },
  {
   "cell_type": "code",
   "execution_count": 52,
   "metadata": {},
   "outputs": [
    {
     "data": {
      "text/plain": [
       "annot_status\n",
       "novel    919\n",
       "Name: count, dtype: int64"
      ]
     },
     "execution_count": 52,
     "metadata": {},
     "output_type": "execute_result"
    }
   ],
   "source": [
    "# A small minority have multiple 5'ends but the majority have multiple 3'ends\n",
    "# annotated events went through select_rep_prox_site, so should only have a single 3'end reported per le_id\n",
    "# are the duplicated events almost exclusively novel?\n",
    "dexseq_df[dexseq_df.le_id.isin(bleed_out_bed_duplicated.Name.str.split(\"|\", expand=True)[0])].annot_status.value_counts()"
   ]
  },
  {
   "cell_type": "code",
   "execution_count": 53,
   "metadata": {},
   "outputs": [
    {
     "name": "stdout",
     "output_type": "stream",
     "text": [
      "Number of intervals in novel spliced gr before collapsing 3'ends\n",
      "3\n",
      "background    352\n",
      "cryptic        67\n",
      "Name: count, dtype: int64\n",
      "Number of unique identifiers in novel spliced gr before collapsing 3'ends\n",
      "3\n",
      "background    346\n",
      "cryptic        67\n",
      "Name: count, dtype: int64\n",
      "Number of intervals in novel spliced gr after collapsing 3'ends\n",
      "3\n",
      "background    350\n",
      "cryptic        67\n",
      "Name: count, dtype: int64\n",
      "Number of unique identifiers in novel spliced gr after collapsing 3'ends\n",
      "3\n",
      "background    346\n",
      "cryptic        67\n",
      "Name: count, dtype: int64\n",
      "Number of intervals in novel bleedthrough gr before collapsing 3'ends\n",
      "3\n",
      "background    934\n",
      "cryptic        55\n",
      "Name: count, dtype: int64\n",
      "Number of unique identifiers in novel bleedthrough gr before collapsing 3'ends\n",
      "3\n",
      "background    273\n",
      "cryptic        18\n",
      "Name: count, dtype: int64\n",
      "Number of intervals in novel bleedthrough gr after collapsing 3'ends\n",
      "3\n",
      "background    273\n",
      "cryptic        18\n",
      "Name: count, dtype: int64\n",
      "Number of unique identifiers in novel bleedthrough gr after collapsing 3'ends\n",
      "3\n",
      "background    273\n",
      "cryptic        18\n",
      "Name: count, dtype: int64\n"
     ]
    }
   ],
   "source": [
    "# Quick and dirty solution would be to just run select_rep_prox_site, i.e. select the most distal PAS where there are duplicates\n",
    "def num_intervals_by_reg_status(gr, drop_duplicates=False):\n",
    "\n",
    "    name_split = gr.Name.str.split(\"|\", expand=True)\n",
    "\n",
    "    if drop_duplicates:\n",
    "        name_split = name_split.drop_duplicates()\n",
    "\n",
    "    return name_split[3].value_counts()\n",
    "\n",
    "# collapse beds\n",
    "novel_le_rep_spliced_clpsd = select_rep_prox_site(novel_le_rep_spliced[[\"Score\", \"Name\"]], id_col=\"Name\").drop_duplicate_positions()\n",
    "novel_le_rep_bleed_quant_clpsd = select_rep_prox_site(novel_le_rep_bleed_quant[[\"Score\", \"Name\"]], id_col=\"Name\").drop_duplicate_positions()\n",
    "\n",
    "# number of regions + number of unique IDs for each group\n",
    "print(\"Number of intervals in novel spliced gr before collapsing 3'ends\")\n",
    "print(num_intervals_by_reg_status(novel_le_rep_spliced))\n",
    "print(\"Number of unique identifiers in novel spliced gr before collapsing 3'ends\")\n",
    "print(num_intervals_by_reg_status(novel_le_rep_spliced, True))\n",
    "\n",
    "print(\"Number of intervals in novel spliced gr after collapsing 3'ends\")\n",
    "print(num_intervals_by_reg_status(novel_le_rep_spliced_clpsd))\n",
    "print(\"Number of unique identifiers in novel spliced gr after collapsing 3'ends\")\n",
    "print(num_intervals_by_reg_status(novel_le_rep_spliced_clpsd, True))\n",
    "\n",
    "print(\"Number of intervals in novel bleedthrough gr before collapsing 3'ends\")\n",
    "print(num_intervals_by_reg_status(novel_le_rep_bleed_quant))\n",
    "print(\"Number of unique identifiers in novel bleedthrough gr before collapsing 3'ends\")\n",
    "print(num_intervals_by_reg_status(novel_le_rep_bleed_quant, True))\n",
    "\n",
    "print(\"Number of intervals in novel bleedthrough gr after collapsing 3'ends\")\n",
    "print(num_intervals_by_reg_status(novel_le_rep_bleed_quant_clpsd))\n",
    "print(\"Number of unique identifiers in novel bleedthrough gr after collapsing 3'ends\")\n",
    "print(num_intervals_by_reg_status(novel_le_rep_bleed_quant_clpsd, True))\n"
   ]
  },
  {
   "cell_type": "code",
   "execution_count": 54,
   "metadata": {},
   "outputs": [
    {
     "data": {
      "text/html": [
       "<div>\n",
       "<style scoped>\n",
       "    .dataframe tbody tr th:only-of-type {\n",
       "        vertical-align: middle;\n",
       "    }\n",
       "\n",
       "    .dataframe tbody tr th {\n",
       "        vertical-align: top;\n",
       "    }\n",
       "\n",
       "    .dataframe thead th {\n",
       "        text-align: right;\n",
       "    }\n",
       "</style>\n",
       "<table border=\"1\" class=\"dataframe\">\n",
       "  <thead>\n",
       "    <tr style=\"text-align: right;\">\n",
       "      <th></th>\n",
       "      <th>Chromosome</th>\n",
       "      <th>Start</th>\n",
       "      <th>End</th>\n",
       "      <th>Score</th>\n",
       "      <th>Strand</th>\n",
       "      <th>Name</th>\n",
       "    </tr>\n",
       "  </thead>\n",
       "  <tbody>\n",
       "    <tr>\n",
       "      <th>0</th>\n",
       "      <td>chr5</td>\n",
       "      <td>50965151</td>\n",
       "      <td>50965903</td>\n",
       "      <td>.</td>\n",
       "      <td>-</td>\n",
       "      <td>ENSG00000251573.2_2|LINC02106|spliced|background</td>\n",
       "    </tr>\n",
       "    <tr>\n",
       "      <th>1</th>\n",
       "      <td>chr5</td>\n",
       "      <td>50965151</td>\n",
       "      <td>50969108</td>\n",
       "      <td>.</td>\n",
       "      <td>-</td>\n",
       "      <td>ENSG00000251573.2_2|LINC02106|spliced|background</td>\n",
       "    </tr>\n",
       "    <tr>\n",
       "      <th>2</th>\n",
       "      <td>chr9</td>\n",
       "      <td>77384584</td>\n",
       "      <td>77385112</td>\n",
       "      <td>.</td>\n",
       "      <td>+</td>\n",
       "      <td>ENSG00000197969.14_5|VPS13A|spliced|background</td>\n",
       "    </tr>\n",
       "    <tr>\n",
       "      <th>3</th>\n",
       "      <td>chr9</td>\n",
       "      <td>77382278</td>\n",
       "      <td>77385112</td>\n",
       "      <td>.</td>\n",
       "      <td>+</td>\n",
       "      <td>ENSG00000197969.14_5|VPS13A|spliced|background</td>\n",
       "    </tr>\n",
       "    <tr>\n",
       "      <th>4</th>\n",
       "      <td>chr17</td>\n",
       "      <td>83011422</td>\n",
       "      <td>83012328</td>\n",
       "      <td>.</td>\n",
       "      <td>-</td>\n",
       "      <td>ENSG00000175711.9_2|B3GNTL1|spliced|background</td>\n",
       "    </tr>\n",
       "    <tr>\n",
       "      <th>5</th>\n",
       "      <td>chr17</td>\n",
       "      <td>83011422</td>\n",
       "      <td>83012606</td>\n",
       "      <td>.</td>\n",
       "      <td>-</td>\n",
       "      <td>ENSG00000175711.9_2|B3GNTL1|spliced|background</td>\n",
       "    </tr>\n",
       "    <tr>\n",
       "      <th>6</th>\n",
       "      <td>chrX</td>\n",
       "      <td>74196348</td>\n",
       "      <td>74203953</td>\n",
       "      <td>.</td>\n",
       "      <td>-</td>\n",
       "      <td>ENSG00000230590.12_4|FTX|spliced|background</td>\n",
       "    </tr>\n",
       "    <tr>\n",
       "      <th>7</th>\n",
       "      <td>chrX</td>\n",
       "      <td>74196348</td>\n",
       "      <td>74203909</td>\n",
       "      <td>.</td>\n",
       "      <td>-</td>\n",
       "      <td>ENSG00000230590.12_4|FTX|spliced|background</td>\n",
       "    </tr>\n",
       "  </tbody>\n",
       "</table>\n",
       "</div>"
      ],
      "text/plain": [
       "+--------------+-----------+-----------+------------+--------------+-------+\n",
       "| Chromosome   |     Start |       End | Score      | Strand       | +1    |\n",
       "| (category)   |   (int64) |   (int64) | (object)   | (category)   | ...   |\n",
       "|--------------+-----------+-----------+------------+--------------+-------|\n",
       "| chr5         |  50965151 |  50965903 | .          | -            | ...   |\n",
       "| chr5         |  50965151 |  50969108 | .          | -            | ...   |\n",
       "| chr9         |  77384584 |  77385112 | .          | +            | ...   |\n",
       "| chr9         |  77382278 |  77385112 | .          | +            | ...   |\n",
       "| chr17        |  83011422 |  83012328 | .          | -            | ...   |\n",
       "| chr17        |  83011422 |  83012606 | .          | -            | ...   |\n",
       "| chrX         |  74196348 |  74203953 | .          | -            | ...   |\n",
       "| chrX         |  74196348 |  74203909 | .          | -            | ...   |\n",
       "+--------------+-----------+-----------+------------+--------------+-------+\n",
       "Stranded PyRanges object has 8 rows and 6 columns from 4 chromosomes.\n",
       "For printing, the PyRanges was sorted on Chromosome and Strand.\n",
       "1 hidden columns: Name"
      ]
     },
     "execution_count": 54,
     "metadata": {},
     "output_type": "execute_result"
    }
   ],
   "source": [
    "# 3'end collapsing solves it for bleedthroughs events but not spliced events...\n",
    "# len(novel_le_rep_bleed_quant_clpsd[novel_le_rep_bleed_quant_clpsd.Name.isin()])\n",
    "# print(\"Spliced - try to collapse at 5'end\")\n",
    "# print(num_intervals_by_reg_status(select_rep_five_end(novel_le_rep_spliced_clpsd, \"Name\").drop_duplicate_positions()))\n",
    "# look at the events that have same 3'end but distinct 5'ends\n",
    "novel_le_rep_spliced_clpsd[novel_le_rep_spliced_clpsd.Name.isin(novel_le_rep_spliced_clpsd.drop_duplicate_positions().Name.value_counts().loc[lambda x: x > 1].index)]"
   ]
  },
  {
   "cell_type": "code",
   "execution_count": 55,
   "metadata": {},
   "outputs": [
    {
     "name": "stdout",
     "output_type": "stream",
     "text": [
      "Number of intervals in novel spliced gr before collapsing 3'ends\n",
      "3\n",
      "background    352\n",
      "cryptic        67\n",
      "Name: count, dtype: int64\n",
      "Number of unique identifiers in novel spliced gr before collapsing 3'ends\n",
      "3\n",
      "background    346\n",
      "cryptic        67\n",
      "Name: count, dtype: int64\n",
      "Number of intervals in novel spliced gr after collapsing 3'ends & 5'ends\n",
      "3\n",
      "background    346\n",
      "cryptic        67\n",
      "Name: count, dtype: int64\n",
      "Number of unique identifiers in novel spliced gr after collapsing 3'ends & 5'ends\n",
      "3\n",
      "background    346\n",
      "cryptic        67\n",
      "Name: count, dtype: int64\n"
     ]
    }
   ],
   "source": [
    "# solution should be to collapse further at 5'end (arbitrarily) - just affects 3 background events so shouldn't be a biggie\n",
    "novel_le_rep_spliced_clpsd = select_rep_five_end(novel_le_rep_spliced_clpsd, \"Name\")\n",
    "print(\"Number of intervals in novel spliced gr before collapsing 3'ends\")\n",
    "print(num_intervals_by_reg_status(novel_le_rep_spliced))\n",
    "print(\"Number of unique identifiers in novel spliced gr before collapsing 3'ends\")\n",
    "print(num_intervals_by_reg_status(novel_le_rep_spliced, True))\n",
    "\n",
    "print(\"Number of intervals in novel spliced gr after collapsing 3'ends & 5'ends\")\n",
    "print(num_intervals_by_reg_status(novel_le_rep_spliced_clpsd))\n",
    "print(\"Number of unique identifiers in novel spliced gr after collapsing 3'ends & 5'ends\")\n",
    "print(num_intervals_by_reg_status(novel_le_rep_spliced_clpsd, True))"
   ]
  },
  {
   "cell_type": "code",
   "execution_count": 56,
   "metadata": {},
   "outputs": [
    {
     "name": "stdout",
     "output_type": "stream",
     "text": [
      "Number of intervals in novel spliced gr before collapsing 3'ends\n",
      "3\n",
      "background    249\n",
      "cryptic        67\n",
      "Name: count, dtype: int64\n",
      "Number of unique identifiers in novel spliced gr before collapsing 3'ends\n",
      "3\n",
      "background    245\n",
      "cryptic        67\n",
      "Name: count, dtype: int64\n",
      "Number of intervals in novel spliced gr after collapsing 3'ends\n",
      "3\n",
      "background    248\n",
      "cryptic        67\n",
      "Name: count, dtype: int64\n",
      "Number of unique identifiers in novel spliced gr after collapsing 3'ends\n",
      "3\n",
      "background    245\n",
      "cryptic        67\n",
      "Name: count, dtype: int64\n",
      "Number of intervals in novel spliced gr after collapsing 3'ends & 5'ends\n",
      "3\n",
      "background    245\n",
      "cryptic        67\n",
      "Name: count, dtype: int64\n",
      "Number of unique identifiers in novel spliced gr after collapsing 3'ends & 5'ends\n",
      "3\n",
      "background    245\n",
      "cryptic        67\n",
      "Name: count, dtype: int64\n"
     ]
    }
   ],
   "source": [
    "# repeat the same collapsing procedure for SH-SY5Y\n",
    "# first spliced\n",
    "novel_le_rep_spliced_shsy5y_all\n",
    "# collapse beds\n",
    "novel_le_rep_spliced_shsy5y_all_clpsd = select_rep_prox_site(novel_le_rep_spliced_shsy5y_all[[\"Score\", \"Name\"]], id_col=\"Name\").drop_duplicate_positions()\n",
    "\n",
    "# number of regions + number of unique IDs for each group\n",
    "print(\"Number of intervals in novel spliced gr before collapsing 3'ends\")\n",
    "print(num_intervals_by_reg_status(novel_le_rep_spliced_shsy5y_all))\n",
    "print(\"Number of unique identifiers in novel spliced gr before collapsing 3'ends\")\n",
    "print(num_intervals_by_reg_status(novel_le_rep_spliced_shsy5y_all, True))\n",
    "\n",
    "print(\"Number of intervals in novel spliced gr after collapsing 3'ends\")\n",
    "print(num_intervals_by_reg_status(novel_le_rep_spliced_shsy5y_all_clpsd))\n",
    "print(\"Number of unique identifiers in novel spliced gr after collapsing 3'ends\")\n",
    "print(num_intervals_by_reg_status(novel_le_rep_spliced_shsy5y_all_clpsd, True))\n",
    "\n",
    "# solution should be to collapse further at 5'end (arbitrarily) - just affects 3 background events so shouldn't be a biggie\n",
    "novel_le_rep_spliced_shsy5y_all_clpsd = select_rep_five_end(novel_le_rep_spliced_shsy5y_all_clpsd, \"Name\")\n",
    "\n",
    "print(\"Number of intervals in novel spliced gr after collapsing 3'ends & 5'ends\")\n",
    "print(num_intervals_by_reg_status(novel_le_rep_spliced_shsy5y_all_clpsd))\n",
    "print(\"Number of unique identifiers in novel spliced gr after collapsing 3'ends & 5'ends\")\n",
    "print(num_intervals_by_reg_status(novel_le_rep_spliced_shsy5y_all_clpsd, True))"
   ]
  },
  {
   "cell_type": "code",
   "execution_count": 57,
   "metadata": {},
   "outputs": [
    {
     "name": "stdout",
     "output_type": "stream",
     "text": [
      "Number of intervals in novel bleedthrough gr before collapsing 3'ends\n",
      "3\n",
      "background    969\n",
      "cryptic        55\n",
      "Name: count, dtype: int64\n",
      "Number of unique identifiers in novel bleedthrough gr before collapsing 3'ends\n",
      "3\n",
      "background    207\n",
      "cryptic        18\n",
      "Name: count, dtype: int64\n",
      "Number of intervals in novel bleedthrough gr after collapsing 3'ends\n",
      "3\n",
      "background    207\n",
      "cryptic        18\n",
      "Name: count, dtype: int64\n",
      "Number of unique identifiers in novel bleedthrough gr after collapsing 3'ends\n",
      "3\n",
      "background    207\n",
      "cryptic        18\n",
      "Name: count, dtype: int64\n"
     ]
    }
   ],
   "source": [
    "# now collapse bleedthroughs\n",
    "novel_le_rep_bleed_shsy5y_all_quant_clpsd = select_rep_prox_site(novel_le_rep_bleed_shsy5y_all_quant[[\"Score\", \"Name\"]], id_col=\"Name\").drop_duplicate_positions()\n",
    "\n",
    "print(\"Number of intervals in novel bleedthrough gr before collapsing 3'ends\")\n",
    "print(num_intervals_by_reg_status(novel_le_rep_bleed_shsy5y_all_quant))\n",
    "print(\"Number of unique identifiers in novel bleedthrough gr before collapsing 3'ends\")\n",
    "print(num_intervals_by_reg_status(novel_le_rep_bleed_shsy5y_all_quant, True))\n",
    "\n",
    "print(\"Number of intervals in novel bleedthrough gr after collapsing 3'ends\")\n",
    "print(num_intervals_by_reg_status(novel_le_rep_bleed_shsy5y_all_quant_clpsd))\n",
    "print(\"Number of unique identifiers in novel bleedthrough gr after collapsing 3'ends\")\n",
    "print(num_intervals_by_reg_status(novel_le_rep_bleed_shsy5y_all_quant_clpsd, True))"
   ]
  },
  {
   "cell_type": "code",
   "execution_count": 58,
   "metadata": {},
   "outputs": [],
   "source": [
    "# re-combine the output BEDs\n",
    "spliced_out_bed = pr.concat([novel_le_rep_spliced_clpsd[[\"Score\", \"Name\"]].drop_duplicate_positions(),\n",
    "                             ref_le_spliced[[\"Score\", \"Name\"]].drop_duplicate_positions()])\n",
    "\n",
    "bleed_out_bed = pr.concat([novel_le_rep_bleed_quant_clpsd[[\"Score\", \"Name\"]].drop_duplicate_positions(),\n",
    "                             ref_le_bleed[[\"Score\", \"Name\"]].drop_duplicate_positions()])\n",
    "\n",
    "# and the shsy5y-bg BEDs\n",
    "spliced_out_bed_shsy5y_all = pr.concat([novel_le_rep_spliced_shsy5y_all_clpsd[[\"Score\", \"Name\"]].drop_duplicate_positions(),\n",
    "                                        ref_le_spliced_shsy5y_all[[\"Score\", \"Name\"]].drop_duplicate_positions()])\n",
    "\n",
    "bleed_out_bed_shsy5y_all = pr.concat([novel_le_rep_bleed_shsy5y_all_quant_clpsd[[\"Score\", \"Name\"]].drop_duplicate_positions(),\n",
    "                                      ref_le_bleed_shsy5y_all[[\"Score\", \"Name\"]].drop_duplicate_positions()])\n",
    "\n",
    "\n"
   ]
  },
  {
   "cell_type": "code",
   "execution_count": 59,
   "metadata": {},
   "outputs": [
    {
     "data": {
      "text/html": [
       "<div>\n",
       "<style scoped>\n",
       "    .dataframe tbody tr th:only-of-type {\n",
       "        vertical-align: middle;\n",
       "    }\n",
       "\n",
       "    .dataframe tbody tr th {\n",
       "        vertical-align: top;\n",
       "    }\n",
       "\n",
       "    .dataframe thead th {\n",
       "        text-align: right;\n",
       "    }\n",
       "</style>\n",
       "<table border=\"1\" class=\"dataframe\">\n",
       "  <thead>\n",
       "    <tr style=\"text-align: right;\">\n",
       "      <th></th>\n",
       "      <th>event_type</th>\n",
       "      <th>reg_status</th>\n",
       "      <th>count</th>\n",
       "    </tr>\n",
       "  </thead>\n",
       "  <tbody>\n",
       "    <tr>\n",
       "      <th>0</th>\n",
       "      <td>spliced_all_background</td>\n",
       "      <td>background</td>\n",
       "      <td>1892</td>\n",
       "    </tr>\n",
       "    <tr>\n",
       "      <th>1</th>\n",
       "      <td>spliced_all_background</td>\n",
       "      <td>cryptic</td>\n",
       "      <td>92</td>\n",
       "    </tr>\n",
       "    <tr>\n",
       "      <th>2</th>\n",
       "      <td>spliced_shsy5y_background</td>\n",
       "      <td>background</td>\n",
       "      <td>929</td>\n",
       "    </tr>\n",
       "    <tr>\n",
       "      <th>3</th>\n",
       "      <td>spliced_shsy5y_background</td>\n",
       "      <td>cryptic</td>\n",
       "      <td>92</td>\n",
       "    </tr>\n",
       "    <tr>\n",
       "      <th>4</th>\n",
       "      <td>bleedthrough_all_background</td>\n",
       "      <td>background</td>\n",
       "      <td>1147</td>\n",
       "    </tr>\n",
       "    <tr>\n",
       "      <th>5</th>\n",
       "      <td>bleedthrough_all_background</td>\n",
       "      <td>cryptic</td>\n",
       "      <td>20</td>\n",
       "    </tr>\n",
       "    <tr>\n",
       "      <th>6</th>\n",
       "      <td>bleed_out_bed_shsy5y_all</td>\n",
       "      <td>background</td>\n",
       "      <td>532</td>\n",
       "    </tr>\n",
       "    <tr>\n",
       "      <th>7</th>\n",
       "      <td>bleed_out_bed_shsy5y_all</td>\n",
       "      <td>cryptic</td>\n",
       "      <td>20</td>\n",
       "    </tr>\n",
       "  </tbody>\n",
       "</table>\n",
       "</div>"
      ],
      "text/plain": [
       "                    event_type  reg_status  count\n",
       "0       spliced_all_background  background   1892\n",
       "1       spliced_all_background     cryptic     92\n",
       "2    spliced_shsy5y_background  background    929\n",
       "3    spliced_shsy5y_background     cryptic     92\n",
       "4  bleedthrough_all_background  background   1147\n",
       "5  bleedthrough_all_background     cryptic     20\n",
       "6     bleed_out_bed_shsy5y_all  background    532\n",
       "7     bleed_out_bed_shsy5y_all     cryptic     20"
      ]
     },
     "execution_count": 59,
     "metadata": {},
     "output_type": "execute_result"
    }
   ],
   "source": [
    "event_counts = {}\n",
    "for nm, gr in {\"spliced_all_background\": spliced_out_bed,\n",
    "               \"spliced_shsy5y_background\": spliced_out_bed_shsy5y_all,\n",
    "               \"bleedthrough_all_background\": bleed_out_bed,\n",
    "               \"bleed_out_bed_shsy5y_all\": bleed_out_bed_shsy5y_all}.items():\n",
    "    \n",
    "    event_counts[nm] = gr.Name.str.split(\"|\", expand=True)[3].rename(\"reg_status\").value_counts()\n",
    "\n",
    "\n",
    "\n",
    "event_counts_df = pd.concat(event_counts, names=[\"event_type\"]).reset_index()\n",
    "event_counts_df\n"
   ]
  },
  {
   "cell_type": "code",
   "execution_count": 215,
   "metadata": {},
   "outputs": [],
   "source": [
    "if not os.path.exists(\"../processed/iclip_regions\"):\n",
    "    os.makedirs(\"../processed/iclip_regions\")\n",
    "\n",
    "def gr_to_beds(gr, out_prefix):\n",
    "\n",
    "    # full last exon\n",
    "    gr.to_bed(out_prefix + \".last_exons.bed\")\n",
    "    # 5'end\n",
    "    gr.five_end().to_bed(out_prefix + \".le_start.bed\")\n",
    "    # 3'end\n",
    "    gr.three_end().to_bed(out_prefix + \".pas.bed\")\n",
    "\n",
    "\n",
    "\n",
    "gr_to_beds(spliced_out_bed, \"../processed/iclip_regions/2023-12-14_papa_cryptic_spliced.background_all\")\n",
    "gr_to_beds(spliced_out_bed_shsy5y_all, \"../processed/iclip_regions/2023-12-14_papa_cryptic_spliced.background_shsy5y\")\n",
    "gr_to_beds(bleed_out_bed, \"../processed/iclip_regions/2023-12-14_papa_cryptic_bleedthrough_uniq.background_all\")\n",
    "gr_to_beds(bleed_out_bed_shsy5y_all, \"../processed/iclip_regions/2023-12-14_papa_cryptic_bleedthrough_uniq.background_shsy5y\")\n",
    "event_counts_df.to_csv(\"../processed/iclip_regions/2023-12-14_papa_bleedthrough_spliced.event_counts.tsv\", sep=\"\\t\", header=True,index=False)\n",
    "\n"
   ]
  }
 ],
 "metadata": {
  "kernelspec": {
   "display_name": "pybioinfo",
   "language": "python",
   "name": "python3"
  },
  "language_info": {
   "codemirror_mode": {
    "name": "ipython",
    "version": 3
   },
   "file_extension": ".py",
   "mimetype": "text/x-python",
   "name": "python",
   "nbconvert_exporter": "python",
   "pygments_lexer": "ipython3",
   "version": "3.10.11"
  },
  "orig_nbformat": 4
 },
 "nbformat": 4,
 "nbformat_minor": 2
}
