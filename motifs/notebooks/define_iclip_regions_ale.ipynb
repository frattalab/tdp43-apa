{
 "cells": [
  {
   "cell_type": "code",
   "execution_count": 1,
   "metadata": {},
   "outputs": [],
   "source": [
    "import pyranges as pr\n",
    "import pandas as pd\n",
    "import numpy as np\n",
    "from define_helpers import *\n",
    "import os"
   ]
  },
  {
   "cell_type": "code",
   "execution_count": 2,
   "metadata": {},
   "outputs": [],
   "source": [
    "# input novel last exons used to generate combined reference of last exons\n",
    "novel_le = pr.read_gtf(\"../data/papa/2023-03-29_papa_i3_cortical_upf1_zanovello_overlap_annotated.gtf\")\n",
    "# dexseq results df (used to extract cryptic events of each class)\n",
    "dexseq_df = pd.read_csv(\"../data/papa/2023-05-24_i3_cortical_zanovello.all_datasets.dexseq_apa.results.processed.cleaned.tsv\", sep=\"\\t\")\n",
    "# refeence GTF used to identify novel last exons, quantify vs ref\n",
    "ref_gtf = pr.read_gtf(\"../data/reference_filtered.gtf\")\n",
    "# \n",
    "tx2le = pd.read_csv(\"../data/papa/novel_ref_combined.tx2le.tsv\", sep=\"\\t\")\n",
    "\n",
    "# last exon quantification regions used as input to Salmon\n",
    "quant_uniq_le = pr.read_gtf(\"../data/papa/novel_ref_combined.quant.last_exons.gtf\")\n",
    "\n",
    "\n",
    "info_df = pd.read_csv(\"../data/papa/novel_ref_combined.info.tsv\", sep=\"\\t\")"
   ]
  },
  {
   "cell_type": "code",
   "execution_count": 3,
   "metadata": {},
   "outputs": [
    {
     "data": {
      "text/plain": [
       "simple_event_type\n",
       "spliced                  130806\n",
       "bleedthrough              41453\n",
       "distal_3utr_extension     37225\n",
       "Name: count, dtype: int64"
      ]
     },
     "execution_count": 3,
     "metadata": {},
     "output_type": "execute_result"
    }
   ],
   "source": [
    "# get le_ids that are novel bleedthroughs or ALEs\n",
    "# le_id_spliced = set(dexseq_df[dexseq_df.simple_event_type == \"distal_3utr_extension\"].le_id)\n",
    "# le_id_bleed = set(dexseq_df[dexseq_df.simple_event_type == \"distal_3utr_extension\"].le_id)\n",
    "dexseq_df.simple_event_type.value_counts()\n"
   ]
  },
  {
   "cell_type": "code",
   "execution_count": 4,
   "metadata": {},
   "outputs": [],
   "source": [
    "le_id_spliced = dexseq_df.loc[dexseq_df.simple_event_type == \"spliced\", \"le_id\"]\n",
    "le_id_bleed = dexseq_df.loc[dexseq_df.simple_event_type == \"bleedthrough\", \"le_id\"]\n",
    "le_id_d3utr = dexseq_df.loc[dexseq_df.simple_event_type == \"distal_3utr_extension\", \"le_id\"]\n"
   ]
  },
  {
   "cell_type": "code",
   "execution_count": 5,
   "metadata": {},
   "outputs": [
    {
     "name": "stdout",
     "output_type": "stream",
     "text": [
      "Number of spliced last exons with 3'UTR extension - 58895\n"
     ]
    },
    {
     "data": {
      "text/plain": [
       "0         ENSG00000021645.20_1\n",
       "1         ENSG00000021645.20_4\n",
       "2         ENSG00000021645.20_4\n",
       "3         ENSG00000048649.14_1\n",
       "4         ENSG00000048649.14_1\n",
       "                  ...         \n",
       "209475     ENSG00000278311.5_5\n",
       "209480     ENSG00000280832.2_1\n",
       "209481     ENSG00000280832.2_2\n",
       "209482     ENSG00000282508.2_4\n",
       "209483     ENSG00000282508.2_6\n",
       "Name: le_id, Length: 71911, dtype: object"
      ]
     },
     "execution_count": 5,
     "metadata": {},
     "output_type": "execute_result"
    }
   ],
   "source": [
    "# good idea to ensure don't consider spliced LEs that have a 3'UTR extension\n",
    "# UPDATE now need to select representative proximal site for each distal site, since quantification approach lumps together all annotated proximal sites (and compares them to extension) \n",
    "# since le_ids are annotated sequentially, know that immediately succeeding le_number is the partner le_id\n",
    "le_id_spliced_spl = le_id_spliced.str.split(\"_\", regex=False, expand=True)\n",
    "le_id_spliced_spl[1] = le_id_spliced_spl[1].astype(int).add(1)\n",
    "# reconstruct le_id (corresponding to theoretical distal 3'UTR extension le_id)\n",
    "le_id_spliced_d3utr = le_id_spliced_spl[0].str.cat(le_id_spliced_spl[1].astype(str), sep=\"_\")\n",
    "\n",
    "# now have theoretical distal 3'UTR le_ids, intersect with actual ids - any overlapping will be removed from downstream analysis\n",
    "spliced_d3utr_olap = le_id_spliced_d3utr.isin(le_id_d3utr.values)\n",
    "print(f\"Number of spliced last exons with 3'UTR extension - {spliced_d3utr_olap.sum()}\")\n",
    "\n",
    "# now use mask to remove these ALEs\n",
    "le_id_spliced = le_id_spliced[~spliced_d3utr_olap]\n",
    "le_id_spliced\n"
   ]
  },
  {
   "cell_type": "code",
   "execution_count": 6,
   "metadata": {},
   "outputs": [
    {
     "name": "stdout",
     "output_type": "stream",
     "text": [
      "{'atlas_1_pred': 571, 'atlas_max_datasets': 143, 'atlas_max_datasets_shortest': 98, 'motif_1_min': 321, 'motif_shortest_min': 160}\n"
     ]
    }
   ],
   "source": [
    "# add le_id used in downstream analysis\n",
    "novel_le = novel_le.apply(lambda df: df.merge(tx2le, on=\"transcript_id\", how=\"inner\", suffixes=[None, \"_quant\"]))\n",
    "\n",
    "\n",
    "# Select representative PAS for bleedthroughs and spliced events\n",
    "novel_le_rep_spliced, rep_choices_spliced = select_rep_site(novel_le.subset(lambda df: df.le_id_quant.isin(set(le_id_spliced))),id_col=\"le_id_quant\")\n",
    "\n",
    "print({dec: len(ids) for dec, ids in rep_choices_spliced.items()})\n"
   ]
  }
 ],
 "metadata": {
  "kernelspec": {
   "display_name": "pybioinfo",
   "language": "python",
   "name": "python3"
  },
  "language_info": {
   "codemirror_mode": {
    "name": "ipython",
    "version": 3
   },
   "file_extension": ".py",
   "mimetype": "text/x-python",
   "name": "python",
   "nbconvert_exporter": "python",
   "pygments_lexer": "ipython3",
   "version": "3.10.11"
  },
  "orig_nbformat": 4
 },
 "nbformat": 4,
 "nbformat_minor": 2
}
